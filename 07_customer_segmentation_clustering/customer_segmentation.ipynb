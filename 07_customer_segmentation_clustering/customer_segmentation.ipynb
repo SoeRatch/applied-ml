{
  "cells": [
    {
      "cell_type": "markdown",
      "metadata": {
        "id": "uMkUtG_ZxnWX"
      },
      "source": [
        "# Case Study: Customer segmentation on the Mall Customers dataset"
      ]
    },
    {
      "cell_type": "markdown",
      "metadata": {
        "id": "8WEfcSaRx8D8"
      },
      "source": [
        "## Objective"
      ]
    },
    {
      "cell_type": "markdown",
      "metadata": {
        "id": "RHc-bzMmyU7R"
      },
      "source": [
        "The objective of this case study is to apply clustering techniques on the Mall Customers dataset to segment customers into distinct groups based on their demographic and spending behavior. By identifying patterns across age, gender, annual income, and spending score, the study aims to uncover meaningful customer segments that can help businesses design targeted marketing strategies, personalize promotions, and improve customer engagement."
      ]
    },
    {
      "cell_type": "markdown",
      "metadata": {
        "id": "NRGOzKV_x8x5"
      },
      "source": [
        "## Dataset Overview"
      ]
    },
    {
      "cell_type": "markdown",
      "metadata": {
        "id": "3IcCgghWyiKP"
      },
      "source": [
        "The dataset used in this case study is the Mall Customers dataset, which contains basic demographic and spending-related information of customers.\n",
        "\n",
        "It has the following columns:\n",
        "\n",
        "- **CustomerID:** Unique identifier assigned to each customer.\n",
        "\n",
        "- **Gender:** Gender of the customer (Male/Female).\n",
        "\n",
        "- **Age:** Age of the customer in years.\n",
        "\n",
        "- **Annual Income (k$):** Annual income of the customer, measured in thousand dollars.\n",
        "\n",
        "- **Spending Score (1-100):** Score assigned by the mall based on customer behavior and spending patterns (higher values indicate higher spending)."
      ]
    },
    {
      "cell_type": "markdown",
      "metadata": {
        "id": "29V2jHGJyC0c"
      },
      "source": [
        "## Load the Dataset"
      ]
    },
    {
      "cell_type": "code",
      "execution_count": 1,
      "metadata": {
        "colab": {
          "base_uri": "https://localhost:8080/",
          "height": 206
        },
        "id": "MYP477mwzi8b",
        "outputId": "6b4b4597-f6ae-48b2-fbd2-3f519ac66842"
      },
      "outputs": [
        {
          "data": {
            "text/html": [
              "<div>\n",
              "<style scoped>\n",
              "    .dataframe tbody tr th:only-of-type {\n",
              "        vertical-align: middle;\n",
              "    }\n",
              "\n",
              "    .dataframe tbody tr th {\n",
              "        vertical-align: top;\n",
              "    }\n",
              "\n",
              "    .dataframe thead th {\n",
              "        text-align: right;\n",
              "    }\n",
              "</style>\n",
              "<table border=\"1\" class=\"dataframe\">\n",
              "  <thead>\n",
              "    <tr style=\"text-align: right;\">\n",
              "      <th></th>\n",
              "      <th>CustomerID</th>\n",
              "      <th>Gender</th>\n",
              "      <th>Age</th>\n",
              "      <th>Annual Income (k$)</th>\n",
              "      <th>Spending Score (1-100)</th>\n",
              "    </tr>\n",
              "  </thead>\n",
              "  <tbody>\n",
              "    <tr>\n",
              "      <th>0</th>\n",
              "      <td>1</td>\n",
              "      <td>Male</td>\n",
              "      <td>19</td>\n",
              "      <td>15</td>\n",
              "      <td>39</td>\n",
              "    </tr>\n",
              "    <tr>\n",
              "      <th>1</th>\n",
              "      <td>2</td>\n",
              "      <td>Male</td>\n",
              "      <td>21</td>\n",
              "      <td>15</td>\n",
              "      <td>81</td>\n",
              "    </tr>\n",
              "    <tr>\n",
              "      <th>2</th>\n",
              "      <td>3</td>\n",
              "      <td>Female</td>\n",
              "      <td>20</td>\n",
              "      <td>16</td>\n",
              "      <td>6</td>\n",
              "    </tr>\n",
              "    <tr>\n",
              "      <th>3</th>\n",
              "      <td>4</td>\n",
              "      <td>Female</td>\n",
              "      <td>23</td>\n",
              "      <td>16</td>\n",
              "      <td>77</td>\n",
              "    </tr>\n",
              "    <tr>\n",
              "      <th>4</th>\n",
              "      <td>5</td>\n",
              "      <td>Female</td>\n",
              "      <td>31</td>\n",
              "      <td>17</td>\n",
              "      <td>40</td>\n",
              "    </tr>\n",
              "  </tbody>\n",
              "</table>\n",
              "</div>"
            ],
            "text/plain": [
              "   CustomerID  Gender  Age  Annual Income (k$)  Spending Score (1-100)\n",
              "0           1    Male   19                  15                      39\n",
              "1           2    Male   21                  15                      81\n",
              "2           3  Female   20                  16                       6\n",
              "3           4  Female   23                  16                      77\n",
              "4           5  Female   31                  17                      40"
            ]
          },
          "execution_count": 1,
          "metadata": {},
          "output_type": "execute_result"
        }
      ],
      "source": [
        "import pandas as pd\n",
        "import numpy as np\n",
        "import seaborn as sns\n",
        "import matplotlib.pyplot as plt\n",
        "\n",
        "df = pd.read_csv('data/Mall_Customers.csv')\n",
        "df.head()"
      ]
    },
    {
      "cell_type": "code",
      "execution_count": 2,
      "metadata": {
        "id": "B2kOybDH2pdg"
      },
      "outputs": [],
      "source": [
        "df = df.drop('CustomerID',axis=1)"
      ]
    },
    {
      "cell_type": "code",
      "execution_count": 3,
      "metadata": {
        "colab": {
          "base_uri": "https://localhost:8080/"
        },
        "id": "s6aN22aWzy8w",
        "outputId": "f09bb8c7-0d4c-4a63-d35e-f0af0531d34f"
      },
      "outputs": [
        {
          "name": "stdout",
          "output_type": "stream",
          "text": [
            "<class 'pandas.core.frame.DataFrame'>\n",
            "RangeIndex: 200 entries, 0 to 199\n",
            "Data columns (total 4 columns):\n",
            " #   Column                  Non-Null Count  Dtype \n",
            "---  ------                  --------------  ----- \n",
            " 0   Gender                  200 non-null    object\n",
            " 1   Age                     200 non-null    int64 \n",
            " 2   Annual Income (k$)      200 non-null    int64 \n",
            " 3   Spending Score (1-100)  200 non-null    int64 \n",
            "dtypes: int64(3), object(1)\n",
            "memory usage: 6.4+ KB\n"
          ]
        }
      ],
      "source": [
        "df.info()"
      ]
    },
    {
      "cell_type": "markdown",
      "metadata": {
        "id": "mZv3mO2lyDk1"
      },
      "source": [
        "## EDA"
      ]
    },
    {
      "cell_type": "code",
      "execution_count": 4,
      "metadata": {
        "colab": {
          "base_uri": "https://localhost:8080/",
          "height": 209
        },
        "id": "LwiIZAdU0F0a",
        "outputId": "048c23a2-ea88-41b4-8598-62a3298267db"
      },
      "outputs": [
        {
          "data": {
            "text/plain": [
              "Gender                    0\n",
              "Age                       0\n",
              "Annual Income (k$)        0\n",
              "Spending Score (1-100)    0\n",
              "dtype: int64"
            ]
          },
          "execution_count": 4,
          "metadata": {},
          "output_type": "execute_result"
        }
      ],
      "source": [
        "# Check missing values\n",
        "df.isnull().sum()"
      ]
    },
    {
      "cell_type": "code",
      "execution_count": 5,
      "metadata": {
        "colab": {
          "base_uri": "https://localhost:8080/",
          "height": 300
        },
        "id": "iBs_3ewN0Nl7",
        "outputId": "98ff543b-38c4-45aa-96b7-5a8d662f49ed"
      },
      "outputs": [
        {
          "data": {
            "text/html": [
              "<div>\n",
              "<style scoped>\n",
              "    .dataframe tbody tr th:only-of-type {\n",
              "        vertical-align: middle;\n",
              "    }\n",
              "\n",
              "    .dataframe tbody tr th {\n",
              "        vertical-align: top;\n",
              "    }\n",
              "\n",
              "    .dataframe thead th {\n",
              "        text-align: right;\n",
              "    }\n",
              "</style>\n",
              "<table border=\"1\" class=\"dataframe\">\n",
              "  <thead>\n",
              "    <tr style=\"text-align: right;\">\n",
              "      <th></th>\n",
              "      <th>Age</th>\n",
              "      <th>Annual Income (k$)</th>\n",
              "      <th>Spending Score (1-100)</th>\n",
              "    </tr>\n",
              "  </thead>\n",
              "  <tbody>\n",
              "    <tr>\n",
              "      <th>count</th>\n",
              "      <td>200.000000</td>\n",
              "      <td>200.000000</td>\n",
              "      <td>200.000000</td>\n",
              "    </tr>\n",
              "    <tr>\n",
              "      <th>mean</th>\n",
              "      <td>38.850000</td>\n",
              "      <td>60.560000</td>\n",
              "      <td>50.200000</td>\n",
              "    </tr>\n",
              "    <tr>\n",
              "      <th>std</th>\n",
              "      <td>13.969007</td>\n",
              "      <td>26.264721</td>\n",
              "      <td>25.823522</td>\n",
              "    </tr>\n",
              "    <tr>\n",
              "      <th>min</th>\n",
              "      <td>18.000000</td>\n",
              "      <td>15.000000</td>\n",
              "      <td>1.000000</td>\n",
              "    </tr>\n",
              "    <tr>\n",
              "      <th>25%</th>\n",
              "      <td>28.750000</td>\n",
              "      <td>41.500000</td>\n",
              "      <td>34.750000</td>\n",
              "    </tr>\n",
              "    <tr>\n",
              "      <th>50%</th>\n",
              "      <td>36.000000</td>\n",
              "      <td>61.500000</td>\n",
              "      <td>50.000000</td>\n",
              "    </tr>\n",
              "    <tr>\n",
              "      <th>75%</th>\n",
              "      <td>49.000000</td>\n",
              "      <td>78.000000</td>\n",
              "      <td>73.000000</td>\n",
              "    </tr>\n",
              "    <tr>\n",
              "      <th>max</th>\n",
              "      <td>70.000000</td>\n",
              "      <td>137.000000</td>\n",
              "      <td>99.000000</td>\n",
              "    </tr>\n",
              "  </tbody>\n",
              "</table>\n",
              "</div>"
            ],
            "text/plain": [
              "              Age  Annual Income (k$)  Spending Score (1-100)\n",
              "count  200.000000          200.000000              200.000000\n",
              "mean    38.850000           60.560000               50.200000\n",
              "std     13.969007           26.264721               25.823522\n",
              "min     18.000000           15.000000                1.000000\n",
              "25%     28.750000           41.500000               34.750000\n",
              "50%     36.000000           61.500000               50.000000\n",
              "75%     49.000000           78.000000               73.000000\n",
              "max     70.000000          137.000000               99.000000"
            ]
          },
          "execution_count": 5,
          "metadata": {},
          "output_type": "execute_result"
        }
      ],
      "source": [
        "# Check numerical columns\n",
        "df.describe()"
      ]
    },
    {
      "cell_type": "code",
      "execution_count": 6,
      "metadata": {
        "colab": {
          "base_uri": "https://localhost:8080/",
          "height": 178
        },
        "id": "wCKSvRTN0abC",
        "outputId": "4e880bc6-b08c-4d97-c892-a75ddd327ccf"
      },
      "outputs": [
        {
          "data": {
            "text/plain": [
              "Gender\n",
              "Female    112\n",
              "Male       88\n",
              "Name: count, dtype: int64"
            ]
          },
          "execution_count": 6,
          "metadata": {},
          "output_type": "execute_result"
        }
      ],
      "source": [
        "# Check distribution of categorical column, i.e gender\n",
        "df[\"Gender\"].value_counts()"
      ]
    },
    {
      "cell_type": "code",
      "execution_count": 7,
      "metadata": {
        "colab": {
          "base_uri": "https://localhost:8080/",
          "height": 997
        },
        "id": "m-oz-q7p0vwc",
        "outputId": "708768b6-cb3e-473b-d848-38af175b19af"
      },
      "outputs": [
        {
          "data": {
            "text/plain": [
              "<seaborn.matrix.ClusterGrid at 0x144287f50>"
            ]
          },
          "execution_count": 7,
          "metadata": {},
          "output_type": "execute_result"
        },
        {
          "data": {
            "image/png": "[encoded data removed]",
            "text/plain": [
              "<Figure size 1000x1000 with 4 Axes>"
            ]
          },
          "metadata": {},
          "output_type": "display_data"
        }
      ],
      "source": [
        "# Visualize hierarchical clustering\n",
        "import numpy as np\n",
        "import seaborn as sns\n",
        "import matplotlib.pyplot as plt\n",
        "\n",
        "sns.clustermap(df.select_dtypes(np.number).corr())\n"
      ]
    },
    {
      "cell_type": "markdown",
      "metadata": {
        "id": "oKyAHH7Q3M66"
      },
      "source": [
        "- Here we can see that the older the age, less the spending score. Age is negatively correlated, so if age is less, the spending score is also high.\n",
        "- More the age, annual income should be high but here it is not showing highly correlated.\n",
        "\n"
      ]
    },
    {
      "cell_type": "code",
      "execution_count": 8,
      "metadata": {
        "colab": {
          "base_uri": "https://localhost:8080/",
          "height": 559
        },
        "id": "UagGk5P237XU",
        "outputId": "65b596ab-5c24-4a11-8653-bcc618b0fb9f"
      },
      "outputs": [
        {
          "data": {
            "text/plain": [
              "<Axes: xlabel='Annual Income (k$)', ylabel='Age'>"
            ]
          },
          "execution_count": 8,
          "metadata": {},
          "output_type": "execute_result"
        },
        {
          "data": {
            "image/png": "[encoded data removed]",
            "text/plain": [
              "<Figure size 800x600 with 1 Axes>"
            ]
          },
          "metadata": {},
          "output_type": "display_data"
        }
      ],
      "source": [
        "# Check patterns in income and age distribution across genders\n",
        "\n",
        "plt.figure(figsize=(8,6),dpi=100)\n",
        "sns.scatterplot(data=df, x='Annual Income (k$)', y='Age', hue='Gender', palette='viridis')"
      ]
    },
    {
      "cell_type": "markdown",
      "metadata": {
        "id": "BPyzYHXy6agG"
      },
      "source": [
        "No such relationship or pattern with annual income"
      ]
    },
    {
      "cell_type": "code",
      "execution_count": 9,
      "metadata": {
        "colab": {
          "base_uri": "https://localhost:8080/",
          "height": 827
        },
        "id": "6GSiZtE67TCR",
        "outputId": "4fbec05f-7ee6-4046-ecbe-b36061048532"
      },
      "outputs": [
        {
          "data": {
            "text/plain": [
              "Text(0.5, 1.05, 'Pairplot')"
            ]
          },
          "execution_count": 9,
          "metadata": {},
          "output_type": "execute_result"
        },
        {
          "data": {
            "image/png": "[encoded data removed]",
            "text/plain": [
              "<Figure size 750x750 with 12 Axes>"
            ]
          },
          "metadata": {},
          "output_type": "display_data"
        }
      ],
      "source": [
        "# Check correlation with pairplot\n",
        "sns.pairplot(df)\n",
        "plt.suptitle('Pairplot',y=1.05)"
      ]
    },
    {
      "cell_type": "markdown",
      "metadata": {
        "id": "fCMhdr30OhSu"
      },
      "source": [
        "There is some kind of clusters or patterns between Annual income and spending score."
      ]
    },
    {
      "cell_type": "code",
      "execution_count": 10,
      "metadata": {
        "colab": {
          "base_uri": "https://localhost:8080/",
          "height": 559
        },
        "id": "9e11y8Uh4F0z",
        "outputId": "733bc975-5259-4a33-a0cc-125302170154"
      },
      "outputs": [
        {
          "data": {
            "text/plain": [
              "<Axes: xlabel='Spending Score (1-100)', ylabel='Annual Income (k$)'>"
            ]
          },
          "execution_count": 10,
          "metadata": {},
          "output_type": "execute_result"
        },
        {
          "data": {
            "image/png": "[encoded data removed]",
            "text/plain": [
              "<Figure size 800x600 with 1 Axes>"
            ]
          },
          "metadata": {},
          "output_type": "display_data"
        }
      ],
      "source": [
        "# Check patterns in Annual income and spending score across genders\n",
        "\n",
        "plt.figure(figsize=(8,6),dpi=100)\n",
        "sns.scatterplot(data=df, x='Spending Score (1-100)', y='Annual Income (k$)', hue='Gender', palette='viridis')"
      ]
    },
    {
      "cell_type": "markdown",
      "metadata": {
        "id": "vJIwHEGFY30O"
      },
      "source": [
        "- Almost 5 clusters are visible"
      ]
    },
    {
      "cell_type": "code",
      "execution_count": 11,
      "metadata": {
        "colab": {
          "base_uri": "https://localhost:8080/",
          "height": 559
        },
        "id": "TOXKmaDtZJ3g",
        "outputId": "27246cf6-a148-4365-ed85-bdd65aaada0b"
      },
      "outputs": [
        {
          "data": {
            "text/plain": [
              "<Axes: xlabel='Spending Score (1-100)', ylabel='Age'>"
            ]
          },
          "execution_count": 11,
          "metadata": {},
          "output_type": "execute_result"
        },
        {
          "data": {
            "image/png": "[encoded data removed]",
            "text/plain": [
              "<Figure size 800x600 with 1 Axes>"
            ]
          },
          "metadata": {},
          "output_type": "display_data"
        }
      ],
      "source": [
        "# Check patterns in spending score and age across genders\n",
        "\n",
        "plt.figure(figsize=(8,6),dpi=100)\n",
        "sns.scatterplot(data=df, x='Spending Score (1-100)', y='Age', hue='Gender', palette='viridis')"
      ]
    },
    {
      "cell_type": "markdown",
      "metadata": {
        "id": "lB9YP20zZmI3"
      },
      "source": [
        "- No such significant patterns or clusters but slight negative correlation between age and spending score indicating lower the age , higher the spending score, which makes sense."
      ]
    },
    {
      "cell_type": "code",
      "execution_count": 12,
      "metadata": {
        "colab": {
          "base_uri": "https://localhost:8080/",
          "height": 627
        },
        "id": "vn0B8KZ6aFup",
        "outputId": "e3393ea2-73a8-42b4-9c67-3890d2f33934"
      },
      "outputs": [
        {
          "name": "stderr",
          "output_type": "stream",
          "text": [
            "/var/folders/q_/nq1j8h3j7w5846w87zdj8hvr0000gn/T/ipykernel_2900/3821851188.py:3: FutureWarning: \n",
            "\n",
            "Passing `palette` without assigning `hue` is deprecated and will be removed in v0.14.0. Assign the `x` variable to `hue` and set `legend=False` for the same effect.\n",
            "\n",
            "  sns.countplot(data=df, x='Age', palette='viridis')\n"
          ]
        },
        {
          "data": {
            "text/plain": [
              "<Axes: xlabel='Age', ylabel='count'>"
            ]
          },
          "execution_count": 12,
          "metadata": {},
          "output_type": "execute_result"
        },
        {
          "data": {
            "image/png": "[encoded data removed]",
            "text/plain": [
              "<Figure size 1500x600 with 1 Axes>"
            ]
          },
          "metadata": {},
          "output_type": "display_data"
        }
      ],
      "source": [
        "# Distribution of age\n",
        "plt.figure(figsize=(15,6),dpi=100)\n",
        "sns.countplot(data=df, x='Age', palette='viridis')"
      ]
    },
    {
      "cell_type": "markdown",
      "metadata": {
        "id": "k2IbS2zlbD_U"
      },
      "source": [
        "- Many people are around the age of 30"
      ]
    },
    {
      "cell_type": "code",
      "execution_count": 13,
      "metadata": {
        "colab": {
          "base_uri": "https://localhost:8080/",
          "height": 524
        },
        "id": "Yok9WONha3LR",
        "outputId": "6de64d46-0b8b-4ff3-f9c5-638d04c910d4"
      },
      "outputs": [
        {
          "data": {
            "text/plain": [
              "<Axes: xlabel='Age', ylabel='count'>"
            ]
          },
          "execution_count": 13,
          "metadata": {},
          "output_type": "execute_result"
        },
        {
          "data": {
            "image/png": "[encoded data removed]",
            "text/plain": [
              "<Figure size 1500x600 with 1 Axes>"
            ]
          },
          "metadata": {},
          "output_type": "display_data"
        }
      ],
      "source": [
        "# Distribution of age across gender\n",
        "plt.figure(figsize=(15,6),dpi=100)\n",
        "sns.countplot(data=df, x='Age', hue='Gender', palette='viridis')"
      ]
    },
    {
      "cell_type": "code",
      "execution_count": 14,
      "metadata": {
        "colab": {
          "base_uri": "https://localhost:8080/",
          "height": 626
        },
        "id": "B8Q12rQzbRad",
        "outputId": "7555c747-4353-4926-9e9e-1c6c1948662a"
      },
      "outputs": [
        {
          "name": "stderr",
          "output_type": "stream",
          "text": [
            "/var/folders/q_/nq1j8h3j7w5846w87zdj8hvr0000gn/T/ipykernel_2900/3817978310.py:3: FutureWarning: \n",
            "\n",
            "Passing `palette` without assigning `hue` is deprecated and will be removed in v0.14.0. Assign the `x` variable to `hue` and set `legend=False` for the same effect.\n",
            "\n",
            "  sns.countplot(data=df, x='Annual Income (k$)', palette='viridis')\n"
          ]
        },
        {
          "data": {
            "text/plain": [
              "<Axes: xlabel='Annual Income (k$)', ylabel='count'>"
            ]
          },
          "execution_count": 14,
          "metadata": {},
          "output_type": "execute_result"
        },
        {
          "data": {
            "image/png": "[encoded data removed]",
            "text/plain": [
              "<Figure size 1500x600 with 1 Axes>"
            ]
          },
          "metadata": {},
          "output_type": "display_data"
        }
      ],
      "source": [
        "# Distribution of Annual income\n",
        "plt.figure(figsize=(15,6),dpi=100)\n",
        "sns.countplot(data=df, x='Annual Income (k$)', palette='viridis')"
      ]
    },
    {
      "cell_type": "markdown",
      "metadata": {
        "id": "gCJTsNlobc2Z"
      },
      "source": [
        "- No uniform distribution for Annual income"
      ]
    },
    {
      "cell_type": "code",
      "execution_count": 15,
      "metadata": {
        "colab": {
          "base_uri": "https://localhost:8080/",
          "height": 513
        },
        "id": "q0rFefzKbgW_",
        "outputId": "3d61b58a-8395-4b6a-ca4b-a238cfee786a"
      },
      "outputs": [
        {
          "name": "stderr",
          "output_type": "stream",
          "text": [
            "/var/folders/q_/nq1j8h3j7w5846w87zdj8hvr0000gn/T/ipykernel_2900/4241821420.py:3: FutureWarning: \n",
            "\n",
            "Passing `palette` without assigning `hue` is deprecated and will be removed in v0.14.0. Assign the `x` variable to `hue` and set `legend=False` for the same effect.\n",
            "\n",
            "  sns.countplot(data=df, x='Spending Score (1-100)', palette='viridis')\n"
          ]
        },
        {
          "data": {
            "text/plain": [
              "<Axes: xlabel='Spending Score (1-100)', ylabel='count'>"
            ]
          },
          "execution_count": 15,
          "metadata": {},
          "output_type": "execute_result"
        },
        {
          "data": {
            "image/png": "[encoded data removed]",
            "text/plain": [
              "<Figure size 2000x600 with 1 Axes>"
            ]
          },
          "metadata": {},
          "output_type": "display_data"
        }
      ],
      "source": [
        "# Distribution of Spending Score (1-100)\n",
        "plt.figure(figsize=(20,6),dpi=100)\n",
        "sns.countplot(data=df, x='Spending Score (1-100)', palette='viridis')"
      ]
    },
    {
      "cell_type": "code",
      "execution_count": 16,
      "metadata": {
        "colab": {
          "base_uri": "https://localhost:8080/",
          "height": 573
        },
        "id": "bcvOzSp_cQ3J",
        "outputId": "8db406b3-72bb-456c-c20e-58ec26f47654"
      },
      "outputs": [
        {
          "name": "stderr",
          "output_type": "stream",
          "text": [
            "/var/folders/q_/nq1j8h3j7w5846w87zdj8hvr0000gn/T/ipykernel_2900/3665445352.py:1: FutureWarning: \n",
            "\n",
            "Passing `palette` without assigning `hue` is deprecated and will be removed in v0.14.0. Assign the `y` variable to `hue` and set `legend=False` for the same effect.\n",
            "\n",
            "  sns.boxplot(data=df, y='Gender',x='Spending Score (1-100)', palette='viridis')\n"
          ]
        },
        {
          "data": {
            "text/plain": [
              "<Axes: xlabel='Spending Score (1-100)', ylabel='Gender'>"
            ]
          },
          "execution_count": 16,
          "metadata": {},
          "output_type": "execute_result"
        },
        {
          "data": {
            "image/png": "[encoded data removed]",
            "text/plain": [
              "<Figure size 640x480 with 1 Axes>"
            ]
          },
          "metadata": {},
          "output_type": "display_data"
        }
      ],
      "source": [
        "sns.boxplot(data=df, y='Gender',x='Spending Score (1-100)', palette='viridis')"
      ]
    },
    {
      "cell_type": "code",
      "execution_count": 17,
      "metadata": {
        "colab": {
          "base_uri": "https://localhost:8080/",
          "height": 143
        },
        "id": "jrSSzQbnclPP",
        "outputId": "3ea680ad-dc95-4aad-e26b-6d734903e00c"
      },
      "outputs": [
        {
          "data": {
            "text/html": [
              "<div>\n",
              "<style scoped>\n",
              "    .dataframe tbody tr th:only-of-type {\n",
              "        vertical-align: middle;\n",
              "    }\n",
              "\n",
              "    .dataframe tbody tr th {\n",
              "        vertical-align: top;\n",
              "    }\n",
              "\n",
              "    .dataframe thead th {\n",
              "        text-align: right;\n",
              "    }\n",
              "</style>\n",
              "<table border=\"1\" class=\"dataframe\">\n",
              "  <thead>\n",
              "    <tr style=\"text-align: right;\">\n",
              "      <th></th>\n",
              "      <th>count</th>\n",
              "      <th>mean</th>\n",
              "      <th>std</th>\n",
              "      <th>min</th>\n",
              "      <th>25%</th>\n",
              "      <th>50%</th>\n",
              "      <th>75%</th>\n",
              "      <th>max</th>\n",
              "    </tr>\n",
              "    <tr>\n",
              "      <th>Gender</th>\n",
              "      <th></th>\n",
              "      <th></th>\n",
              "      <th></th>\n",
              "      <th></th>\n",
              "      <th></th>\n",
              "      <th></th>\n",
              "      <th></th>\n",
              "      <th></th>\n",
              "    </tr>\n",
              "  </thead>\n",
              "  <tbody>\n",
              "    <tr>\n",
              "      <th>Female</th>\n",
              "      <td>112.0</td>\n",
              "      <td>51.526786</td>\n",
              "      <td>24.11495</td>\n",
              "      <td>5.0</td>\n",
              "      <td>35.0</td>\n",
              "      <td>50.0</td>\n",
              "      <td>73.0</td>\n",
              "      <td>99.0</td>\n",
              "    </tr>\n",
              "    <tr>\n",
              "      <th>Male</th>\n",
              "      <td>88.0</td>\n",
              "      <td>48.511364</td>\n",
              "      <td>27.89677</td>\n",
              "      <td>1.0</td>\n",
              "      <td>24.5</td>\n",
              "      <td>50.0</td>\n",
              "      <td>70.0</td>\n",
              "      <td>97.0</td>\n",
              "    </tr>\n",
              "  </tbody>\n",
              "</table>\n",
              "</div>"
            ],
            "text/plain": [
              "        count       mean       std  min   25%   50%   75%   max\n",
              "Gender                                                         \n",
              "Female  112.0  51.526786  24.11495  5.0  35.0  50.0  73.0  99.0\n",
              "Male     88.0  48.511364  27.89677  1.0  24.5  50.0  70.0  97.0"
            ]
          },
          "execution_count": 17,
          "metadata": {},
          "output_type": "execute_result"
        }
      ],
      "source": [
        "df.groupby('Gender')['Spending Score (1-100)'].describe()"
      ]
    },
    {
      "cell_type": "markdown",
      "metadata": {
        "id": "xhRwNOQRcbvM"
      },
      "source": [
        "- Female spenders are more"
      ]
    },
    {
      "cell_type": "code",
      "execution_count": 18,
      "metadata": {
        "colab": {
          "base_uri": "https://localhost:8080/",
          "height": 573
        },
        "id": "H1qgRbQ5lgy3",
        "outputId": "3de82260-4539-4ac5-9c6e-9d9668217374"
      },
      "outputs": [
        {
          "name": "stderr",
          "output_type": "stream",
          "text": [
            "/var/folders/q_/nq1j8h3j7w5846w87zdj8hvr0000gn/T/ipykernel_2900/2259778381.py:1: FutureWarning: \n",
            "\n",
            "Passing `palette` without assigning `hue` is deprecated and will be removed in v0.14.0. Assign the `y` variable to `hue` and set `legend=False` for the same effect.\n",
            "\n",
            "  sns.boxplot(data=df, y='Gender',x='Annual Income (k$)', palette='viridis')\n"
          ]
        },
        {
          "data": {
            "text/plain": [
              "<Axes: xlabel='Annual Income (k$)', ylabel='Gender'>"
            ]
          },
          "execution_count": 18,
          "metadata": {},
          "output_type": "execute_result"
        },
        {
          "data": {
            "image/png": "[encoded data removed]",
            "text/plain": [
              "<Figure size 640x480 with 1 Axes>"
            ]
          },
          "metadata": {},
          "output_type": "display_data"
        }
      ],
      "source": [
        "sns.boxplot(data=df, y='Gender',x='Annual Income (k$)', palette='viridis')"
      ]
    },
    {
      "cell_type": "code",
      "execution_count": 19,
      "metadata": {
        "colab": {
          "base_uri": "https://localhost:8080/",
          "height": 143
        },
        "id": "YkDH33xjlWXe",
        "outputId": "96342ba6-050c-4719-a3be-b0640f442c5e"
      },
      "outputs": [
        {
          "data": {
            "text/html": [
              "<div>\n",
              "<style scoped>\n",
              "    .dataframe tbody tr th:only-of-type {\n",
              "        vertical-align: middle;\n",
              "    }\n",
              "\n",
              "    .dataframe tbody tr th {\n",
              "        vertical-align: top;\n",
              "    }\n",
              "\n",
              "    .dataframe thead th {\n",
              "        text-align: right;\n",
              "    }\n",
              "</style>\n",
              "<table border=\"1\" class=\"dataframe\">\n",
              "  <thead>\n",
              "    <tr style=\"text-align: right;\">\n",
              "      <th></th>\n",
              "      <th>count</th>\n",
              "      <th>mean</th>\n",
              "      <th>std</th>\n",
              "      <th>min</th>\n",
              "      <th>25%</th>\n",
              "      <th>50%</th>\n",
              "      <th>75%</th>\n",
              "      <th>max</th>\n",
              "    </tr>\n",
              "    <tr>\n",
              "      <th>Gender</th>\n",
              "      <th></th>\n",
              "      <th></th>\n",
              "      <th></th>\n",
              "      <th></th>\n",
              "      <th></th>\n",
              "      <th></th>\n",
              "      <th></th>\n",
              "      <th></th>\n",
              "    </tr>\n",
              "  </thead>\n",
              "  <tbody>\n",
              "    <tr>\n",
              "      <th>Female</th>\n",
              "      <td>112.0</td>\n",
              "      <td>59.250000</td>\n",
              "      <td>26.011952</td>\n",
              "      <td>16.0</td>\n",
              "      <td>39.75</td>\n",
              "      <td>60.0</td>\n",
              "      <td>77.25</td>\n",
              "      <td>126.0</td>\n",
              "    </tr>\n",
              "    <tr>\n",
              "      <th>Male</th>\n",
              "      <td>88.0</td>\n",
              "      <td>62.227273</td>\n",
              "      <td>26.638373</td>\n",
              "      <td>15.0</td>\n",
              "      <td>45.50</td>\n",
              "      <td>62.5</td>\n",
              "      <td>78.00</td>\n",
              "      <td>137.0</td>\n",
              "    </tr>\n",
              "  </tbody>\n",
              "</table>\n",
              "</div>"
            ],
            "text/plain": [
              "        count       mean        std   min    25%   50%    75%    max\n",
              "Gender                                                              \n",
              "Female  112.0  59.250000  26.011952  16.0  39.75  60.0  77.25  126.0\n",
              "Male     88.0  62.227273  26.638373  15.0  45.50  62.5  78.00  137.0"
            ]
          },
          "execution_count": 19,
          "metadata": {},
          "output_type": "execute_result"
        }
      ],
      "source": [
        "df.groupby('Gender')['Annual Income (k$)'].describe()"
      ]
    },
    {
      "cell_type": "markdown",
      "metadata": {
        "id": "ypwki5WPyIcq"
      },
      "source": [
        "## Preprocessing"
      ]
    },
    {
      "cell_type": "code",
      "execution_count": 21,
      "metadata": {
        "colab": {
          "base_uri": "https://localhost:8080/",
          "height": 423
        },
        "id": "xsLhLMxol_Sd",
        "outputId": "66ddea43-1e57-46b6-ada5-ae3d1ff18924"
      },
      "outputs": [
        {
          "data": {
            "text/html": [
              "<div>\n",
              "<style scoped>\n",
              "    .dataframe tbody tr th:only-of-type {\n",
              "        vertical-align: middle;\n",
              "    }\n",
              "\n",
              "    .dataframe tbody tr th {\n",
              "        vertical-align: top;\n",
              "    }\n",
              "\n",
              "    .dataframe thead th {\n",
              "        text-align: right;\n",
              "    }\n",
              "</style>\n",
              "<table border=\"1\" class=\"dataframe\">\n",
              "  <thead>\n",
              "    <tr style=\"text-align: right;\">\n",
              "      <th></th>\n",
              "      <th>Gender</th>\n",
              "      <th>Age</th>\n",
              "      <th>Annual Income (k$)</th>\n",
              "      <th>Spending Score (1-100)</th>\n",
              "    </tr>\n",
              "  </thead>\n",
              "  <tbody>\n",
              "    <tr>\n",
              "      <th>0</th>\n",
              "      <td>Male</td>\n",
              "      <td>19</td>\n",
              "      <td>15</td>\n",
              "      <td>39</td>\n",
              "    </tr>\n",
              "    <tr>\n",
              "      <th>1</th>\n",
              "      <td>Male</td>\n",
              "      <td>21</td>\n",
              "      <td>15</td>\n",
              "      <td>81</td>\n",
              "    </tr>\n",
              "    <tr>\n",
              "      <th>2</th>\n",
              "      <td>Female</td>\n",
              "      <td>20</td>\n",
              "      <td>16</td>\n",
              "      <td>6</td>\n",
              "    </tr>\n",
              "    <tr>\n",
              "      <th>3</th>\n",
              "      <td>Female</td>\n",
              "      <td>23</td>\n",
              "      <td>16</td>\n",
              "      <td>77</td>\n",
              "    </tr>\n",
              "    <tr>\n",
              "      <th>4</th>\n",
              "      <td>Female</td>\n",
              "      <td>31</td>\n",
              "      <td>17</td>\n",
              "      <td>40</td>\n",
              "    </tr>\n",
              "    <tr>\n",
              "      <th>...</th>\n",
              "      <td>...</td>\n",
              "      <td>...</td>\n",
              "      <td>...</td>\n",
              "      <td>...</td>\n",
              "    </tr>\n",
              "    <tr>\n",
              "      <th>195</th>\n",
              "      <td>Female</td>\n",
              "      <td>35</td>\n",
              "      <td>120</td>\n",
              "      <td>79</td>\n",
              "    </tr>\n",
              "    <tr>\n",
              "      <th>196</th>\n",
              "      <td>Female</td>\n",
              "      <td>45</td>\n",
              "      <td>126</td>\n",
              "      <td>28</td>\n",
              "    </tr>\n",
              "    <tr>\n",
              "      <th>197</th>\n",
              "      <td>Male</td>\n",
              "      <td>32</td>\n",
              "      <td>126</td>\n",
              "      <td>74</td>\n",
              "    </tr>\n",
              "    <tr>\n",
              "      <th>198</th>\n",
              "      <td>Male</td>\n",
              "      <td>32</td>\n",
              "      <td>137</td>\n",
              "      <td>18</td>\n",
              "    </tr>\n",
              "    <tr>\n",
              "      <th>199</th>\n",
              "      <td>Male</td>\n",
              "      <td>30</td>\n",
              "      <td>137</td>\n",
              "      <td>83</td>\n",
              "    </tr>\n",
              "  </tbody>\n",
              "</table>\n",
              "<p>200 rows × 4 columns</p>\n",
              "</div>"
            ],
            "text/plain": [
              "     Gender  Age  Annual Income (k$)  Spending Score (1-100)\n",
              "0      Male   19                  15                      39\n",
              "1      Male   21                  15                      81\n",
              "2    Female   20                  16                       6\n",
              "3    Female   23                  16                      77\n",
              "4    Female   31                  17                      40\n",
              "..      ...  ...                 ...                     ...\n",
              "195  Female   35                 120                      79\n",
              "196  Female   45                 126                      28\n",
              "197    Male   32                 126                      74\n",
              "198    Male   32                 137                      18\n",
              "199    Male   30                 137                      83\n",
              "\n",
              "[200 rows x 4 columns]"
            ]
          },
          "execution_count": 21,
          "metadata": {},
          "output_type": "execute_result"
        }
      ],
      "source": [
        "df"
      ]
    },
    {
      "cell_type": "code",
      "execution_count": 22,
      "metadata": {
        "colab": {
          "base_uri": "https://localhost:8080/",
          "height": 423
        },
        "id": "OldXm5fkxRHw",
        "outputId": "37779bff-0712-4f55-c3e8-4b9d70f1572b"
      },
      "outputs": [
        {
          "data": {
            "text/html": [
              "<div>\n",
              "<style scoped>\n",
              "    .dataframe tbody tr th:only-of-type {\n",
              "        vertical-align: middle;\n",
              "    }\n",
              "\n",
              "    .dataframe tbody tr th {\n",
              "        vertical-align: top;\n",
              "    }\n",
              "\n",
              "    .dataframe thead th {\n",
              "        text-align: right;\n",
              "    }\n",
              "</style>\n",
              "<table border=\"1\" class=\"dataframe\">\n",
              "  <thead>\n",
              "    <tr style=\"text-align: right;\">\n",
              "      <th></th>\n",
              "      <th>Age</th>\n",
              "      <th>Annual Income (k$)</th>\n",
              "      <th>Spending Score (1-100)</th>\n",
              "      <th>Gender_Male</th>\n",
              "    </tr>\n",
              "  </thead>\n",
              "  <tbody>\n",
              "    <tr>\n",
              "      <th>0</th>\n",
              "      <td>19</td>\n",
              "      <td>15</td>\n",
              "      <td>39</td>\n",
              "      <td>True</td>\n",
              "    </tr>\n",
              "    <tr>\n",
              "      <th>1</th>\n",
              "      <td>21</td>\n",
              "      <td>15</td>\n",
              "      <td>81</td>\n",
              "      <td>True</td>\n",
              "    </tr>\n",
              "    <tr>\n",
              "      <th>2</th>\n",
              "      <td>20</td>\n",
              "      <td>16</td>\n",
              "      <td>6</td>\n",
              "      <td>False</td>\n",
              "    </tr>\n",
              "    <tr>\n",
              "      <th>3</th>\n",
              "      <td>23</td>\n",
              "      <td>16</td>\n",
              "      <td>77</td>\n",
              "      <td>False</td>\n",
              "    </tr>\n",
              "    <tr>\n",
              "      <th>4</th>\n",
              "      <td>31</td>\n",
              "      <td>17</td>\n",
              "      <td>40</td>\n",
              "      <td>False</td>\n",
              "    </tr>\n",
              "    <tr>\n",
              "      <th>...</th>\n",
              "      <td>...</td>\n",
              "      <td>...</td>\n",
              "      <td>...</td>\n",
              "      <td>...</td>\n",
              "    </tr>\n",
              "    <tr>\n",
              "      <th>195</th>\n",
              "      <td>35</td>\n",
              "      <td>120</td>\n",
              "      <td>79</td>\n",
              "      <td>False</td>\n",
              "    </tr>\n",
              "    <tr>\n",
              "      <th>196</th>\n",
              "      <td>45</td>\n",
              "      <td>126</td>\n",
              "      <td>28</td>\n",
              "      <td>False</td>\n",
              "    </tr>\n",
              "    <tr>\n",
              "      <th>197</th>\n",
              "      <td>32</td>\n",
              "      <td>126</td>\n",
              "      <td>74</td>\n",
              "      <td>True</td>\n",
              "    </tr>\n",
              "    <tr>\n",
              "      <th>198</th>\n",
              "      <td>32</td>\n",
              "      <td>137</td>\n",
              "      <td>18</td>\n",
              "      <td>True</td>\n",
              "    </tr>\n",
              "    <tr>\n",
              "      <th>199</th>\n",
              "      <td>30</td>\n",
              "      <td>137</td>\n",
              "      <td>83</td>\n",
              "      <td>True</td>\n",
              "    </tr>\n",
              "  </tbody>\n",
              "</table>\n",
              "<p>200 rows × 4 columns</p>\n",
              "</div>"
            ],
            "text/plain": [
              "     Age  Annual Income (k$)  Spending Score (1-100)  Gender_Male\n",
              "0     19                  15                      39         True\n",
              "1     21                  15                      81         True\n",
              "2     20                  16                       6        False\n",
              "3     23                  16                      77        False\n",
              "4     31                  17                      40        False\n",
              "..   ...                 ...                     ...          ...\n",
              "195   35                 120                      79        False\n",
              "196   45                 126                      28        False\n",
              "197   32                 126                      74         True\n",
              "198   32                 137                      18         True\n",
              "199   30                 137                      83         True\n",
              "\n",
              "[200 rows x 4 columns]"
            ]
          },
          "execution_count": 22,
          "metadata": {},
          "output_type": "execute_result"
        }
      ],
      "source": [
        "# Encode categorical columns - only one categorical column - Gender\n",
        "# Converts categorical columns into dummy variables (one-hot encoding)\n",
        "# drop_first=True avoids multicollinearity by dropping the first category\n",
        "df = pd.get_dummies(df,drop_first=True)\n",
        "df"
      ]
    },
    {
      "cell_type": "code",
      "execution_count": 23,
      "metadata": {
        "colab": {
          "base_uri": "https://localhost:8080/"
        },
        "id": "DXU01WVTnGI6",
        "outputId": "3543bc92-9bdd-4bea-f08b-55f710c0bb21"
      },
      "outputs": [
        {
          "data": {
            "text/plain": [
              "array([[-1.42456879, -1.73899919, -0.43480148,  1.12815215],\n",
              "       [-1.28103541, -1.73899919,  1.19570407,  1.12815215]])"
            ]
          },
          "execution_count": 23,
          "metadata": {},
          "output_type": "execute_result"
        }
      ],
      "source": [
        "# Scaling numerical columns\n",
        "\n",
        "from sklearn.preprocessing import StandardScaler\n",
        "\n",
        "scaler = StandardScaler() #Standardizes numerical features so that each has mean=0 and variance=1\n",
        "scaled_df = scaler.fit_transform(df)\n",
        "scaled_df[:2]"
      ]
    },
    {
      "cell_type": "markdown",
      "metadata": {
        "id": "RUXd_CKgn9hR"
      },
      "source": [
        "## Kmeans clustering"
      ]
    },
    {
      "cell_type": "code",
      "execution_count": 24,
      "metadata": {
        "colab": {
          "base_uri": "https://localhost:8080/"
        },
        "id": "tYQIs39zn1c8",
        "outputId": "c1b78338-79de-4b10-a020-c8d4a923c3ab"
      },
      "outputs": [
        {
          "data": {
            "text/plain": [
              "[597.9472937932279,\n",
              " 494.80375001304577,\n",
              " 395.3920903479796,\n",
              " 351.74320617119105,\n",
              " 277.38974019851906,\n",
              " 251.15484911190177,\n",
              " 211.9857629495931,\n",
              " 185.72807688711416,\n",
              " 152.02983429775688]"
            ]
          },
          "execution_count": 24,
          "metadata": {},
          "output_type": "execute_result"
        }
      ],
      "source": [
        "from sklearn.cluster import KMeans\n",
        "\n",
        "ssd = [] # Empty list for sum of squared distances to be appended for k values 2 to 11\n",
        "\n",
        "for k in range(2,11):\n",
        "  kmeans = KMeans(n_clusters=k, random_state=42)\n",
        "  kmeans.fit(scaled_df)\n",
        "  ssd.append(kmeans.inertia_)\n",
        "ssd"
      ]
    },
    {
      "cell_type": "code",
      "execution_count": 25,
      "metadata": {
        "colab": {
          "base_uri": "https://localhost:8080/",
          "height": 405
        },
        "id": "YajiLm7VsvkB",
        "outputId": "d0b2a81d-316a-441b-8499-133a75ce2b96"
      },
      "outputs": [
        {
          "data": {
            "text/plain": [
              "Text(0, 0.5, 'Sum of squared distance')"
            ]
          },
          "execution_count": 25,
          "metadata": {},
          "output_type": "execute_result"
        },
        {
          "data": {
            "image/png": "[encoded data removed]",
            "text/plain": [
              "<Figure size 800x400 with 1 Axes>"
            ]
          },
          "metadata": {},
          "output_type": "display_data"
        }
      ],
      "source": [
        "# Plot the sum of squared distance to determine optimal number of clusters (Elbow method)\n",
        "plt.figure(figsize=(8,4),dpi=100)\n",
        "plt.plot(range(2,11), ssd, marker='o', color= 'green', markerfacecolor='blue', markersize=5)\n",
        "plt.xlabel(\"K value\")\n",
        "plt.ylabel(\"Sum of squared distance\")"
      ]
    },
    {
      "cell_type": "markdown",
      "metadata": {
        "id": "HLreRi5Mt4Nq"
      },
      "source": [
        "- Not clearly indicating whether the k value should be 5 or 6"
      ]
    },
    {
      "cell_type": "code",
      "execution_count": 26,
      "metadata": {
        "colab": {
          "base_uri": "https://localhost:8080/"
        },
        "id": "QjT1TvbDxcti",
        "outputId": "02e9d017-a1b9-4af1-9a5c-3f9b2347027f"
      },
      "outputs": [
        {
          "data": {
            "text/plain": [
              "0.2719102346618833"
            ]
          },
          "execution_count": 26,
          "metadata": {},
          "output_type": "execute_result"
        }
      ],
      "source": [
        "# Check Silhouette score ( ranges from -1 to 1)\n",
        "#  1 - well clustering, 0- overlapping negative and -1 wrong clustering\n",
        "\n",
        "# Check Silhouette score for k = 5\n",
        "from sklearn.metrics import silhouette_score\n",
        "\n",
        "model_kfive = KMeans(n_clusters=5,random_state=42)\n",
        "model_kfive.fit(scaled_df)\n",
        "\n",
        "labels_kfive = model_kfive.predict(scaled_df) # Get cluster labels for each sample\n",
        "silhouette_score(scaled_df, labels_kfive)"
      ]
    },
    {
      "cell_type": "code",
      "execution_count": 27,
      "metadata": {
        "colab": {
          "base_uri": "https://localhost:8080/"
        },
        "id": "64F42jhexAVs",
        "outputId": "bdbe540e-a601-43b6-9335-47323703fa9d"
      },
      "outputs": [
        {
          "data": {
            "text/plain": [
              "0.33475434756692174"
            ]
          },
          "execution_count": 27,
          "metadata": {},
          "output_type": "execute_result"
        }
      ],
      "source": [
        "# Check Silhouette score for k = 6\n",
        "from sklearn.metrics import silhouette_score\n",
        "\n",
        "model_ksix = KMeans(n_clusters=6,random_state=42)\n",
        "model_ksix.fit(scaled_df)\n",
        "\n",
        "labels_ksix = model_ksix.predict(scaled_df) # Get cluster labels for each sample\n",
        "silhouette_score(scaled_df, labels_ksix)"
      ]
    },
    {
      "cell_type": "code",
      "execution_count": 28,
      "metadata": {
        "colab": {
          "base_uri": "https://localhost:8080/",
          "height": 542
        },
        "id": "8UEgjKupxipl",
        "outputId": "0982ebf9-fa6e-4493-d2de-be87d48dcbc9"
      },
      "outputs": [
        {
          "data": {
            "application/vnd.plotly.v1+json": {
              "config": {
                "plotlyServerURL": "https://plot.ly"
              },
              "data": [
                {
                  "hovertemplate": "Gender_Male=True<br>Age=%{x}<br>Annual Income (k$)=%{y}<br>Spending Score (1-100)=%{z}<br>color=%{marker.color}<extra></extra>",
                  "legendgroup": "True",
                  "marker": {
                    "color": [
                      2,
                      2,
                      0,
                      0,
                      0,
                      2,
                      2,
                      0,
                      0,
                      2,
                      2,
                      2,
                      2,
                      0,
                      0,
                      2,
                      2,
                      0,
                      2,
                      0,
                      0,
                      0,
                      0,
                      0,
                      2,
                      0,
                      2,
                      2,
                      0,
                      0,
                      0,
                      0,
                      0,
                      0,
                      0,
                      0,
                      0,
                      0,
                      0,
                      0,
                      0,
                      0,
                      4,
                      0,
                      0,
                      0,
                      0,
                      0,
                      0,
                      4,
                      4,
                      3,
                      4,
                      3,
                      4,
                      3,
                      4,
                      3,
                      4,
                      3,
                      4,
                      3,
                      4,
                      3,
                      4,
                      3,
                      4,
                      3,
                      3,
                      3,
                      3,
                      3,
                      4,
                      3,
                      4,
                      3,
                      4,
                      3,
                      4,
                      3,
                      1,
                      3,
                      1,
                      1,
                      3,
                      1,
                      3,
                      1
                    ],
                    "coloraxis": "coloraxis",
                    "opacity": 0.75,
                    "symbol": "circle"
                  },
                  "mode": "markers",
                  "name": "True",
                  "scene": "scene",
                  "showlegend": true,
                  "type": "scatter3d",
                  "x": [
                    19,
                    21,
                    64,
                    67,
                    37,
                    22,
                    20,
                    52,
                    35,
                    25,
                    31,
                    29,
                    35,
                    60,
                    53,
                    18,
                    24,
                    48,
                    33,
                    59,
                    47,
                    69,
                    53,
                    70,
                    19,
                    63,
                    18,
                    19,
                    70,
                    59,
                    26,
                    40,
                    57,
                    38,
                    67,
                    48,
                    18,
                    48,
                    24,
                    48,
                    20,
                    67,
                    26,
                    49,
                    54,
                    68,
                    66,
                    65,
                    19,
                    27,
                    39,
                    43,
                    40,
                    59,
                    38,
                    47,
                    39,
                    20,
                    32,
                    19,
                    32,
                    25,
                    28,
                    48,
                    34,
                    43,
                    39,
                    37,
                    34,
                    19,
                    50,
                    42,
                    32,
                    40,
                    28,
                    36,
                    36,
                    58,
                    27,
                    59,
                    35,
                    46,
                    30,
                    28,
                    33,
                    32,
                    32,
                    30
                  ],
                  "y": [
                    15,
                    15,
                    19,
                    19,
                    20,
                    20,
                    21,
                    23,
                    24,
                    24,
                    25,
                    28,
                    28,
                    30,
                    33,
                    33,
                    38,
                    39,
                    42,
                    43,
                    43,
                    44,
                    46,
                    46,
                    46,
                    48,
                    48,
                    48,
                    49,
                    54,
                    54,
                    54,
                    54,
                    54,
                    54,
                    54,
                    59,
                    60,
                    60,
                    61,
                    61,
                    62,
                    62,
                    62,
                    63,
                    63,
                    63,
                    63,
                    64,
                    67,
                    69,
                    71,
                    71,
                    71,
                    71,
                    71,
                    71,
                    73,
                    73,
                    74,
                    75,
                    77,
                    77,
                    77,
                    78,
                    78,
                    78,
                    78,
                    78,
                    81,
                    85,
                    86,
                    87,
                    87,
                    87,
                    87,
                    87,
                    88,
                    88,
                    93,
                    93,
                    98,
                    99,
                    101,
                    113,
                    126,
                    137,
                    137
                  ],
                  "z": [
                    39,
                    81,
                    3,
                    14,
                    13,
                    79,
                    66,
                    29,
                    35,
                    73,
                    73,
                    82,
                    61,
                    4,
                    4,
                    92,
                    92,
                    36,
                    60,
                    60,
                    41,
                    46,
                    46,
                    56,
                    55,
                    51,
                    59,
                    59,
                    55,
                    47,
                    54,
                    48,
                    51,
                    55,
                    41,
                    46,
                    41,
                    49,
                    52,
                    42,
                    49,
                    59,
                    55,
                    56,
                    46,
                    43,
                    48,
                    52,
                    46,
                    56,
                    91,
                    35,
                    95,
                    11,
                    75,
                    9,
                    75,
                    5,
                    73,
                    10,
                    93,
                    12,
                    97,
                    36,
                    90,
                    17,
                    88,
                    1,
                    1,
                    5,
                    26,
                    20,
                    63,
                    13,
                    75,
                    10,
                    92,
                    15,
                    69,
                    14,
                    90,
                    15,
                    97,
                    68,
                    8,
                    74,
                    18,
                    83
                  ]
                },
                {
                  "hovertemplate": "Gender_Male=False<br>Age=%{x}<br>Annual Income (k$)=%{y}<br>Spending Score (1-100)=%{z}<br>color=%{marker.color}<extra></extra>",
                  "legendgroup": "False",
                  "marker": {
                    "color": [
                      0,
                      2,
                      0,
                      2,
                      0,
                      2,
                      2,
                      2,
                      0,
                      2,
                      0,
                      2,
                      0,
                      0,
                      0,
                      0,
                      2,
                      2,
                      0,
                      2,
                      0,
                      2,
                      0,
                      2,
                      0,
                      2,
                      0,
                      2,
                      0,
                      0,
                      0,
                      0,
                      0,
                      0,
                      0,
                      0,
                      0,
                      0,
                      0,
                      0,
                      0,
                      0,
                      0,
                      0,
                      0,
                      0,
                      0,
                      0,
                      0,
                      2,
                      0,
                      0,
                      0,
                      0,
                      0,
                      0,
                      0,
                      0,
                      0,
                      0,
                      0,
                      0,
                      0,
                      4,
                      0,
                      0,
                      4,
                      0,
                      0,
                      0,
                      0,
                      0,
                      4,
                      3,
                      4,
                      3,
                      4,
                      4,
                      3,
                      4,
                      3,
                      3,
                      4,
                      4,
                      3,
                      3,
                      4,
                      3,
                      4,
                      4,
                      4,
                      3,
                      4,
                      4,
                      4,
                      4,
                      3,
                      3,
                      4,
                      3,
                      1,
                      1,
                      3,
                      3,
                      3,
                      1,
                      3,
                      1,
                      1,
                      3,
                      1,
                      3
                    ],
                    "coloraxis": "coloraxis",
                    "opacity": 0.75,
                    "symbol": "diamond"
                  },
                  "mode": "markers",
                  "name": "False",
                  "scene": "scene",
                  "showlegend": true,
                  "type": "scatter3d",
                  "x": [
                    20,
                    23,
                    31,
                    22,
                    35,
                    23,
                    30,
                    35,
                    58,
                    24,
                    35,
                    35,
                    46,
                    54,
                    45,
                    40,
                    23,
                    21,
                    49,
                    21,
                    42,
                    30,
                    36,
                    20,
                    65,
                    31,
                    49,
                    24,
                    50,
                    27,
                    29,
                    31,
                    49,
                    31,
                    50,
                    51,
                    27,
                    67,
                    54,
                    43,
                    68,
                    32,
                    47,
                    60,
                    60,
                    45,
                    23,
                    49,
                    46,
                    21,
                    55,
                    22,
                    34,
                    50,
                    68,
                    40,
                    32,
                    47,
                    27,
                    23,
                    49,
                    21,
                    66,
                    19,
                    38,
                    18,
                    19,
                    63,
                    49,
                    51,
                    50,
                    38,
                    40,
                    23,
                    31,
                    25,
                    31,
                    29,
                    44,
                    35,
                    57,
                    28,
                    32,
                    32,
                    34,
                    44,
                    38,
                    47,
                    27,
                    30,
                    30,
                    56,
                    29,
                    31,
                    36,
                    33,
                    36,
                    52,
                    30,
                    37,
                    32,
                    29,
                    41,
                    54,
                    41,
                    36,
                    34,
                    32,
                    38,
                    47,
                    35,
                    45
                  ],
                  "y": [
                    16,
                    16,
                    17,
                    17,
                    18,
                    18,
                    19,
                    19,
                    20,
                    20,
                    21,
                    23,
                    25,
                    28,
                    28,
                    29,
                    29,
                    30,
                    33,
                    33,
                    34,
                    34,
                    37,
                    37,
                    38,
                    39,
                    39,
                    39,
                    40,
                    40,
                    40,
                    40,
                    42,
                    43,
                    43,
                    44,
                    46,
                    47,
                    47,
                    48,
                    48,
                    48,
                    49,
                    50,
                    50,
                    54,
                    54,
                    54,
                    54,
                    54,
                    57,
                    57,
                    58,
                    58,
                    59,
                    60,
                    60,
                    60,
                    60,
                    62,
                    62,
                    62,
                    63,
                    63,
                    64,
                    65,
                    65,
                    65,
                    65,
                    67,
                    67,
                    67,
                    69,
                    70,
                    70,
                    72,
                    72,
                    73,
                    73,
                    74,
                    75,
                    76,
                    76,
                    77,
                    78,
                    78,
                    78,
                    78,
                    78,
                    78,
                    78,
                    79,
                    79,
                    81,
                    85,
                    86,
                    87,
                    88,
                    88,
                    97,
                    97,
                    98,
                    99,
                    101,
                    103,
                    103,
                    103,
                    103,
                    113,
                    120,
                    120,
                    126
                  ],
                  "z": [
                    6,
                    77,
                    40,
                    76,
                    6,
                    94,
                    72,
                    99,
                    15,
                    77,
                    35,
                    98,
                    5,
                    14,
                    32,
                    31,
                    87,
                    73,
                    14,
                    81,
                    17,
                    73,
                    26,
                    75,
                    35,
                    61,
                    28,
                    65,
                    55,
                    47,
                    42,
                    42,
                    52,
                    54,
                    45,
                    50,
                    51,
                    52,
                    59,
                    50,
                    48,
                    47,
                    42,
                    49,
                    56,
                    53,
                    52,
                    42,
                    44,
                    57,
                    58,
                    55,
                    60,
                    46,
                    55,
                    40,
                    42,
                    47,
                    50,
                    41,
                    48,
                    42,
                    50,
                    54,
                    42,
                    48,
                    50,
                    43,
                    59,
                    43,
                    57,
                    40,
                    58,
                    29,
                    77,
                    34,
                    71,
                    88,
                    7,
                    72,
                    5,
                    40,
                    87,
                    74,
                    22,
                    20,
                    76,
                    16,
                    89,
                    78,
                    73,
                    35,
                    83,
                    93,
                    75,
                    95,
                    27,
                    13,
                    86,
                    32,
                    86,
                    88,
                    39,
                    24,
                    17,
                    85,
                    23,
                    69,
                    91,
                    16,
                    79,
                    28
                  ]
                }
              ],
              "layout": {
                "coloraxis": {
                  "colorbar": {
                    "ticks": "outside",
                    "title": {
                      "text": "color"
                    },
                    "x": 0,
                    "y": 1,
                    "yanchor": "top"
                  },
                  "colorscale": [
                    [
                      0,
                      "#0d0887"
                    ],
                    [
                      0.1111111111111111,
                      "#46039f"
                    ],
                    [
                      0.2222222222222222,
                      "#7201a8"
                    ],
                    [
                      0.3333333333333333,
                      "#9c179e"
                    ],
                    [
                      0.4444444444444444,
                      "#bd3786"
                    ],
                    [
                      0.5555555555555556,
                      "#d8576b"
                    ],
                    [
                      0.6666666666666666,
                      "#ed7953"
                    ],
                    [
                      0.7777777777777778,
                      "#fb9f3a"
                    ],
                    [
                      0.8888888888888888,
                      "#fdca26"
                    ],
                    [
                      1,
                      "#f0f921"
                    ]
                  ]
                },
                "legend": {
                  "title": {
                    "text": "Gender_Male"
                  },
                  "tracegroupgap": 0
                },
                "margin": {
                  "t": 60
                },
                "scene": {
                  "domain": {
                    "x": [
                      0,
                      1
                    ],
                    "y": [
                      0,
                      1
                    ]
                  },
                  "xaxis": {
                    "title": {
                      "text": "Age"
                    }
                  },
                  "yaxis": {
                    "title": {
                      "text": "Annual Income (k$)"
                    }
                  },
                  "zaxis": {
                    "title": {
                      "text": "Spending Score (1-100)"
                    }
                  }
                },
                "template": {
                  "data": {
                    "bar": [
                      {
                        "error_x": {
                          "color": "#2a3f5f"
                        },
                        "error_y": {
                          "color": "#2a3f5f"
                        },
                        "marker": {
                          "line": {
                            "color": "#E5ECF6",
                            "width": 0.5
                          },
                          "pattern": {
                            "fillmode": "overlay",
                            "size": 10,
                            "solidity": 0.2
                          }
                        },
                        "type": "bar"
                      }
                    ],
                    "barpolar": [
                      {
                        "marker": {
                          "line": {
                            "color": "#E5ECF6",
                            "width": 0.5
                          },
                          "pattern": {
                            "fillmode": "overlay",
                            "size": 10,
                            "solidity": 0.2
                          }
                        },
                        "type": "barpolar"
                      }
                    ],
                    "carpet": [
                      {
                        "aaxis": {
                          "endlinecolor": "#2a3f5f",
                          "gridcolor": "white",
                          "linecolor": "white",
                          "minorgridcolor": "white",
                          "startlinecolor": "#2a3f5f"
                        },
                        "baxis": {
                          "endlinecolor": "#2a3f5f",
                          "gridcolor": "white",
                          "linecolor": "white",
                          "minorgridcolor": "white",
                          "startlinecolor": "#2a3f5f"
                        },
                        "type": "carpet"
                      }
                    ],
                    "choropleth": [
                      {
                        "colorbar": {
                          "outlinewidth": 0,
                          "ticks": ""
                        },
                        "type": "choropleth"
                      }
                    ],
                    "contour": [
                      {
                        "colorbar": {
                          "outlinewidth": 0,
                          "ticks": ""
                        },
                        "colorscale": [
                          [
                            0,
                            "#0d0887"
                          ],
                          [
                            0.1111111111111111,
                            "#46039f"
                          ],
                          [
                            0.2222222222222222,
                            "#7201a8"
                          ],
                          [
                            0.3333333333333333,
                            "#9c179e"
                          ],
                          [
                            0.4444444444444444,
                            "#bd3786"
                          ],
                          [
                            0.5555555555555556,
                            "#d8576b"
                          ],
                          [
                            0.6666666666666666,
                            "#ed7953"
                          ],
                          [
                            0.7777777777777778,
                            "#fb9f3a"
                          ],
                          [
                            0.8888888888888888,
                            "#fdca26"
                          ],
                          [
                            1,
                            "#f0f921"
                          ]
                        ],
                        "type": "contour"
                      }
                    ],
                    "contourcarpet": [
                      {
                        "colorbar": {
                          "outlinewidth": 0,
                          "ticks": ""
                        },
                        "type": "contourcarpet"
                      }
                    ],
                    "heatmap": [
                      {
                        "colorbar": {
                          "outlinewidth": 0,
                          "ticks": ""
                        },
                        "colorscale": [
                          [
                            0,
                            "#0d0887"
                          ],
                          [
                            0.1111111111111111,
                            "#46039f"
                          ],
                          [
                            0.2222222222222222,
                            "#7201a8"
                          ],
                          [
                            0.3333333333333333,
                            "#9c179e"
                          ],
                          [
                            0.4444444444444444,
                            "#bd3786"
                          ],
                          [
                            0.5555555555555556,
                            "#d8576b"
                          ],
                          [
                            0.6666666666666666,
                            "#ed7953"
                          ],
                          [
                            0.7777777777777778,
                            "#fb9f3a"
                          ],
                          [
                            0.8888888888888888,
                            "#fdca26"
                          ],
                          [
                            1,
                            "#f0f921"
                          ]
                        ],
                        "type": "heatmap"
                      }
                    ],
                    "heatmapgl": [
                      {
                        "colorbar": {
                          "outlinewidth": 0,
                          "ticks": ""
                        },
                        "colorscale": [
                          [
                            0,
                            "#0d0887"
                          ],
                          [
                            0.1111111111111111,
                            "#46039f"
                          ],
                          [
                            0.2222222222222222,
                            "#7201a8"
                          ],
                          [
                            0.3333333333333333,
                            "#9c179e"
                          ],
                          [
                            0.4444444444444444,
                            "#bd3786"
                          ],
                          [
                            0.5555555555555556,
                            "#d8576b"
                          ],
                          [
                            0.6666666666666666,
                            "#ed7953"
                          ],
                          [
                            0.7777777777777778,
                            "#fb9f3a"
                          ],
                          [
                            0.8888888888888888,
                            "#fdca26"
                          ],
                          [
                            1,
                            "#f0f921"
                          ]
                        ],
                        "type": "heatmapgl"
                      }
                    ],
                    "histogram": [
                      {
                        "marker": {
                          "pattern": {
                            "fillmode": "overlay",
                            "size": 10,
                            "solidity": 0.2
                          }
                        },
                        "type": "histogram"
                      }
                    ],
                    "histogram2d": [
                      {
                        "colorbar": {
                          "outlinewidth": 0,
                          "ticks": ""
                        },
                        "colorscale": [
                          [
                            0,
                            "#0d0887"
                          ],
                          [
                            0.1111111111111111,
                            "#46039f"
                          ],
                          [
                            0.2222222222222222,
                            "#7201a8"
                          ],
                          [
                            0.3333333333333333,
                            "#9c179e"
                          ],
                          [
                            0.4444444444444444,
                            "#bd3786"
                          ],
                          [
                            0.5555555555555556,
                            "#d8576b"
                          ],
                          [
                            0.6666666666666666,
                            "#ed7953"
                          ],
                          [
                            0.7777777777777778,
                            "#fb9f3a"
                          ],
                          [
                            0.8888888888888888,
                            "#fdca26"
                          ],
                          [
                            1,
                            "#f0f921"
                          ]
                        ],
                        "type": "histogram2d"
                      }
                    ],
                    "histogram2dcontour": [
                      {
                        "colorbar": {
                          "outlinewidth": 0,
                          "ticks": ""
                        },
                        "colorscale": [
                          [
                            0,
                            "#0d0887"
                          ],
                          [
                            0.1111111111111111,
                            "#46039f"
                          ],
                          [
                            0.2222222222222222,
                            "#7201a8"
                          ],
                          [
                            0.3333333333333333,
                            "#9c179e"
                          ],
                          [
                            0.4444444444444444,
                            "#bd3786"
                          ],
                          [
                            0.5555555555555556,
                            "#d8576b"
                          ],
                          [
                            0.6666666666666666,
                            "#ed7953"
                          ],
                          [
                            0.7777777777777778,
                            "#fb9f3a"
                          ],
                          [
                            0.8888888888888888,
                            "#fdca26"
                          ],
                          [
                            1,
                            "#f0f921"
                          ]
                        ],
                        "type": "histogram2dcontour"
                      }
                    ],
                    "mesh3d": [
                      {
                        "colorbar": {
                          "outlinewidth": 0,
                          "ticks": ""
                        },
                        "type": "mesh3d"
                      }
                    ],
                    "parcoords": [
                      {
                        "line": {
                          "colorbar": {
                            "outlinewidth": 0,
                            "ticks": ""
                          }
                        },
                        "type": "parcoords"
                      }
                    ],
                    "pie": [
                      {
                        "automargin": true,
                        "type": "pie"
                      }
                    ],
                    "scatter": [
                      {
                        "fillpattern": {
                          "fillmode": "overlay",
                          "size": 10,
                          "solidity": 0.2
                        },
                        "type": "scatter"
                      }
                    ],
                    "scatter3d": [
                      {
                        "line": {
                          "colorbar": {
                            "outlinewidth": 0,
                            "ticks": ""
                          }
                        },
                        "marker": {
                          "colorbar": {
                            "outlinewidth": 0,
                            "ticks": ""
                          }
                        },
                        "type": "scatter3d"
                      }
                    ],
                    "scattercarpet": [
                      {
                        "marker": {
                          "colorbar": {
                            "outlinewidth": 0,
                            "ticks": ""
                          }
                        },
                        "type": "scattercarpet"
                      }
                    ],
                    "scattergeo": [
                      {
                        "marker": {
                          "colorbar": {
                            "outlinewidth": 0,
                            "ticks": ""
                          }
                        },
                        "type": "scattergeo"
                      }
                    ],
                    "scattergl": [
                      {
                        "marker": {
                          "colorbar": {
                            "outlinewidth": 0,
                            "ticks": ""
                          }
                        },
                        "type": "scattergl"
                      }
                    ],
                    "scattermapbox": [
                      {
                        "marker": {
                          "colorbar": {
                            "outlinewidth": 0,
                            "ticks": ""
                          }
                        },
                        "type": "scattermapbox"
                      }
                    ],
                    "scatterpolar": [
                      {
                        "marker": {
                          "colorbar": {
                            "outlinewidth": 0,
                            "ticks": ""
                          }
                        },
                        "type": "scatterpolar"
                      }
                    ],
                    "scatterpolargl": [
                      {
                        "marker": {
                          "colorbar": {
                            "outlinewidth": 0,
                            "ticks": ""
                          }
                        },
                        "type": "scatterpolargl"
                      }
                    ],
                    "scatterternary": [
                      {
                        "marker": {
                          "colorbar": {
                            "outlinewidth": 0,
                            "ticks": ""
                          }
                        },
                        "type": "scatterternary"
                      }
                    ],
                    "surface": [
                      {
                        "colorbar": {
                          "outlinewidth": 0,
                          "ticks": ""
                        },
                        "colorscale": [
                          [
                            0,
                            "#0d0887"
                          ],
                          [
                            0.1111111111111111,
                            "#46039f"
                          ],
                          [
                            0.2222222222222222,
                            "#7201a8"
                          ],
                          [
                            0.3333333333333333,
                            "#9c179e"
                          ],
                          [
                            0.4444444444444444,
                            "#bd3786"
                          ],
                          [
                            0.5555555555555556,
                            "#d8576b"
                          ],
                          [
                            0.6666666666666666,
                            "#ed7953"
                          ],
                          [
                            0.7777777777777778,
                            "#fb9f3a"
                          ],
                          [
                            0.8888888888888888,
                            "#fdca26"
                          ],
                          [
                            1,
                            "#f0f921"
                          ]
                        ],
                        "type": "surface"
                      }
                    ],
                    "table": [
                      {
                        "cells": {
                          "fill": {
                            "color": "#EBF0F8"
                          },
                          "line": {
                            "color": "white"
                          }
                        },
                        "header": {
                          "fill": {
                            "color": "#C8D4E3"
                          },
                          "line": {
                            "color": "white"
                          }
                        },
                        "type": "table"
                      }
                    ]
                  },
                  "layout": {
                    "annotationdefaults": {
                      "arrowcolor": "#2a3f5f",
                      "arrowhead": 0,
                      "arrowwidth": 1
                    },
                    "autotypenumbers": "strict",
                    "coloraxis": {
                      "colorbar": {
                        "outlinewidth": 0,
                        "ticks": ""
                      }
                    },
                    "colorscale": {
                      "diverging": [
                        [
                          0,
                          "#8e0152"
                        ],
                        [
                          0.1,
                          "#c51b7d"
                        ],
                        [
                          0.2,
                          "#de77ae"
                        ],
                        [
                          0.3,
                          "#f1b6da"
                        ],
                        [
                          0.4,
                          "#fde0ef"
                        ],
                        [
                          0.5,
                          "#f7f7f7"
                        ],
                        [
                          0.6,
                          "#e6f5d0"
                        ],
                        [
                          0.7,
                          "#b8e186"
                        ],
                        [
                          0.8,
                          "#7fbc41"
                        ],
                        [
                          0.9,
                          "#4d9221"
                        ],
                        [
                          1,
                          "#276419"
                        ]
                      ],
                      "sequential": [
                        [
                          0,
                          "#0d0887"
                        ],
                        [
                          0.1111111111111111,
                          "#46039f"
                        ],
                        [
                          0.2222222222222222,
                          "#7201a8"
                        ],
                        [
                          0.3333333333333333,
                          "#9c179e"
                        ],
                        [
                          0.4444444444444444,
                          "#bd3786"
                        ],
                        [
                          0.5555555555555556,
                          "#d8576b"
                        ],
                        [
                          0.6666666666666666,
                          "#ed7953"
                        ],
                        [
                          0.7777777777777778,
                          "#fb9f3a"
                        ],
                        [
                          0.8888888888888888,
                          "#fdca26"
                        ],
                        [
                          1,
                          "#f0f921"
                        ]
                      ],
                      "sequentialminus": [
                        [
                          0,
                          "#0d0887"
                        ],
                        [
                          0.1111111111111111,
                          "#46039f"
                        ],
                        [
                          0.2222222222222222,
                          "#7201a8"
                        ],
                        [
                          0.3333333333333333,
                          "#9c179e"
                        ],
                        [
                          0.4444444444444444,
                          "#bd3786"
                        ],
                        [
                          0.5555555555555556,
                          "#d8576b"
                        ],
                        [
                          0.6666666666666666,
                          "#ed7953"
                        ],
                        [
                          0.7777777777777778,
                          "#fb9f3a"
                        ],
                        [
                          0.8888888888888888,
                          "#fdca26"
                        ],
                        [
                          1,
                          "#f0f921"
                        ]
                      ]
                    },
                    "colorway": [
                      "#636efa",
                      "#EF553B",
                      "#00cc96",
                      "#ab63fa",
                      "#FFA15A",
                      "#19d3f3",
                      "#FF6692",
                      "#B6E880",
                      "#FF97FF",
                      "#FECB52"
                    ],
                    "font": {
                      "color": "#2a3f5f"
                    },
                    "geo": {
                      "bgcolor": "white",
                      "lakecolor": "white",
                      "landcolor": "#E5ECF6",
                      "showlakes": true,
                      "showland": true,
                      "subunitcolor": "white"
                    },
                    "hoverlabel": {
                      "align": "left"
                    },
                    "hovermode": "closest",
                    "mapbox": {
                      "style": "light"
                    },
                    "paper_bgcolor": "white",
                    "plot_bgcolor": "#E5ECF6",
                    "polar": {
                      "angularaxis": {
                        "gridcolor": "white",
                        "linecolor": "white",
                        "ticks": ""
                      },
                      "bgcolor": "#E5ECF6",
                      "radialaxis": {
                        "gridcolor": "white",
                        "linecolor": "white",
                        "ticks": ""
                      }
                    },
                    "scene": {
                      "xaxis": {
                        "backgroundcolor": "#E5ECF6",
                        "gridcolor": "white",
                        "gridwidth": 2,
                        "linecolor": "white",
                        "showbackground": true,
                        "ticks": "",
                        "zerolinecolor": "white"
                      },
                      "yaxis": {
                        "backgroundcolor": "#E5ECF6",
                        "gridcolor": "white",
                        "gridwidth": 2,
                        "linecolor": "white",
                        "showbackground": true,
                        "ticks": "",
                        "zerolinecolor": "white"
                      },
                      "zaxis": {
                        "backgroundcolor": "#E5ECF6",
                        "gridcolor": "white",
                        "gridwidth": 2,
                        "linecolor": "white",
                        "showbackground": true,
                        "ticks": "",
                        "zerolinecolor": "white"
                      }
                    },
                    "shapedefaults": {
                      "line": {
                        "color": "#2a3f5f"
                      }
                    },
                    "ternary": {
                      "aaxis": {
                        "gridcolor": "white",
                        "linecolor": "white",
                        "ticks": ""
                      },
                      "baxis": {
                        "gridcolor": "white",
                        "linecolor": "white",
                        "ticks": ""
                      },
                      "bgcolor": "#E5ECF6",
                      "caxis": {
                        "gridcolor": "white",
                        "linecolor": "white",
                        "ticks": ""
                      }
                    },
                    "title": {
                      "x": 0.05
                    },
                    "xaxis": {
                      "automargin": true,
                      "gridcolor": "white",
                      "linecolor": "white",
                      "ticks": "",
                      "title": {
                        "standoff": 15
                      },
                      "zerolinecolor": "white",
                      "zerolinewidth": 2
                    },
                    "yaxis": {
                      "automargin": true,
                      "gridcolor": "white",
                      "linecolor": "white",
                      "ticks": "",
                      "title": {
                        "standoff": 15
                      },
                      "zerolinecolor": "white",
                      "zerolinewidth": 2
                    }
                  }
                }
              }
            }
          },
          "metadata": {},
          "output_type": "display_data"
        }
      ],
      "source": [
        "# Interactive 3D scatter plot of customers for k=5\n",
        "import plotly.express as px\n",
        "fig = px.scatter_3d(\n",
        "    df,\n",
        "    x='Age',\n",
        "    y='Annual Income (k$)',\n",
        "    z='Spending Score (1-100)',\n",
        "    color=model_kfive.fit_predict(df),\n",
        "    symbol='Gender_Male',\n",
        "    opacity=0.75\n",
        "    )\n",
        "fig.update_layout(coloraxis_colorbar=dict(yanchor='top', y=1, x=0, ticks='outside'))"
      ]
    },
    {
      "cell_type": "code",
      "execution_count": 29,
      "metadata": {
        "colab": {
          "base_uri": "https://localhost:8080/",
          "height": 542
        },
        "id": "s09KINAT1Wjw",
        "outputId": "7fc7c769-b1e7-4d83-fe52-633246cbd71b"
      },
      "outputs": [
        {
          "data": {
            "application/vnd.plotly.v1+json": {
              "config": {
                "plotlyServerURL": "https://plot.ly"
              },
              "data": [
                {
                  "hovertemplate": "Gender_Male=True<br>Age=%{x}<br>Annual Income (k$)=%{y}<br>Spending Score (1-100)=%{z}<br>color=%{marker.color}<extra></extra>",
                  "legendgroup": "True",
                  "marker": {
                    "color": [
                      5,
                      2,
                      5,
                      5,
                      5,
                      2,
                      2,
                      5,
                      5,
                      2,
                      2,
                      2,
                      2,
                      5,
                      5,
                      2,
                      2,
                      5,
                      0,
                      0,
                      0,
                      0,
                      0,
                      0,
                      0,
                      0,
                      2,
                      2,
                      0,
                      0,
                      0,
                      0,
                      0,
                      0,
                      0,
                      0,
                      0,
                      0,
                      0,
                      0,
                      0,
                      0,
                      0,
                      0,
                      0,
                      0,
                      0,
                      0,
                      0,
                      0,
                      4,
                      0,
                      4,
                      3,
                      4,
                      3,
                      4,
                      3,
                      4,
                      3,
                      4,
                      3,
                      4,
                      3,
                      4,
                      3,
                      4,
                      3,
                      3,
                      3,
                      3,
                      3,
                      4,
                      3,
                      4,
                      3,
                      4,
                      3,
                      4,
                      3,
                      4,
                      3,
                      1,
                      1,
                      3,
                      1,
                      3,
                      1
                    ],
                    "coloraxis": "coloraxis",
                    "opacity": 0.75,
                    "symbol": "circle"
                  },
                  "mode": "markers",
                  "name": "True",
                  "scene": "scene",
                  "showlegend": true,
                  "type": "scatter3d",
                  "x": [
                    19,
                    21,
                    64,
                    67,
                    37,
                    22,
                    20,
                    52,
                    35,
                    25,
                    31,
                    29,
                    35,
                    60,
                    53,
                    18,
                    24,
                    48,
                    33,
                    59,
                    47,
                    69,
                    53,
                    70,
                    19,
                    63,
                    18,
                    19,
                    70,
                    59,
                    26,
                    40,
                    57,
                    38,
                    67,
                    48,
                    18,
                    48,
                    24,
                    48,
                    20,
                    67,
                    26,
                    49,
                    54,
                    68,
                    66,
                    65,
                    19,
                    27,
                    39,
                    43,
                    40,
                    59,
                    38,
                    47,
                    39,
                    20,
                    32,
                    19,
                    32,
                    25,
                    28,
                    48,
                    34,
                    43,
                    39,
                    37,
                    34,
                    19,
                    50,
                    42,
                    32,
                    40,
                    28,
                    36,
                    36,
                    58,
                    27,
                    59,
                    35,
                    46,
                    30,
                    28,
                    33,
                    32,
                    32,
                    30
                  ],
                  "y": [
                    15,
                    15,
                    19,
                    19,
                    20,
                    20,
                    21,
                    23,
                    24,
                    24,
                    25,
                    28,
                    28,
                    30,
                    33,
                    33,
                    38,
                    39,
                    42,
                    43,
                    43,
                    44,
                    46,
                    46,
                    46,
                    48,
                    48,
                    48,
                    49,
                    54,
                    54,
                    54,
                    54,
                    54,
                    54,
                    54,
                    59,
                    60,
                    60,
                    61,
                    61,
                    62,
                    62,
                    62,
                    63,
                    63,
                    63,
                    63,
                    64,
                    67,
                    69,
                    71,
                    71,
                    71,
                    71,
                    71,
                    71,
                    73,
                    73,
                    74,
                    75,
                    77,
                    77,
                    77,
                    78,
                    78,
                    78,
                    78,
                    78,
                    81,
                    85,
                    86,
                    87,
                    87,
                    87,
                    87,
                    87,
                    88,
                    88,
                    93,
                    93,
                    98,
                    99,
                    101,
                    113,
                    126,
                    137,
                    137
                  ],
                  "z": [
                    39,
                    81,
                    3,
                    14,
                    13,
                    79,
                    66,
                    29,
                    35,
                    73,
                    73,
                    82,
                    61,
                    4,
                    4,
                    92,
                    92,
                    36,
                    60,
                    60,
                    41,
                    46,
                    46,
                    56,
                    55,
                    51,
                    59,
                    59,
                    55,
                    47,
                    54,
                    48,
                    51,
                    55,
                    41,
                    46,
                    41,
                    49,
                    52,
                    42,
                    49,
                    59,
                    55,
                    56,
                    46,
                    43,
                    48,
                    52,
                    46,
                    56,
                    91,
                    35,
                    95,
                    11,
                    75,
                    9,
                    75,
                    5,
                    73,
                    10,
                    93,
                    12,
                    97,
                    36,
                    90,
                    17,
                    88,
                    1,
                    1,
                    5,
                    26,
                    20,
                    63,
                    13,
                    75,
                    10,
                    92,
                    15,
                    69,
                    14,
                    90,
                    15,
                    97,
                    68,
                    8,
                    74,
                    18,
                    83
                  ]
                },
                {
                  "hovertemplate": "Gender_Male=False<br>Age=%{x}<br>Annual Income (k$)=%{y}<br>Spending Score (1-100)=%{z}<br>color=%{marker.color}<extra></extra>",
                  "legendgroup": "False",
                  "marker": {
                    "color": [
                      5,
                      2,
                      5,
                      2,
                      5,
                      2,
                      2,
                      2,
                      5,
                      2,
                      5,
                      2,
                      5,
                      5,
                      5,
                      5,
                      2,
                      2,
                      5,
                      2,
                      5,
                      2,
                      5,
                      2,
                      5,
                      2,
                      5,
                      2,
                      0,
                      0,
                      0,
                      0,
                      0,
                      0,
                      0,
                      0,
                      0,
                      0,
                      0,
                      0,
                      0,
                      0,
                      0,
                      0,
                      0,
                      0,
                      0,
                      0,
                      0,
                      0,
                      0,
                      0,
                      0,
                      0,
                      0,
                      0,
                      0,
                      0,
                      0,
                      0,
                      0,
                      0,
                      0,
                      0,
                      0,
                      0,
                      0,
                      0,
                      0,
                      0,
                      0,
                      0,
                      0,
                      3,
                      4,
                      3,
                      4,
                      4,
                      3,
                      4,
                      3,
                      3,
                      4,
                      4,
                      3,
                      3,
                      4,
                      3,
                      4,
                      4,
                      4,
                      3,
                      4,
                      4,
                      4,
                      4,
                      3,
                      3,
                      4,
                      3,
                      1,
                      1,
                      3,
                      3,
                      3,
                      1,
                      3,
                      1,
                      1,
                      3,
                      1,
                      3
                    ],
                    "coloraxis": "coloraxis",
                    "opacity": 0.75,
                    "symbol": "diamond"
                  },
                  "mode": "markers",
                  "name": "False",
                  "scene": "scene",
                  "showlegend": true,
                  "type": "scatter3d",
                  "x": [
                    20,
                    23,
                    31,
                    22,
                    35,
                    23,
                    30,
                    35,
                    58,
                    24,
                    35,
                    35,
                    46,
                    54,
                    45,
                    40,
                    23,
                    21,
                    49,
                    21,
                    42,
                    30,
                    36,
                    20,
                    65,
                    31,
                    49,
                    24,
                    50,
                    27,
                    29,
                    31,
                    49,
                    31,
                    50,
                    51,
                    27,
                    67,
                    54,
                    43,
                    68,
                    32,
                    47,
                    60,
                    60,
                    45,
                    23,
                    49,
                    46,
                    21,
                    55,
                    22,
                    34,
                    50,
                    68,
                    40,
                    32,
                    47,
                    27,
                    23,
                    49,
                    21,
                    66,
                    19,
                    38,
                    18,
                    19,
                    63,
                    49,
                    51,
                    50,
                    38,
                    40,
                    23,
                    31,
                    25,
                    31,
                    29,
                    44,
                    35,
                    57,
                    28,
                    32,
                    32,
                    34,
                    44,
                    38,
                    47,
                    27,
                    30,
                    30,
                    56,
                    29,
                    31,
                    36,
                    33,
                    36,
                    52,
                    30,
                    37,
                    32,
                    29,
                    41,
                    54,
                    41,
                    36,
                    34,
                    32,
                    38,
                    47,
                    35,
                    45
                  ],
                  "y": [
                    16,
                    16,
                    17,
                    17,
                    18,
                    18,
                    19,
                    19,
                    20,
                    20,
                    21,
                    23,
                    25,
                    28,
                    28,
                    29,
                    29,
                    30,
                    33,
                    33,
                    34,
                    34,
                    37,
                    37,
                    38,
                    39,
                    39,
                    39,
                    40,
                    40,
                    40,
                    40,
                    42,
                    43,
                    43,
                    44,
                    46,
                    47,
                    47,
                    48,
                    48,
                    48,
                    49,
                    50,
                    50,
                    54,
                    54,
                    54,
                    54,
                    54,
                    57,
                    57,
                    58,
                    58,
                    59,
                    60,
                    60,
                    60,
                    60,
                    62,
                    62,
                    62,
                    63,
                    63,
                    64,
                    65,
                    65,
                    65,
                    65,
                    67,
                    67,
                    67,
                    69,
                    70,
                    70,
                    72,
                    72,
                    73,
                    73,
                    74,
                    75,
                    76,
                    76,
                    77,
                    78,
                    78,
                    78,
                    78,
                    78,
                    78,
                    78,
                    79,
                    79,
                    81,
                    85,
                    86,
                    87,
                    88,
                    88,
                    97,
                    97,
                    98,
                    99,
                    101,
                    103,
                    103,
                    103,
                    103,
                    113,
                    120,
                    120,
                    126
                  ],
                  "z": [
                    6,
                    77,
                    40,
                    76,
                    6,
                    94,
                    72,
                    99,
                    15,
                    77,
                    35,
                    98,
                    5,
                    14,
                    32,
                    31,
                    87,
                    73,
                    14,
                    81,
                    17,
                    73,
                    26,
                    75,
                    35,
                    61,
                    28,
                    65,
                    55,
                    47,
                    42,
                    42,
                    52,
                    54,
                    45,
                    50,
                    51,
                    52,
                    59,
                    50,
                    48,
                    47,
                    42,
                    49,
                    56,
                    53,
                    52,
                    42,
                    44,
                    57,
                    58,
                    55,
                    60,
                    46,
                    55,
                    40,
                    42,
                    47,
                    50,
                    41,
                    48,
                    42,
                    50,
                    54,
                    42,
                    48,
                    50,
                    43,
                    59,
                    43,
                    57,
                    40,
                    58,
                    29,
                    77,
                    34,
                    71,
                    88,
                    7,
                    72,
                    5,
                    40,
                    87,
                    74,
                    22,
                    20,
                    76,
                    16,
                    89,
                    78,
                    73,
                    35,
                    83,
                    93,
                    75,
                    95,
                    27,
                    13,
                    86,
                    32,
                    86,
                    88,
                    39,
                    24,
                    17,
                    85,
                    23,
                    69,
                    91,
                    16,
                    79,
                    28
                  ]
                }
              ],
              "layout": {
                "coloraxis": {
                  "colorbar": {
                    "ticks": "outside",
                    "title": {
                      "text": "color"
                    },
                    "x": 0,
                    "y": 1,
                    "yanchor": "top"
                  },
                  "colorscale": [
                    [
                      0,
                      "#0d0887"
                    ],
                    [
                      0.1111111111111111,
                      "#46039f"
                    ],
                    [
                      0.2222222222222222,
                      "#7201a8"
                    ],
                    [
                      0.3333333333333333,
                      "#9c179e"
                    ],
                    [
                      0.4444444444444444,
                      "#bd3786"
                    ],
                    [
                      0.5555555555555556,
                      "#d8576b"
                    ],
                    [
                      0.6666666666666666,
                      "#ed7953"
                    ],
                    [
                      0.7777777777777778,
                      "#fb9f3a"
                    ],
                    [
                      0.8888888888888888,
                      "#fdca26"
                    ],
                    [
                      1,
                      "#f0f921"
                    ]
                  ]
                },
                "legend": {
                  "title": {
                    "text": "Gender_Male"
                  },
                  "tracegroupgap": 0
                },
                "margin": {
                  "t": 60
                },
                "scene": {
                  "domain": {
                    "x": [
                      0,
                      1
                    ],
                    "y": [
                      0,
                      1
                    ]
                  },
                  "xaxis": {
                    "title": {
                      "text": "Age"
                    }
                  },
                  "yaxis": {
                    "title": {
                      "text": "Annual Income (k$)"
                    }
                  },
                  "zaxis": {
                    "title": {
                      "text": "Spending Score (1-100)"
                    }
                  }
                },
                "template": {
                  "data": {
                    "bar": [
                      {
                        "error_x": {
                          "color": "#2a3f5f"
                        },
                        "error_y": {
                          "color": "#2a3f5f"
                        },
                        "marker": {
                          "line": {
                            "color": "#E5ECF6",
                            "width": 0.5
                          },
                          "pattern": {
                            "fillmode": "overlay",
                            "size": 10,
                            "solidity": 0.2
                          }
                        },
                        "type": "bar"
                      }
                    ],
                    "barpolar": [
                      {
                        "marker": {
                          "line": {
                            "color": "#E5ECF6",
                            "width": 0.5
                          },
                          "pattern": {
                            "fillmode": "overlay",
                            "size": 10,
                            "solidity": 0.2
                          }
                        },
                        "type": "barpolar"
                      }
                    ],
                    "carpet": [
                      {
                        "aaxis": {
                          "endlinecolor": "#2a3f5f",
                          "gridcolor": "white",
                          "linecolor": "white",
                          "minorgridcolor": "white",
                          "startlinecolor": "#2a3f5f"
                        },
                        "baxis": {
                          "endlinecolor": "#2a3f5f",
                          "gridcolor": "white",
                          "linecolor": "white",
                          "minorgridcolor": "white",
                          "startlinecolor": "#2a3f5f"
                        },
                        "type": "carpet"
                      }
                    ],
                    "choropleth": [
                      {
                        "colorbar": {
                          "outlinewidth": 0,
                          "ticks": ""
                        },
                        "type": "choropleth"
                      }
                    ],
                    "contour": [
                      {
                        "colorbar": {
                          "outlinewidth": 0,
                          "ticks": ""
                        },
                        "colorscale": [
                          [
                            0,
                            "#0d0887"
                          ],
                          [
                            0.1111111111111111,
                            "#46039f"
                          ],
                          [
                            0.2222222222222222,
                            "#7201a8"
                          ],
                          [
                            0.3333333333333333,
                            "#9c179e"
                          ],
                          [
                            0.4444444444444444,
                            "#bd3786"
                          ],
                          [
                            0.5555555555555556,
                            "#d8576b"
                          ],
                          [
                            0.6666666666666666,
                            "#ed7953"
                          ],
                          [
                            0.7777777777777778,
                            "#fb9f3a"
                          ],
                          [
                            0.8888888888888888,
                            "#fdca26"
                          ],
                          [
                            1,
                            "#f0f921"
                          ]
                        ],
                        "type": "contour"
                      }
                    ],
                    "contourcarpet": [
                      {
                        "colorbar": {
                          "outlinewidth": 0,
                          "ticks": ""
                        },
                        "type": "contourcarpet"
                      }
                    ],
                    "heatmap": [
                      {
                        "colorbar": {
                          "outlinewidth": 0,
                          "ticks": ""
                        },
                        "colorscale": [
                          [
                            0,
                            "#0d0887"
                          ],
                          [
                            0.1111111111111111,
                            "#46039f"
                          ],
                          [
                            0.2222222222222222,
                            "#7201a8"
                          ],
                          [
                            0.3333333333333333,
                            "#9c179e"
                          ],
                          [
                            0.4444444444444444,
                            "#bd3786"
                          ],
                          [
                            0.5555555555555556,
                            "#d8576b"
                          ],
                          [
                            0.6666666666666666,
                            "#ed7953"
                          ],
                          [
                            0.7777777777777778,
                            "#fb9f3a"
                          ],
                          [
                            0.8888888888888888,
                            "#fdca26"
                          ],
                          [
                            1,
                            "#f0f921"
                          ]
                        ],
                        "type": "heatmap"
                      }
                    ],
                    "heatmapgl": [
                      {
                        "colorbar": {
                          "outlinewidth": 0,
                          "ticks": ""
                        },
                        "colorscale": [
                          [
                            0,
                            "#0d0887"
                          ],
                          [
                            0.1111111111111111,
                            "#46039f"
                          ],
                          [
                            0.2222222222222222,
                            "#7201a8"
                          ],
                          [
                            0.3333333333333333,
                            "#9c179e"
                          ],
                          [
                            0.4444444444444444,
                            "#bd3786"
                          ],
                          [
                            0.5555555555555556,
                            "#d8576b"
                          ],
                          [
                            0.6666666666666666,
                            "#ed7953"
                          ],
                          [
                            0.7777777777777778,
                            "#fb9f3a"
                          ],
                          [
                            0.8888888888888888,
                            "#fdca26"
                          ],
                          [
                            1,
                            "#f0f921"
                          ]
                        ],
                        "type": "heatmapgl"
                      }
                    ],
                    "histogram": [
                      {
                        "marker": {
                          "pattern": {
                            "fillmode": "overlay",
                            "size": 10,
                            "solidity": 0.2
                          }
                        },
                        "type": "histogram"
                      }
                    ],
                    "histogram2d": [
                      {
                        "colorbar": {
                          "outlinewidth": 0,
                          "ticks": ""
                        },
                        "colorscale": [
                          [
                            0,
                            "#0d0887"
                          ],
                          [
                            0.1111111111111111,
                            "#46039f"
                          ],
                          [
                            0.2222222222222222,
                            "#7201a8"
                          ],
                          [
                            0.3333333333333333,
                            "#9c179e"
                          ],
                          [
                            0.4444444444444444,
                            "#bd3786"
                          ],
                          [
                            0.5555555555555556,
                            "#d8576b"
                          ],
                          [
                            0.6666666666666666,
                            "#ed7953"
                          ],
                          [
                            0.7777777777777778,
                            "#fb9f3a"
                          ],
                          [
                            0.8888888888888888,
                            "#fdca26"
                          ],
                          [
                            1,
                            "#f0f921"
                          ]
                        ],
                        "type": "histogram2d"
                      }
                    ],
                    "histogram2dcontour": [
                      {
                        "colorbar": {
                          "outlinewidth": 0,
                          "ticks": ""
                        },
                        "colorscale": [
                          [
                            0,
                            "#0d0887"
                          ],
                          [
                            0.1111111111111111,
                            "#46039f"
                          ],
                          [
                            0.2222222222222222,
                            "#7201a8"
                          ],
                          [
                            0.3333333333333333,
                            "#9c179e"
                          ],
                          [
                            0.4444444444444444,
                            "#bd3786"
                          ],
                          [
                            0.5555555555555556,
                            "#d8576b"
                          ],
                          [
                            0.6666666666666666,
                            "#ed7953"
                          ],
                          [
                            0.7777777777777778,
                            "#fb9f3a"
                          ],
                          [
                            0.8888888888888888,
                            "#fdca26"
                          ],
                          [
                            1,
                            "#f0f921"
                          ]
                        ],
                        "type": "histogram2dcontour"
                      }
                    ],
                    "mesh3d": [
                      {
                        "colorbar": {
                          "outlinewidth": 0,
                          "ticks": ""
                        },
                        "type": "mesh3d"
                      }
                    ],
                    "parcoords": [
                      {
                        "line": {
                          "colorbar": {
                            "outlinewidth": 0,
                            "ticks": ""
                          }
                        },
                        "type": "parcoords"
                      }
                    ],
                    "pie": [
                      {
                        "automargin": true,
                        "type": "pie"
                      }
                    ],
                    "scatter": [
                      {
                        "fillpattern": {
                          "fillmode": "overlay",
                          "size": 10,
                          "solidity": 0.2
                        },
                        "type": "scatter"
                      }
                    ],
                    "scatter3d": [
                      {
                        "line": {
                          "colorbar": {
                            "outlinewidth": 0,
                            "ticks": ""
                          }
                        },
                        "marker": {
                          "colorbar": {
                            "outlinewidth": 0,
                            "ticks": ""
                          }
                        },
                        "type": "scatter3d"
                      }
                    ],
                    "scattercarpet": [
                      {
                        "marker": {
                          "colorbar": {
                            "outlinewidth": 0,
                            "ticks": ""
                          }
                        },
                        "type": "scattercarpet"
                      }
                    ],
                    "scattergeo": [
                      {
                        "marker": {
                          "colorbar": {
                            "outlinewidth": 0,
                            "ticks": ""
                          }
                        },
                        "type": "scattergeo"
                      }
                    ],
                    "scattergl": [
                      {
                        "marker": {
                          "colorbar": {
                            "outlinewidth": 0,
                            "ticks": ""
                          }
                        },
                        "type": "scattergl"
                      }
                    ],
                    "scattermapbox": [
                      {
                        "marker": {
                          "colorbar": {
                            "outlinewidth": 0,
                            "ticks": ""
                          }
                        },
                        "type": "scattermapbox"
                      }
                    ],
                    "scatterpolar": [
                      {
                        "marker": {
                          "colorbar": {
                            "outlinewidth": 0,
                            "ticks": ""
                          }
                        },
                        "type": "scatterpolar"
                      }
                    ],
                    "scatterpolargl": [
                      {
                        "marker": {
                          "colorbar": {
                            "outlinewidth": 0,
                            "ticks": ""
                          }
                        },
                        "type": "scatterpolargl"
                      }
                    ],
                    "scatterternary": [
                      {
                        "marker": {
                          "colorbar": {
                            "outlinewidth": 0,
                            "ticks": ""
                          }
                        },
                        "type": "scatterternary"
                      }
                    ],
                    "surface": [
                      {
                        "colorbar": {
                          "outlinewidth": 0,
                          "ticks": ""
                        },
                        "colorscale": [
                          [
                            0,
                            "#0d0887"
                          ],
                          [
                            0.1111111111111111,
                            "#46039f"
                          ],
                          [
                            0.2222222222222222,
                            "#7201a8"
                          ],
                          [
                            0.3333333333333333,
                            "#9c179e"
                          ],
                          [
                            0.4444444444444444,
                            "#bd3786"
                          ],
                          [
                            0.5555555555555556,
                            "#d8576b"
                          ],
                          [
                            0.6666666666666666,
                            "#ed7953"
                          ],
                          [
                            0.7777777777777778,
                            "#fb9f3a"
                          ],
                          [
                            0.8888888888888888,
                            "#fdca26"
                          ],
                          [
                            1,
                            "#f0f921"
                          ]
                        ],
                        "type": "surface"
                      }
                    ],
                    "table": [
                      {
                        "cells": {
                          "fill": {
                            "color": "#EBF0F8"
                          },
                          "line": {
                            "color": "white"
                          }
                        },
                        "header": {
                          "fill": {
                            "color": "#C8D4E3"
                          },
                          "line": {
                            "color": "white"
                          }
                        },
                        "type": "table"
                      }
                    ]
                  },
                  "layout": {
                    "annotationdefaults": {
                      "arrowcolor": "#2a3f5f",
                      "arrowhead": 0,
                      "arrowwidth": 1
                    },
                    "autotypenumbers": "strict",
                    "coloraxis": {
                      "colorbar": {
                        "outlinewidth": 0,
                        "ticks": ""
                      }
                    },
                    "colorscale": {
                      "diverging": [
                        [
                          0,
                          "#8e0152"
                        ],
                        [
                          0.1,
                          "#c51b7d"
                        ],
                        [
                          0.2,
                          "#de77ae"
                        ],
                        [
                          0.3,
                          "#f1b6da"
                        ],
                        [
                          0.4,
                          "#fde0ef"
                        ],
                        [
                          0.5,
                          "#f7f7f7"
                        ],
                        [
                          0.6,
                          "#e6f5d0"
                        ],
                        [
                          0.7,
                          "#b8e186"
                        ],
                        [
                          0.8,
                          "#7fbc41"
                        ],
                        [
                          0.9,
                          "#4d9221"
                        ],
                        [
                          1,
                          "#276419"
                        ]
                      ],
                      "sequential": [
                        [
                          0,
                          "#0d0887"
                        ],
                        [
                          0.1111111111111111,
                          "#46039f"
                        ],
                        [
                          0.2222222222222222,
                          "#7201a8"
                        ],
                        [
                          0.3333333333333333,
                          "#9c179e"
                        ],
                        [
                          0.4444444444444444,
                          "#bd3786"
                        ],
                        [
                          0.5555555555555556,
                          "#d8576b"
                        ],
                        [
                          0.6666666666666666,
                          "#ed7953"
                        ],
                        [
                          0.7777777777777778,
                          "#fb9f3a"
                        ],
                        [
                          0.8888888888888888,
                          "#fdca26"
                        ],
                        [
                          1,
                          "#f0f921"
                        ]
                      ],
                      "sequentialminus": [
                        [
                          0,
                          "#0d0887"
                        ],
                        [
                          0.1111111111111111,
                          "#46039f"
                        ],
                        [
                          0.2222222222222222,
                          "#7201a8"
                        ],
                        [
                          0.3333333333333333,
                          "#9c179e"
                        ],
                        [
                          0.4444444444444444,
                          "#bd3786"
                        ],
                        [
                          0.5555555555555556,
                          "#d8576b"
                        ],
                        [
                          0.6666666666666666,
                          "#ed7953"
                        ],
                        [
                          0.7777777777777778,
                          "#fb9f3a"
                        ],
                        [
                          0.8888888888888888,
                          "#fdca26"
                        ],
                        [
                          1,
                          "#f0f921"
                        ]
                      ]
                    },
                    "colorway": [
                      "#636efa",
                      "#EF553B",
                      "#00cc96",
                      "#ab63fa",
                      "#FFA15A",
                      "#19d3f3",
                      "#FF6692",
                      "#B6E880",
                      "#FF97FF",
                      "#FECB52"
                    ],
                    "font": {
                      "color": "#2a3f5f"
                    },
                    "geo": {
                      "bgcolor": "white",
                      "lakecolor": "white",
                      "landcolor": "#E5ECF6",
                      "showlakes": true,
                      "showland": true,
                      "subunitcolor": "white"
                    },
                    "hoverlabel": {
                      "align": "left"
                    },
                    "hovermode": "closest",
                    "mapbox": {
                      "style": "light"
                    },
                    "paper_bgcolor": "white",
                    "plot_bgcolor": "#E5ECF6",
                    "polar": {
                      "angularaxis": {
                        "gridcolor": "white",
                        "linecolor": "white",
                        "ticks": ""
                      },
                      "bgcolor": "#E5ECF6",
                      "radialaxis": {
                        "gridcolor": "white",
                        "linecolor": "white",
                        "ticks": ""
                      }
                    },
                    "scene": {
                      "xaxis": {
                        "backgroundcolor": "#E5ECF6",
                        "gridcolor": "white",
                        "gridwidth": 2,
                        "linecolor": "white",
                        "showbackground": true,
                        "ticks": "",
                        "zerolinecolor": "white"
                      },
                      "yaxis": {
                        "backgroundcolor": "#E5ECF6",
                        "gridcolor": "white",
                        "gridwidth": 2,
                        "linecolor": "white",
                        "showbackground": true,
                        "ticks": "",
                        "zerolinecolor": "white"
                      },
                      "zaxis": {
                        "backgroundcolor": "#E5ECF6",
                        "gridcolor": "white",
                        "gridwidth": 2,
                        "linecolor": "white",
                        "showbackground": true,
                        "ticks": "",
                        "zerolinecolor": "white"
                      }
                    },
                    "shapedefaults": {
                      "line": {
                        "color": "#2a3f5f"
                      }
                    },
                    "ternary": {
                      "aaxis": {
                        "gridcolor": "white",
                        "linecolor": "white",
                        "ticks": ""
                      },
                      "baxis": {
                        "gridcolor": "white",
                        "linecolor": "white",
                        "ticks": ""
                      },
                      "bgcolor": "#E5ECF6",
                      "caxis": {
                        "gridcolor": "white",
                        "linecolor": "white",
                        "ticks": ""
                      }
                    },
                    "title": {
                      "x": 0.05
                    },
                    "xaxis": {
                      "automargin": true,
                      "gridcolor": "white",
                      "linecolor": "white",
                      "ticks": "",
                      "title": {
                        "standoff": 15
                      },
                      "zerolinecolor": "white",
                      "zerolinewidth": 2
                    },
                    "yaxis": {
                      "automargin": true,
                      "gridcolor": "white",
                      "linecolor": "white",
                      "ticks": "",
                      "title": {
                        "standoff": 15
                      },
                      "zerolinecolor": "white",
                      "zerolinewidth": 2
                    }
                  }
                }
              }
            }
          },
          "metadata": {},
          "output_type": "display_data"
        }
      ],
      "source": [
        "# Interactive 3D scatter plot of customers for k=6\n",
        "import plotly.express as px\n",
        "fig = px.scatter_3d(\n",
        "    df,\n",
        "    x='Age',\n",
        "    y='Annual Income (k$)',\n",
        "    z='Spending Score (1-100)',\n",
        "    color=model_ksix.fit_predict(df),\n",
        "    symbol='Gender_Male',\n",
        "    opacity=0.75\n",
        "    )\n",
        "fig.update_layout(coloraxis_colorbar=dict(yanchor='top', y=1, x=0, ticks='outside'))"
      ]
    },
    {
      "cell_type": "markdown",
      "metadata": {
        "id": "sKG8Zt-j1tqL"
      },
      "source": [
        "With both values of k, there are few overlaps. Let's verify further with Davies-Bouldin score"
      ]
    },
    {
      "cell_type": "code",
      "execution_count": 30,
      "metadata": {
        "colab": {
          "base_uri": "https://localhost:8080/"
        },
        "id": "pinqczDW2DoZ",
        "outputId": "53a87a04-dd56-424b-efaa-2f4dcacf83b8"
      },
      "outputs": [
        {
          "data": {
            "text/plain": [
              "1.8420811571787692"
            ]
          },
          "execution_count": 30,
          "metadata": {},
          "output_type": "execute_result"
        }
      ],
      "source": [
        "# Davies Bouldin Score for k=5\n",
        "from sklearn.metrics import davies_bouldin_score\n",
        "\n",
        "davies_bouldin_score(df,labels_kfive)"
      ]
    },
    {
      "cell_type": "code",
      "execution_count": 31,
      "metadata": {
        "colab": {
          "base_uri": "https://localhost:8080/"
        },
        "id": "IwyH900J3Fja",
        "outputId": "f9ffdcb8-8721-425c-b525-6be242446750"
      },
      "outputs": [
        {
          "data": {
            "text/plain": [
              "2.750211062149702"
            ]
          },
          "execution_count": 31,
          "metadata": {},
          "output_type": "execute_result"
        }
      ],
      "source": [
        "# Davies Bouldin Score for k=6\n",
        "\n",
        "from sklearn.metrics import davies_bouldin_score\n",
        "\n",
        "davies_bouldin_score(df,labels_ksix)"
      ]
    },
    {
      "cell_type": "markdown",
      "metadata": {
        "id": "wV2BsclR3JxT"
      },
      "source": [
        "A lower value of the Davies-Bouldin score gives better clustering, so we can now clearly say that **k=5** is a better k value so there should be 5 clusters."
      ]
    },
    {
      "cell_type": "markdown",
      "metadata": {
        "id": "IzSei0bA3m5g"
      },
      "source": [
        "## Agglomerative Hierarchical clustering"
      ]
    },
    {
      "cell_type": "markdown",
      "metadata": {
        "id": "BnPMV2Uk8got"
      },
      "source": [
        "AgglomerativeClustering builds a hierarchy of clusters by progressively merging the closest points/clusters"
      ]
    },
    {
      "cell_type": "code",
      "execution_count": 32,
      "metadata": {
        "colab": {
          "base_uri": "https://localhost:8080/"
        },
        "id": "myKD5zrc5wp0",
        "outputId": "b9ff47c0-f4a3-45fd-ac3d-43931d61e536"
      },
      "outputs": [
        {
          "data": {
            "text/plain": [
              "array([195, 132, 103, 197, 189, 166, 117, 135, 153, 129, 199, 172, 177,\n",
              "       188, 139, 159, 184, 147, 157, 181, 171, 140, 143, 104, 127, 111,\n",
              "       156, 123, 108, 119, 116, 109, 121, 113, 175, 124, 173, 163, 191,\n",
              "       165, 100, 112, 110, 174, 120, 183, 144, 131, 196, 155, 182, 176,\n",
              "       142, 133,  82, 138, 178, 136, 125, 141,  91, 154, 170, 134, 169,\n",
              "        99, 128, 185, 114, 107,  65, 187, 101,  61, 164,  88,  93, 126,\n",
              "        56,  85, 115,  57, 137, 190,  87, 198,  81, 186, 179, 160,  77,\n",
              "        69, 192, 130, 193,  43, 102, 167,  62,  79, 194,  94,  64,  76,\n",
              "       149, 150,  97,  70, 148, 106, 180, 122,  89,  86,  96, 151,  54,\n",
              "        92, 145, 118,  63,  74,  31, 162, 146,  59,  55, 161,  58,  98,\n",
              "       168,  27,  28,  46, 152,  72,  34,  50,  73,  40,  75,  71,  80,\n",
              "        83,  49,  66,  53,  95,  84,  13,  90,  44,  35,  60, 158,  36,\n",
              "        45,  37,  29,  67,  39,  51,  47,  42,  30,  21,  48,  19,  22,\n",
              "        41,  78,  68,  33,  16, 105,  26,  17,  32,  20,  15,  52,  10,\n",
              "        14,  38,  18,   8,   6,   9,  25,  23,   7,  24,   4,  11,   3,\n",
              "        12,   5,   2,   1,   0])"
            ]
          },
          "execution_count": 32,
          "metadata": {},
          "output_type": "execute_result"
        }
      ],
      "source": [
        "# Initially perform Agglomerative Clustering with no k values (n_clusters=None)\n",
        "from sklearn.cluster import AgglomerativeClustering\n",
        "from scipy.cluster import hierarchy\n",
        "from scipy.cluster.hierarchy import dendrogram\n",
        "\n",
        "# distance_threshold=0 forces the algorithm to merge until each point is its own cluster (max granularity)\n",
        "model = AgglomerativeClustering(n_clusters=None, distance_threshold=0)\n",
        "\n",
        "# Fit the model and get cluster labels\n",
        "cluster_labels = model.fit_predict(df)\n",
        "\n",
        "cluster_labels # Each point will get its own label since distance_threshold=0"
      ]
    },
    {
      "cell_type": "code",
      "execution_count": 33,
      "metadata": {
        "colab": {
          "base_uri": "https://localhost:8080/"
        },
        "id": "DCN5YtP48tAG",
        "outputId": "5d390c65-b7f5-4c5f-e2f3-e1dc388b61f1"
      },
      "outputs": [
        {
          "data": {
            "text/plain": [
              "array([[ 76.        , 113.        ,   1.41421356,   2.        ],\n",
              "       [ 43.        ,  88.        ,   1.41421356,   2.        ],\n",
              "       [  9.        ,  47.        ,   1.41421356,   2.        ],\n",
              "       [ 49.        ,  91.        ,   1.41421356,   2.        ],\n",
              "       [ 24.        ,  93.        ,   1.41421356,   2.        ]])"
            ]
          },
          "execution_count": 33,
          "metadata": {},
          "output_type": "execute_result"
        }
      ],
      "source": [
        "# Build the linkage matrix to plot dendrogram\n",
        "# model.children_ - tells which clusters/points were merged at each step\n",
        "linkage_matrix = hierarchy.linkage(model.children_)\n",
        "\n",
        "linkage_matrix[:][:5] # First 5 rows of the linkage matrix\n",
        "# Format: point1, point2, distance between the points, number of points in the cluster\n",
        "# or Format: [cluster1, cluster2, distance, sample_count]"
      ]
    },
    {
      "cell_type": "code",
      "execution_count": 34,
      "metadata": {
        "colab": {
          "base_uri": "https://localhost:8080/",
          "height": 408
        },
        "id": "_86-0098LPPu",
        "outputId": "dedbdbb0-12aa-4538-afbe-a1fb6f2c4b14"
      },
      "outputs": [
        {
          "data": {
            "image/png": "[encoded data removed]",
            "text/plain": [
              "<Figure size 3000x1000 with 1 Axes>"
            ]
          },
          "metadata": {},
          "output_type": "display_data"
        }
      ],
      "source": [
        "plt.figure(figsize=(30,10))\n",
        "\n",
        "# Set color for the clusters so that different clusters stand out.\n",
        "hierarchy.set_link_color_palette(['r','grey','b','grey','m','grey','g','grey','orange'])\n",
        "\n",
        "# Plot the dendrogram\n",
        "# truncate_mode='level' shows only the last p merges (keeps tree manageable)\n",
        "# for example, instead of plotting all 200 customers, it only shows the tree at the last p=15 levels.\n",
        "# p=15 shows 15 levels of the hierarchy instead of all 200 customers.\n",
        "# color_threshold=23 cuts the dendrogram at this distance for coloring clusters\n",
        "# for example,any merges happening below distance 23 will get colored differently\n",
        "dn = hierarchy.dendrogram(linkage_matrix, truncate_mode='level', p=15, color_threshold=23)\n"
      ]
    },
    {
      "cell_type": "markdown",
      "metadata": {
        "id": "iLpHBuu1Vld7"
      },
      "source": [
        "Now, if we look at the Longest gap between two vertical lines trying to merge, it will be at the right-most end. Now just before these two lines merge, if we draw a horizontal line then we will get five intersecting points indicating there should be **5 distinct clusters**."
      ]
    },
    {
      "cell_type": "code",
      "execution_count": 35,
      "metadata": {
        "colab": {
          "base_uri": "https://localhost:8080/"
        },
        "id": "I4DJW-y7akWY",
        "outputId": "3d499a6b-e47e-45ba-9e9f-a640281bb1f1"
      },
      "outputs": [
        {
          "data": {
            "text/plain": [
              "array([4, 3, 4, 3, 4, 3, 4, 3, 4, 3, 4, 3, 4, 3, 4, 3, 4, 3, 4, 3, 4, 3,\n",
              "       4, 3, 4, 3, 4, 0, 4, 3, 4, 3, 4, 3, 4, 3, 4, 3, 4, 3, 4, 3, 4, 0,\n",
              "       4, 0, 0, 0, 0, 0, 0, 0, 0, 0, 0, 0, 0, 0, 0, 0, 0, 0, 0, 0, 0, 0,\n",
              "       0, 0, 0, 0, 0, 0, 0, 0, 0, 0, 0, 0, 0, 0, 0, 0, 0, 0, 0, 0, 0, 0,\n",
              "       0, 0, 0, 0, 0, 0, 0, 0, 0, 0, 0, 0, 0, 0, 0, 0, 0, 0, 0, 0, 0, 0,\n",
              "       0, 0, 0, 0, 0, 0, 0, 0, 0, 0, 0, 0, 0, 2, 0, 2, 1, 2, 1, 2, 1, 2,\n",
              "       0, 2, 1, 2, 1, 2, 1, 2, 1, 2, 0, 2, 1, 2, 1, 2, 1, 2, 1, 2, 1, 2,\n",
              "       1, 2, 1, 2, 1, 2, 1, 2, 1, 2, 1, 2, 1, 2, 1, 2, 1, 2, 1, 2, 1, 2,\n",
              "       1, 2, 1, 2, 1, 2, 1, 2, 1, 2, 1, 2, 1, 2, 1, 2, 1, 2, 1, 2, 1, 2,\n",
              "       1, 2])"
            ]
          },
          "execution_count": 35,
          "metadata": {},
          "output_type": "execute_result"
        }
      ],
      "source": [
        "# Now we can do the clustering based on the decided k value of 5 by looking at the dendrogram\n",
        "model_kfive_agg = AgglomerativeClustering(n_clusters=5)\n",
        "model_kfive_agg.fit_predict(df) #Predict the categories of each point"
      ]
    },
    {
      "cell_type": "code",
      "execution_count": 36,
      "metadata": {
        "colab": {
          "base_uri": "https://localhost:8080/",
          "height": 542
        },
        "id": "dXTOyqWbcoTp",
        "outputId": "3424528e-1562-4839-f32d-b8296b5f8703"
      },
      "outputs": [
        {
          "data": {
            "application/vnd.plotly.v1+json": {
              "config": {
                "plotlyServerURL": "https://plot.ly"
              },
              "data": [
                {
                  "hovertemplate": "Gender_Male=True<br>Age=%{x}<br>Annual Income (k$)=%{y}<br>Spending Score (1-100)=%{z}<br>color=%{marker.color}<extra></extra>",
                  "legendgroup": "True",
                  "marker": {
                    "color": [
                      4,
                      3,
                      4,
                      4,
                      4,
                      3,
                      3,
                      4,
                      4,
                      3,
                      3,
                      3,
                      0,
                      4,
                      4,
                      3,
                      3,
                      4,
                      0,
                      0,
                      0,
                      0,
                      0,
                      0,
                      0,
                      0,
                      0,
                      0,
                      0,
                      0,
                      0,
                      0,
                      0,
                      0,
                      0,
                      0,
                      0,
                      0,
                      0,
                      0,
                      0,
                      0,
                      0,
                      0,
                      0,
                      0,
                      0,
                      0,
                      0,
                      0,
                      2,
                      1,
                      2,
                      1,
                      2,
                      1,
                      2,
                      1,
                      2,
                      1,
                      2,
                      1,
                      2,
                      1,
                      2,
                      1,
                      2,
                      1,
                      1,
                      1,
                      1,
                      1,
                      2,
                      1,
                      2,
                      1,
                      2,
                      1,
                      2,
                      1,
                      2,
                      1,
                      2,
                      2,
                      1,
                      2,
                      1,
                      2
                    ],
                    "coloraxis": "coloraxis",
                    "opacity": 0.75,
                    "symbol": "circle"
                  },
                  "mode": "markers",
                  "name": "True",
                  "scene": "scene",
                  "showlegend": true,
                  "type": "scatter3d",
                  "x": [
                    19,
                    21,
                    64,
                    67,
                    37,
                    22,
                    20,
                    52,
                    35,
                    25,
                    31,
                    29,
                    35,
                    60,
                    53,
                    18,
                    24,
                    48,
                    33,
                    59,
                    47,
                    69,
                    53,
                    70,
                    19,
                    63,
                    18,
                    19,
                    70,
                    59,
                    26,
                    40,
                    57,
                    38,
                    67,
                    48,
                    18,
                    48,
                    24,
                    48,
                    20,
                    67,
                    26,
                    49,
                    54,
                    68,
                    66,
                    65,
                    19,
                    27,
                    39,
                    43,
                    40,
                    59,
                    38,
                    47,
                    39,
                    20,
                    32,
                    19,
                    32,
                    25,
                    28,
                    48,
                    34,
                    43,
                    39,
                    37,
                    34,
                    19,
                    50,
                    42,
                    32,
                    40,
                    28,
                    36,
                    36,
                    58,
                    27,
                    59,
                    35,
                    46,
                    30,
                    28,
                    33,
                    32,
                    32,
                    30
                  ],
                  "y": [
                    15,
                    15,
                    19,
                    19,
                    20,
                    20,
                    21,
                    23,
                    24,
                    24,
                    25,
                    28,
                    28,
                    30,
                    33,
                    33,
                    38,
                    39,
                    42,
                    43,
                    43,
                    44,
                    46,
                    46,
                    46,
                    48,
                    48,
                    48,
                    49,
                    54,
                    54,
                    54,
                    54,
                    54,
                    54,
                    54,
                    59,
                    60,
                    60,
                    61,
                    61,
                    62,
                    62,
                    62,
                    63,
                    63,
                    63,
                    63,
                    64,
                    67,
                    69,
                    71,
                    71,
                    71,
                    71,
                    71,
                    71,
                    73,
                    73,
                    74,
                    75,
                    77,
                    77,
                    77,
                    78,
                    78,
                    78,
                    78,
                    78,
                    81,
                    85,
                    86,
                    87,
                    87,
                    87,
                    87,
                    87,
                    88,
                    88,
                    93,
                    93,
                    98,
                    99,
                    101,
                    113,
                    126,
                    137,
                    137
                  ],
                  "z": [
                    39,
                    81,
                    3,
                    14,
                    13,
                    79,
                    66,
                    29,
                    35,
                    73,
                    73,
                    82,
                    61,
                    4,
                    4,
                    92,
                    92,
                    36,
                    60,
                    60,
                    41,
                    46,
                    46,
                    56,
                    55,
                    51,
                    59,
                    59,
                    55,
                    47,
                    54,
                    48,
                    51,
                    55,
                    41,
                    46,
                    41,
                    49,
                    52,
                    42,
                    49,
                    59,
                    55,
                    56,
                    46,
                    43,
                    48,
                    52,
                    46,
                    56,
                    91,
                    35,
                    95,
                    11,
                    75,
                    9,
                    75,
                    5,
                    73,
                    10,
                    93,
                    12,
                    97,
                    36,
                    90,
                    17,
                    88,
                    1,
                    1,
                    5,
                    26,
                    20,
                    63,
                    13,
                    75,
                    10,
                    92,
                    15,
                    69,
                    14,
                    90,
                    15,
                    97,
                    68,
                    8,
                    74,
                    18,
                    83
                  ]
                },
                {
                  "hovertemplate": "Gender_Male=False<br>Age=%{x}<br>Annual Income (k$)=%{y}<br>Spending Score (1-100)=%{z}<br>color=%{marker.color}<extra></extra>",
                  "legendgroup": "False",
                  "marker": {
                    "color": [
                      4,
                      3,
                      4,
                      3,
                      4,
                      3,
                      3,
                      3,
                      4,
                      3,
                      4,
                      3,
                      4,
                      4,
                      4,
                      4,
                      3,
                      3,
                      4,
                      3,
                      4,
                      3,
                      4,
                      3,
                      4,
                      0,
                      4,
                      0,
                      0,
                      0,
                      0,
                      0,
                      0,
                      0,
                      0,
                      0,
                      0,
                      0,
                      0,
                      0,
                      0,
                      0,
                      0,
                      0,
                      0,
                      0,
                      0,
                      0,
                      0,
                      0,
                      0,
                      0,
                      0,
                      0,
                      0,
                      0,
                      0,
                      0,
                      0,
                      0,
                      0,
                      0,
                      0,
                      0,
                      0,
                      0,
                      0,
                      0,
                      0,
                      0,
                      0,
                      0,
                      0,
                      0,
                      2,
                      0,
                      2,
                      2,
                      1,
                      2,
                      1,
                      0,
                      2,
                      2,
                      1,
                      1,
                      2,
                      1,
                      2,
                      2,
                      2,
                      1,
                      2,
                      2,
                      2,
                      2,
                      1,
                      1,
                      2,
                      1,
                      2,
                      2,
                      1,
                      1,
                      1,
                      2,
                      1,
                      2,
                      2,
                      1,
                      2,
                      1
                    ],
                    "coloraxis": "coloraxis",
                    "opacity": 0.75,
                    "symbol": "diamond"
                  },
                  "mode": "markers",
                  "name": "False",
                  "scene": "scene",
                  "showlegend": true,
                  "type": "scatter3d",
                  "x": [
                    20,
                    23,
                    31,
                    22,
                    35,
                    23,
                    30,
                    35,
                    58,
                    24,
                    35,
                    35,
                    46,
                    54,
                    45,
                    40,
                    23,
                    21,
                    49,
                    21,
                    42,
                    30,
                    36,
                    20,
                    65,
                    31,
                    49,
                    24,
                    50,
                    27,
                    29,
                    31,
                    49,
                    31,
                    50,
                    51,
                    27,
                    67,
                    54,
                    43,
                    68,
                    32,
                    47,
                    60,
                    60,
                    45,
                    23,
                    49,
                    46,
                    21,
                    55,
                    22,
                    34,
                    50,
                    68,
                    40,
                    32,
                    47,
                    27,
                    23,
                    49,
                    21,
                    66,
                    19,
                    38,
                    18,
                    19,
                    63,
                    49,
                    51,
                    50,
                    38,
                    40,
                    23,
                    31,
                    25,
                    31,
                    29,
                    44,
                    35,
                    57,
                    28,
                    32,
                    32,
                    34,
                    44,
                    38,
                    47,
                    27,
                    30,
                    30,
                    56,
                    29,
                    31,
                    36,
                    33,
                    36,
                    52,
                    30,
                    37,
                    32,
                    29,
                    41,
                    54,
                    41,
                    36,
                    34,
                    32,
                    38,
                    47,
                    35,
                    45
                  ],
                  "y": [
                    16,
                    16,
                    17,
                    17,
                    18,
                    18,
                    19,
                    19,
                    20,
                    20,
                    21,
                    23,
                    25,
                    28,
                    28,
                    29,
                    29,
                    30,
                    33,
                    33,
                    34,
                    34,
                    37,
                    37,
                    38,
                    39,
                    39,
                    39,
                    40,
                    40,
                    40,
                    40,
                    42,
                    43,
                    43,
                    44,
                    46,
                    47,
                    47,
                    48,
                    48,
                    48,
                    49,
                    50,
                    50,
                    54,
                    54,
                    54,
                    54,
                    54,
                    57,
                    57,
                    58,
                    58,
                    59,
                    60,
                    60,
                    60,
                    60,
                    62,
                    62,
                    62,
                    63,
                    63,
                    64,
                    65,
                    65,
                    65,
                    65,
                    67,
                    67,
                    67,
                    69,
                    70,
                    70,
                    72,
                    72,
                    73,
                    73,
                    74,
                    75,
                    76,
                    76,
                    77,
                    78,
                    78,
                    78,
                    78,
                    78,
                    78,
                    78,
                    79,
                    79,
                    81,
                    85,
                    86,
                    87,
                    88,
                    88,
                    97,
                    97,
                    98,
                    99,
                    101,
                    103,
                    103,
                    103,
                    103,
                    113,
                    120,
                    120,
                    126
                  ],
                  "z": [
                    6,
                    77,
                    40,
                    76,
                    6,
                    94,
                    72,
                    99,
                    15,
                    77,
                    35,
                    98,
                    5,
                    14,
                    32,
                    31,
                    87,
                    73,
                    14,
                    81,
                    17,
                    73,
                    26,
                    75,
                    35,
                    61,
                    28,
                    65,
                    55,
                    47,
                    42,
                    42,
                    52,
                    54,
                    45,
                    50,
                    51,
                    52,
                    59,
                    50,
                    48,
                    47,
                    42,
                    49,
                    56,
                    53,
                    52,
                    42,
                    44,
                    57,
                    58,
                    55,
                    60,
                    46,
                    55,
                    40,
                    42,
                    47,
                    50,
                    41,
                    48,
                    42,
                    50,
                    54,
                    42,
                    48,
                    50,
                    43,
                    59,
                    43,
                    57,
                    40,
                    58,
                    29,
                    77,
                    34,
                    71,
                    88,
                    7,
                    72,
                    5,
                    40,
                    87,
                    74,
                    22,
                    20,
                    76,
                    16,
                    89,
                    78,
                    73,
                    35,
                    83,
                    93,
                    75,
                    95,
                    27,
                    13,
                    86,
                    32,
                    86,
                    88,
                    39,
                    24,
                    17,
                    85,
                    23,
                    69,
                    91,
                    16,
                    79,
                    28
                  ]
                }
              ],
              "layout": {
                "coloraxis": {
                  "colorbar": {
                    "ticks": "outside",
                    "title": {
                      "text": "color"
                    },
                    "x": 0,
                    "y": 1,
                    "yanchor": "top"
                  },
                  "colorscale": [
                    [
                      0,
                      "#0d0887"
                    ],
                    [
                      0.1111111111111111,
                      "#46039f"
                    ],
                    [
                      0.2222222222222222,
                      "#7201a8"
                    ],
                    [
                      0.3333333333333333,
                      "#9c179e"
                    ],
                    [
                      0.4444444444444444,
                      "#bd3786"
                    ],
                    [
                      0.5555555555555556,
                      "#d8576b"
                    ],
                    [
                      0.6666666666666666,
                      "#ed7953"
                    ],
                    [
                      0.7777777777777778,
                      "#fb9f3a"
                    ],
                    [
                      0.8888888888888888,
                      "#fdca26"
                    ],
                    [
                      1,
                      "#f0f921"
                    ]
                  ]
                },
                "legend": {
                  "title": {
                    "text": "Gender_Male"
                  },
                  "tracegroupgap": 0
                },
                "margin": {
                  "t": 60
                },
                "scene": {
                  "domain": {
                    "x": [
                      0,
                      1
                    ],
                    "y": [
                      0,
                      1
                    ]
                  },
                  "xaxis": {
                    "title": {
                      "text": "Age"
                    }
                  },
                  "yaxis": {
                    "title": {
                      "text": "Annual Income (k$)"
                    }
                  },
                  "zaxis": {
                    "title": {
                      "text": "Spending Score (1-100)"
                    }
                  }
                },
                "template": {
                  "data": {
                    "bar": [
                      {
                        "error_x": {
                          "color": "#2a3f5f"
                        },
                        "error_y": {
                          "color": "#2a3f5f"
                        },
                        "marker": {
                          "line": {
                            "color": "#E5ECF6",
                            "width": 0.5
                          },
                          "pattern": {
                            "fillmode": "overlay",
                            "size": 10,
                            "solidity": 0.2
                          }
                        },
                        "type": "bar"
                      }
                    ],
                    "barpolar": [
                      {
                        "marker": {
                          "line": {
                            "color": "#E5ECF6",
                            "width": 0.5
                          },
                          "pattern": {
                            "fillmode": "overlay",
                            "size": 10,
                            "solidity": 0.2
                          }
                        },
                        "type": "barpolar"
                      }
                    ],
                    "carpet": [
                      {
                        "aaxis": {
                          "endlinecolor": "#2a3f5f",
                          "gridcolor": "white",
                          "linecolor": "white",
                          "minorgridcolor": "white",
                          "startlinecolor": "#2a3f5f"
                        },
                        "baxis": {
                          "endlinecolor": "#2a3f5f",
                          "gridcolor": "white",
                          "linecolor": "white",
                          "minorgridcolor": "white",
                          "startlinecolor": "#2a3f5f"
                        },
                        "type": "carpet"
                      }
                    ],
                    "choropleth": [
                      {
                        "colorbar": {
                          "outlinewidth": 0,
                          "ticks": ""
                        },
                        "type": "choropleth"
                      }
                    ],
                    "contour": [
                      {
                        "colorbar": {
                          "outlinewidth": 0,
                          "ticks": ""
                        },
                        "colorscale": [
                          [
                            0,
                            "#0d0887"
                          ],
                          [
                            0.1111111111111111,
                            "#46039f"
                          ],
                          [
                            0.2222222222222222,
                            "#7201a8"
                          ],
                          [
                            0.3333333333333333,
                            "#9c179e"
                          ],
                          [
                            0.4444444444444444,
                            "#bd3786"
                          ],
                          [
                            0.5555555555555556,
                            "#d8576b"
                          ],
                          [
                            0.6666666666666666,
                            "#ed7953"
                          ],
                          [
                            0.7777777777777778,
                            "#fb9f3a"
                          ],
                          [
                            0.8888888888888888,
                            "#fdca26"
                          ],
                          [
                            1,
                            "#f0f921"
                          ]
                        ],
                        "type": "contour"
                      }
                    ],
                    "contourcarpet": [
                      {
                        "colorbar": {
                          "outlinewidth": 0,
                          "ticks": ""
                        },
                        "type": "contourcarpet"
                      }
                    ],
                    "heatmap": [
                      {
                        "colorbar": {
                          "outlinewidth": 0,
                          "ticks": ""
                        },
                        "colorscale": [
                          [
                            0,
                            "#0d0887"
                          ],
                          [
                            0.1111111111111111,
                            "#46039f"
                          ],
                          [
                            0.2222222222222222,
                            "#7201a8"
                          ],
                          [
                            0.3333333333333333,
                            "#9c179e"
                          ],
                          [
                            0.4444444444444444,
                            "#bd3786"
                          ],
                          [
                            0.5555555555555556,
                            "#d8576b"
                          ],
                          [
                            0.6666666666666666,
                            "#ed7953"
                          ],
                          [
                            0.7777777777777778,
                            "#fb9f3a"
                          ],
                          [
                            0.8888888888888888,
                            "#fdca26"
                          ],
                          [
                            1,
                            "#f0f921"
                          ]
                        ],
                        "type": "heatmap"
                      }
                    ],
                    "heatmapgl": [
                      {
                        "colorbar": {
                          "outlinewidth": 0,
                          "ticks": ""
                        },
                        "colorscale": [
                          [
                            0,
                            "#0d0887"
                          ],
                          [
                            0.1111111111111111,
                            "#46039f"
                          ],
                          [
                            0.2222222222222222,
                            "#7201a8"
                          ],
                          [
                            0.3333333333333333,
                            "#9c179e"
                          ],
                          [
                            0.4444444444444444,
                            "#bd3786"
                          ],
                          [
                            0.5555555555555556,
                            "#d8576b"
                          ],
                          [
                            0.6666666666666666,
                            "#ed7953"
                          ],
                          [
                            0.7777777777777778,
                            "#fb9f3a"
                          ],
                          [
                            0.8888888888888888,
                            "#fdca26"
                          ],
                          [
                            1,
                            "#f0f921"
                          ]
                        ],
                        "type": "heatmapgl"
                      }
                    ],
                    "histogram": [
                      {
                        "marker": {
                          "pattern": {
                            "fillmode": "overlay",
                            "size": 10,
                            "solidity": 0.2
                          }
                        },
                        "type": "histogram"
                      }
                    ],
                    "histogram2d": [
                      {
                        "colorbar": {
                          "outlinewidth": 0,
                          "ticks": ""
                        },
                        "colorscale": [
                          [
                            0,
                            "#0d0887"
                          ],
                          [
                            0.1111111111111111,
                            "#46039f"
                          ],
                          [
                            0.2222222222222222,
                            "#7201a8"
                          ],
                          [
                            0.3333333333333333,
                            "#9c179e"
                          ],
                          [
                            0.4444444444444444,
                            "#bd3786"
                          ],
                          [
                            0.5555555555555556,
                            "#d8576b"
                          ],
                          [
                            0.6666666666666666,
                            "#ed7953"
                          ],
                          [
                            0.7777777777777778,
                            "#fb9f3a"
                          ],
                          [
                            0.8888888888888888,
                            "#fdca26"
                          ],
                          [
                            1,
                            "#f0f921"
                          ]
                        ],
                        "type": "histogram2d"
                      }
                    ],
                    "histogram2dcontour": [
                      {
                        "colorbar": {
                          "outlinewidth": 0,
                          "ticks": ""
                        },
                        "colorscale": [
                          [
                            0,
                            "#0d0887"
                          ],
                          [
                            0.1111111111111111,
                            "#46039f"
                          ],
                          [
                            0.2222222222222222,
                            "#7201a8"
                          ],
                          [
                            0.3333333333333333,
                            "#9c179e"
                          ],
                          [
                            0.4444444444444444,
                            "#bd3786"
                          ],
                          [
                            0.5555555555555556,
                            "#d8576b"
                          ],
                          [
                            0.6666666666666666,
                            "#ed7953"
                          ],
                          [
                            0.7777777777777778,
                            "#fb9f3a"
                          ],
                          [
                            0.8888888888888888,
                            "#fdca26"
                          ],
                          [
                            1,
                            "#f0f921"
                          ]
                        ],
                        "type": "histogram2dcontour"
                      }
                    ],
                    "mesh3d": [
                      {
                        "colorbar": {
                          "outlinewidth": 0,
                          "ticks": ""
                        },
                        "type": "mesh3d"
                      }
                    ],
                    "parcoords": [
                      {
                        "line": {
                          "colorbar": {
                            "outlinewidth": 0,
                            "ticks": ""
                          }
                        },
                        "type": "parcoords"
                      }
                    ],
                    "pie": [
                      {
                        "automargin": true,
                        "type": "pie"
                      }
                    ],
                    "scatter": [
                      {
                        "fillpattern": {
                          "fillmode": "overlay",
                          "size": 10,
                          "solidity": 0.2
                        },
                        "type": "scatter"
                      }
                    ],
                    "scatter3d": [
                      {
                        "line": {
                          "colorbar": {
                            "outlinewidth": 0,
                            "ticks": ""
                          }
                        },
                        "marker": {
                          "colorbar": {
                            "outlinewidth": 0,
                            "ticks": ""
                          }
                        },
                        "type": "scatter3d"
                      }
                    ],
                    "scattercarpet": [
                      {
                        "marker": {
                          "colorbar": {
                            "outlinewidth": 0,
                            "ticks": ""
                          }
                        },
                        "type": "scattercarpet"
                      }
                    ],
                    "scattergeo": [
                      {
                        "marker": {
                          "colorbar": {
                            "outlinewidth": 0,
                            "ticks": ""
                          }
                        },
                        "type": "scattergeo"
                      }
                    ],
                    "scattergl": [
                      {
                        "marker": {
                          "colorbar": {
                            "outlinewidth": 0,
                            "ticks": ""
                          }
                        },
                        "type": "scattergl"
                      }
                    ],
                    "scattermapbox": [
                      {
                        "marker": {
                          "colorbar": {
                            "outlinewidth": 0,
                            "ticks": ""
                          }
                        },
                        "type": "scattermapbox"
                      }
                    ],
                    "scatterpolar": [
                      {
                        "marker": {
                          "colorbar": {
                            "outlinewidth": 0,
                            "ticks": ""
                          }
                        },
                        "type": "scatterpolar"
                      }
                    ],
                    "scatterpolargl": [
                      {
                        "marker": {
                          "colorbar": {
                            "outlinewidth": 0,
                            "ticks": ""
                          }
                        },
                        "type": "scatterpolargl"
                      }
                    ],
                    "scatterternary": [
                      {
                        "marker": {
                          "colorbar": {
                            "outlinewidth": 0,
                            "ticks": ""
                          }
                        },
                        "type": "scatterternary"
                      }
                    ],
                    "surface": [
                      {
                        "colorbar": {
                          "outlinewidth": 0,
                          "ticks": ""
                        },
                        "colorscale": [
                          [
                            0,
                            "#0d0887"
                          ],
                          [
                            0.1111111111111111,
                            "#46039f"
                          ],
                          [
                            0.2222222222222222,
                            "#7201a8"
                          ],
                          [
                            0.3333333333333333,
                            "#9c179e"
                          ],
                          [
                            0.4444444444444444,
                            "#bd3786"
                          ],
                          [
                            0.5555555555555556,
                            "#d8576b"
                          ],
                          [
                            0.6666666666666666,
                            "#ed7953"
                          ],
                          [
                            0.7777777777777778,
                            "#fb9f3a"
                          ],
                          [
                            0.8888888888888888,
                            "#fdca26"
                          ],
                          [
                            1,
                            "#f0f921"
                          ]
                        ],
                        "type": "surface"
                      }
                    ],
                    "table": [
                      {
                        "cells": {
                          "fill": {
                            "color": "#EBF0F8"
                          },
                          "line": {
                            "color": "white"
                          }
                        },
                        "header": {
                          "fill": {
                            "color": "#C8D4E3"
                          },
                          "line": {
                            "color": "white"
                          }
                        },
                        "type": "table"
                      }
                    ]
                  },
                  "layout": {
                    "annotationdefaults": {
                      "arrowcolor": "#2a3f5f",
                      "arrowhead": 0,
                      "arrowwidth": 1
                    },
                    "autotypenumbers": "strict",
                    "coloraxis": {
                      "colorbar": {
                        "outlinewidth": 0,
                        "ticks": ""
                      }
                    },
                    "colorscale": {
                      "diverging": [
                        [
                          0,
                          "#8e0152"
                        ],
                        [
                          0.1,
                          "#c51b7d"
                        ],
                        [
                          0.2,
                          "#de77ae"
                        ],
                        [
                          0.3,
                          "#f1b6da"
                        ],
                        [
                          0.4,
                          "#fde0ef"
                        ],
                        [
                          0.5,
                          "#f7f7f7"
                        ],
                        [
                          0.6,
                          "#e6f5d0"
                        ],
                        [
                          0.7,
                          "#b8e186"
                        ],
                        [
                          0.8,
                          "#7fbc41"
                        ],
                        [
                          0.9,
                          "#4d9221"
                        ],
                        [
                          1,
                          "#276419"
                        ]
                      ],
                      "sequential": [
                        [
                          0,
                          "#0d0887"
                        ],
                        [
                          0.1111111111111111,
                          "#46039f"
                        ],
                        [
                          0.2222222222222222,
                          "#7201a8"
                        ],
                        [
                          0.3333333333333333,
                          "#9c179e"
                        ],
                        [
                          0.4444444444444444,
                          "#bd3786"
                        ],
                        [
                          0.5555555555555556,
                          "#d8576b"
                        ],
                        [
                          0.6666666666666666,
                          "#ed7953"
                        ],
                        [
                          0.7777777777777778,
                          "#fb9f3a"
                        ],
                        [
                          0.8888888888888888,
                          "#fdca26"
                        ],
                        [
                          1,
                          "#f0f921"
                        ]
                      ],
                      "sequentialminus": [
                        [
                          0,
                          "#0d0887"
                        ],
                        [
                          0.1111111111111111,
                          "#46039f"
                        ],
                        [
                          0.2222222222222222,
                          "#7201a8"
                        ],
                        [
                          0.3333333333333333,
                          "#9c179e"
                        ],
                        [
                          0.4444444444444444,
                          "#bd3786"
                        ],
                        [
                          0.5555555555555556,
                          "#d8576b"
                        ],
                        [
                          0.6666666666666666,
                          "#ed7953"
                        ],
                        [
                          0.7777777777777778,
                          "#fb9f3a"
                        ],
                        [
                          0.8888888888888888,
                          "#fdca26"
                        ],
                        [
                          1,
                          "#f0f921"
                        ]
                      ]
                    },
                    "colorway": [
                      "#636efa",
                      "#EF553B",
                      "#00cc96",
                      "#ab63fa",
                      "#FFA15A",
                      "#19d3f3",
                      "#FF6692",
                      "#B6E880",
                      "#FF97FF",
                      "#FECB52"
                    ],
                    "font": {
                      "color": "#2a3f5f"
                    },
                    "geo": {
                      "bgcolor": "white",
                      "lakecolor": "white",
                      "landcolor": "#E5ECF6",
                      "showlakes": true,
                      "showland": true,
                      "subunitcolor": "white"
                    },
                    "hoverlabel": {
                      "align": "left"
                    },
                    "hovermode": "closest",
                    "mapbox": {
                      "style": "light"
                    },
                    "paper_bgcolor": "white",
                    "plot_bgcolor": "#E5ECF6",
                    "polar": {
                      "angularaxis": {
                        "gridcolor": "white",
                        "linecolor": "white",
                        "ticks": ""
                      },
                      "bgcolor": "#E5ECF6",
                      "radialaxis": {
                        "gridcolor": "white",
                        "linecolor": "white",
                        "ticks": ""
                      }
                    },
                    "scene": {
                      "xaxis": {
                        "backgroundcolor": "#E5ECF6",
                        "gridcolor": "white",
                        "gridwidth": 2,
                        "linecolor": "white",
                        "showbackground": true,
                        "ticks": "",
                        "zerolinecolor": "white"
                      },
                      "yaxis": {
                        "backgroundcolor": "#E5ECF6",
                        "gridcolor": "white",
                        "gridwidth": 2,
                        "linecolor": "white",
                        "showbackground": true,
                        "ticks": "",
                        "zerolinecolor": "white"
                      },
                      "zaxis": {
                        "backgroundcolor": "#E5ECF6",
                        "gridcolor": "white",
                        "gridwidth": 2,
                        "linecolor": "white",
                        "showbackground": true,
                        "ticks": "",
                        "zerolinecolor": "white"
                      }
                    },
                    "shapedefaults": {
                      "line": {
                        "color": "#2a3f5f"
                      }
                    },
                    "ternary": {
                      "aaxis": {
                        "gridcolor": "white",
                        "linecolor": "white",
                        "ticks": ""
                      },
                      "baxis": {
                        "gridcolor": "white",
                        "linecolor": "white",
                        "ticks": ""
                      },
                      "bgcolor": "#E5ECF6",
                      "caxis": {
                        "gridcolor": "white",
                        "linecolor": "white",
                        "ticks": ""
                      }
                    },
                    "title": {
                      "x": 0.05
                    },
                    "xaxis": {
                      "automargin": true,
                      "gridcolor": "white",
                      "linecolor": "white",
                      "ticks": "",
                      "title": {
                        "standoff": 15
                      },
                      "zerolinecolor": "white",
                      "zerolinewidth": 2
                    },
                    "yaxis": {
                      "automargin": true,
                      "gridcolor": "white",
                      "linecolor": "white",
                      "ticks": "",
                      "title": {
                        "standoff": 15
                      },
                      "zerolinecolor": "white",
                      "zerolinewidth": 2
                    }
                  }
                }
              }
            }
          },
          "metadata": {},
          "output_type": "display_data"
        }
      ],
      "source": [
        "# Interactive 3D scatter plot of customers for k=5\n",
        "import plotly.express as px\n",
        "fig = px.scatter_3d(\n",
        "    df,\n",
        "    x='Age',\n",
        "    y='Annual Income (k$)',\n",
        "    z='Spending Score (1-100)',\n",
        "    color=model_kfive_agg.fit_predict(df),\n",
        "    symbol='Gender_Male',\n",
        "    opacity=0.75\n",
        "    )\n",
        "fig.update_layout(coloraxis_colorbar=dict(yanchor='top', y=1, x=0, ticks='outside'))"
      ]
    },
    {
      "cell_type": "markdown",
      "metadata": {
        "id": "RU-Tti-odHPo"
      },
      "source": [
        "Now which is performing better ? Kmeans or Agglomerative hierarchical clustering?\n",
        "- Let's identify with the silhouette score"
      ]
    },
    {
      "cell_type": "code",
      "execution_count": 37,
      "metadata": {
        "colab": {
          "base_uri": "https://localhost:8080/"
        },
        "id": "NUxXWqWoeDwS",
        "outputId": "d1c97be7-2b4f-45f7-ba8f-4515d5aad779"
      },
      "outputs": [
        {
          "data": {
            "text/plain": [
              "0.43997527212476695"
            ]
          },
          "execution_count": 37,
          "metadata": {},
          "output_type": "execute_result"
        }
      ],
      "source": [
        "# Check Silhouette score of Agglomerative hierarchical clustering with k=5\n",
        "silhouette_score(df, model_kfive_agg.fit_predict(df))"
      ]
    },
    {
      "cell_type": "markdown",
      "metadata": {
        "id": "smSAQ-uafbCE"
      },
      "source": [
        "- Kmeans clustering with k=5 had silhouette_score of 0.2719102346618833.\n",
        "- So Silhouette score of Agglomerative hierarchical is more closer to 1 so it should be better\n",
        "- Now, let's verify this with Davies Bouldin Score for k=5, where a lower score indicates better clustering."
      ]
    },
    {
      "cell_type": "code",
      "execution_count": 38,
      "metadata": {
        "colab": {
          "base_uri": "https://localhost:8080/"
        },
        "id": "HHttGPZDfnZ_",
        "outputId": "3eb0a510-a290-4ec4-d35f-ba4ce8dfd78b"
      },
      "outputs": [
        {
          "data": {
            "text/plain": [
              "0.8220436090843715"
            ]
          },
          "execution_count": 38,
          "metadata": {},
          "output_type": "execute_result"
        }
      ],
      "source": [
        "# Check Davies Bouldin Score of Agglomerative hierarchical clustering with k=5\n",
        "from sklearn.metrics import davies_bouldin_score\n",
        "\n",
        "davies_bouldin_score(df,model_kfive_agg.fit_predict(df))"
      ]
    },
    {
      "cell_type": "markdown",
      "metadata": {
        "id": "E4I3NCehgo6B"
      },
      "source": [
        "\n",
        "- Kmeans clustering with k=5 had Davies Bouldin Score of 1.8420811571787692\n",
        "- So Davies Bouldin Score of Agglomerative hierarchical is lower and hence better.\n",
        "\n",
        "So clearly Agglomerative hierarchical clustering is performing better than K-means clustering."
      ]
    },
    {
      "cell_type": "markdown",
      "metadata": {
        "id": "exn03jMFiipO"
      },
      "source": [
        "## Density-based clustering"
      ]
    },
    {
      "cell_type": "code",
      "execution_count": 39,
      "metadata": {
        "id": "zb4sFmKYikRV"
      },
      "outputs": [],
      "source": [
        "from sklearn.cluster import DBSCAN\n",
        "outlier_percent = []\n",
        "\n",
        "for eps in np.linspace(0.001,3,50): # Check for 50 values of epsilon between 0.001 and 50\n",
        "  #Create Model\n",
        "  dbscan = DBSCAN(eps=eps, min_samples=8)\n",
        "  dbscan.fit(scaled_df)\n",
        "\n",
        "  # Percentage of points that are outliers\n",
        "  perc_outliers = 100 * np.sum(dbscan.labels_ == -1) / len(dbscan.labels_)\n",
        "  outlier_percent.append(perc_outliers)"
      ]
    },
    {
      "cell_type": "code",
      "execution_count": 40,
      "metadata": {
        "colab": {
          "base_uri": "https://localhost:8080/",
          "height": 466
        },
        "id": "UY3j5INRTzs_",
        "outputId": "480529f3-245f-406e-af2a-efd45213b6c2"
      },
      "outputs": [
        {
          "data": {
            "text/plain": [
              "Text(0.5, 0, 'Epsilon value')"
            ]
          },
          "execution_count": 40,
          "metadata": {},
          "output_type": "execute_result"
        },
        {
          "data": {
            "image/png": "[encoded data removed]",
            "text/plain": [
              "<Figure size 640x480 with 1 Axes>"
            ]
          },
          "metadata": {},
          "output_type": "display_data"
        }
      ],
      "source": [
        "sns.lineplot(x=np.linspace(0.001,3,50), y=outlier_percent, color='green')\n",
        "plt.ylabel(\"Percentage of points classified as outliers\")\n",
        "plt.xlabel(\"Epsilon value\")"
      ]
    },
    {
      "cell_type": "markdown",
      "metadata": {
        "id": "BUKTXK9TUU3d"
      },
      "source": [
        "It is quite evident that the epsilon value should be from 1.1 to 1.3 with the elbow method."
      ]
    },
    {
      "cell_type": "code",
      "execution_count": 41,
      "metadata": {
        "colab": {
          "base_uri": "https://localhost:8080/",
          "height": 79
        },
        "id": "CyOXcrp7Ui9R",
        "outputId": "b8ded22f-2ec1-4f6c-ae5e-4b01f075e6ae"
      },
      "outputs": [
        {
          "data": {
            "text/html": [
              "<style>#sk-container-id-1 {\n",
              "  /* Definition of color scheme common for light and dark mode */\n",
              "  --sklearn-color-text: black;\n",
              "  --sklearn-color-line: gray;\n",
              "  /* Definition of color scheme for unfitted estimators */\n",
              "  --sklearn-color-unfitted-level-0: #fff5e6;\n",
              "  --sklearn-color-unfitted-level-1: #f6e4d2;\n",
              "  --sklearn-color-unfitted-level-2: #ffe0b3;\n",
              "  --sklearn-color-unfitted-level-3: chocolate;\n",
              "  /* Definition of color scheme for fitted estimators */\n",
              "  --sklearn-color-fitted-level-0: #f0f8ff;\n",
              "  --sklearn-color-fitted-level-1: #d4ebff;\n",
              "  --sklearn-color-fitted-level-2: #b3dbfd;\n",
              "  --sklearn-color-fitted-level-3: cornflowerblue;\n",
              "\n",
              "  /* Specific color for light theme */\n",
              "  --sklearn-color-text-on-default-background: var(--sg-text-color, var(--theme-code-foreground, var(--jp-content-font-color1, black)));\n",
              "  --sklearn-color-background: var(--sg-background-color, var(--theme-background, var(--jp-layout-color0, white)));\n",
              "  --sklearn-color-border-box: var(--sg-text-color, var(--theme-code-foreground, var(--jp-content-font-color1, black)));\n",
              "  --sklearn-color-icon: #696969;\n",
              "\n",
              "  @media (prefers-color-scheme: dark) {\n",
              "    /* Redefinition of color scheme for dark theme */\n",
              "    --sklearn-color-text-on-default-background: var(--sg-text-color, var(--theme-code-foreground, var(--jp-content-font-color1, white)));\n",
              "    --sklearn-color-background: var(--sg-background-color, var(--theme-background, var(--jp-layout-color0, #111)));\n",
              "    --sklearn-color-border-box: var(--sg-text-color, var(--theme-code-foreground, var(--jp-content-font-color1, white)));\n",
              "    --sklearn-color-icon: #878787;\n",
              "  }\n",
              "}\n",
              "\n",
              "#sk-container-id-1 {\n",
              "  color: var(--sklearn-color-text);\n",
              "}\n",
              "\n",
              "#sk-container-id-1 pre {\n",
              "  padding: 0;\n",
              "}\n",
              "\n",
              "#sk-container-id-1 input.sk-hidden--visually {\n",
              "  border: 0;\n",
              "  clip: rect(1px 1px 1px 1px);\n",
              "  clip: rect(1px, 1px, 1px, 1px);\n",
              "  height: 1px;\n",
              "  margin: -1px;\n",
              "  overflow: hidden;\n",
              "  padding: 0;\n",
              "  position: absolute;\n",
              "  width: 1px;\n",
              "}\n",
              "\n",
              "#sk-container-id-1 div.sk-dashed-wrapped {\n",
              "  border: 1px dashed var(--sklearn-color-line);\n",
              "  margin: 0 0.4em 0.5em 0.4em;\n",
              "  box-sizing: border-box;\n",
              "  padding-bottom: 0.4em;\n",
              "  background-color: var(--sklearn-color-background);\n",
              "}\n",
              "\n",
              "#sk-container-id-1 div.sk-container {\n",
              "  /* jupyter's `normalize.less` sets `[hidden] { display: none; }`\n",
              "     but bootstrap.min.css set `[hidden] { display: none !important; }`\n",
              "     so we also need the `!important` here to be able to override the\n",
              "     default hidden behavior on the sphinx rendered scikit-learn.org.\n",
              "     See: https://github.com/scikit-learn/scikit-learn/issues/21755 */\n",
              "  display: inline-block !important;\n",
              "  position: relative;\n",
              "}\n",
              "\n",
              "#sk-container-id-1 div.sk-text-repr-fallback {\n",
              "  display: none;\n",
              "}\n",
              "\n",
              "div.sk-parallel-item,\n",
              "div.sk-serial,\n",
              "div.sk-item {\n",
              "  /* draw centered vertical line to link estimators */\n",
              "  background-image: linear-gradient(var(--sklearn-color-text-on-default-background), var(--sklearn-color-text-on-default-background));\n",
              "  background-size: 2px 100%;\n",
              "  background-repeat: no-repeat;\n",
              "  background-position: center center;\n",
              "}\n",
              "\n",
              "/* Parallel-specific style estimator block */\n",
              "\n",
              "#sk-container-id-1 div.sk-parallel-item::after {\n",
              "  content: \"\";\n",
              "  width: 100%;\n",
              "  border-bottom: 2px solid var(--sklearn-color-text-on-default-background);\n",
              "  flex-grow: 1;\n",
              "}\n",
              "\n",
              "#sk-container-id-1 div.sk-parallel {\n",
              "  display: flex;\n",
              "  align-items: stretch;\n",
              "  justify-content: center;\n",
              "  background-color: var(--sklearn-color-background);\n",
              "  position: relative;\n",
              "}\n",
              "\n",
              "#sk-container-id-1 div.sk-parallel-item {\n",
              "  display: flex;\n",
              "  flex-direction: column;\n",
              "}\n",
              "\n",
              "#sk-container-id-1 div.sk-parallel-item:first-child::after {\n",
              "  align-self: flex-end;\n",
              "  width: 50%;\n",
              "}\n",
              "\n",
              "#sk-container-id-1 div.sk-parallel-item:last-child::after {\n",
              "  align-self: flex-start;\n",
              "  width: 50%;\n",
              "}\n",
              "\n",
              "#sk-container-id-1 div.sk-parallel-item:only-child::after {\n",
              "  width: 0;\n",
              "}\n",
              "\n",
              "/* Serial-specific style estimator block */\n",
              "\n",
              "#sk-container-id-1 div.sk-serial {\n",
              "  display: flex;\n",
              "  flex-direction: column;\n",
              "  align-items: center;\n",
              "  background-color: var(--sklearn-color-background);\n",
              "  padding-right: 1em;\n",
              "  padding-left: 1em;\n",
              "}\n",
              "\n",
              "\n",
              "/* Toggleable style: style used for estimator/Pipeline/ColumnTransformer box that is\n",
              "clickable and can be expanded/collapsed.\n",
              "- Pipeline and ColumnTransformer use this feature and define the default style\n",
              "- Estimators will overwrite some part of the style using the `sk-estimator` class\n",
              "*/\n",
              "\n",
              "/* Pipeline and ColumnTransformer style (default) */\n",
              "\n",
              "#sk-container-id-1 div.sk-toggleable {\n",
              "  /* Default theme specific background. It is overwritten whether we have a\n",
              "  specific estimator or a Pipeline/ColumnTransformer */\n",
              "  background-color: var(--sklearn-color-background);\n",
              "}\n",
              "\n",
              "/* Toggleable label */\n",
              "#sk-container-id-1 label.sk-toggleable__label {\n",
              "  cursor: pointer;\n",
              "  display: block;\n",
              "  width: 100%;\n",
              "  margin-bottom: 0;\n",
              "  padding: 0.5em;\n",
              "  box-sizing: border-box;\n",
              "  text-align: center;\n",
              "}\n",
              "\n",
              "#sk-container-id-1 label.sk-toggleable__label-arrow:before {\n",
              "  /* Arrow on the left of the label */\n",
              "  content: \"▸\";\n",
              "  float: left;\n",
              "  margin-right: 0.25em;\n",
              "  color: var(--sklearn-color-icon);\n",
              "}\n",
              "\n",
              "#sk-container-id-1 label.sk-toggleable__label-arrow:hover:before {\n",
              "  color: var(--sklearn-color-text);\n",
              "}\n",
              "\n",
              "/* Toggleable content - dropdown */\n",
              "\n",
              "#sk-container-id-1 div.sk-toggleable__content {\n",
              "  max-height: 0;\n",
              "  max-width: 0;\n",
              "  overflow: hidden;\n",
              "  text-align: left;\n",
              "  /* unfitted */\n",
              "  background-color: var(--sklearn-color-unfitted-level-0);\n",
              "}\n",
              "\n",
              "#sk-container-id-1 div.sk-toggleable__content.fitted {\n",
              "  /* fitted */\n",
              "  background-color: var(--sklearn-color-fitted-level-0);\n",
              "}\n",
              "\n",
              "#sk-container-id-1 div.sk-toggleable__content pre {\n",
              "  margin: 0.2em;\n",
              "  border-radius: 0.25em;\n",
              "  color: var(--sklearn-color-text);\n",
              "  /* unfitted */\n",
              "  background-color: var(--sklearn-color-unfitted-level-0);\n",
              "}\n",
              "\n",
              "#sk-container-id-1 div.sk-toggleable__content.fitted pre {\n",
              "  /* unfitted */\n",
              "  background-color: var(--sklearn-color-fitted-level-0);\n",
              "}\n",
              "\n",
              "#sk-container-id-1 input.sk-toggleable__control:checked~div.sk-toggleable__content {\n",
              "  /* Expand drop-down */\n",
              "  max-height: 200px;\n",
              "  max-width: 100%;\n",
              "  overflow: auto;\n",
              "}\n",
              "\n",
              "#sk-container-id-1 input.sk-toggleable__control:checked~label.sk-toggleable__label-arrow:before {\n",
              "  content: \"▾\";\n",
              "}\n",
              "\n",
              "/* Pipeline/ColumnTransformer-specific style */\n",
              "\n",
              "#sk-container-id-1 div.sk-label input.sk-toggleable__control:checked~label.sk-toggleable__label {\n",
              "  color: var(--sklearn-color-text);\n",
              "  background-color: var(--sklearn-color-unfitted-level-2);\n",
              "}\n",
              "\n",
              "#sk-container-id-1 div.sk-label.fitted input.sk-toggleable__control:checked~label.sk-toggleable__label {\n",
              "  background-color: var(--sklearn-color-fitted-level-2);\n",
              "}\n",
              "\n",
              "/* Estimator-specific style */\n",
              "\n",
              "/* Colorize estimator box */\n",
              "#sk-container-id-1 div.sk-estimator input.sk-toggleable__control:checked~label.sk-toggleable__label {\n",
              "  /* unfitted */\n",
              "  background-color: var(--sklearn-color-unfitted-level-2);\n",
              "}\n",
              "\n",
              "#sk-container-id-1 div.sk-estimator.fitted input.sk-toggleable__control:checked~label.sk-toggleable__label {\n",
              "  /* fitted */\n",
              "  background-color: var(--sklearn-color-fitted-level-2);\n",
              "}\n",
              "\n",
              "#sk-container-id-1 div.sk-label label.sk-toggleable__label,\n",
              "#sk-container-id-1 div.sk-label label {\n",
              "  /* The background is the default theme color */\n",
              "  color: var(--sklearn-color-text-on-default-background);\n",
              "}\n",
              "\n",
              "/* On hover, darken the color of the background */\n",
              "#sk-container-id-1 div.sk-label:hover label.sk-toggleable__label {\n",
              "  color: var(--sklearn-color-text);\n",
              "  background-color: var(--sklearn-color-unfitted-level-2);\n",
              "}\n",
              "\n",
              "/* Label box, darken color on hover, fitted */\n",
              "#sk-container-id-1 div.sk-label.fitted:hover label.sk-toggleable__label.fitted {\n",
              "  color: var(--sklearn-color-text);\n",
              "  background-color: var(--sklearn-color-fitted-level-2);\n",
              "}\n",
              "\n",
              "/* Estimator label */\n",
              "\n",
              "#sk-container-id-1 div.sk-label label {\n",
              "  font-family: monospace;\n",
              "  font-weight: bold;\n",
              "  display: inline-block;\n",
              "  line-height: 1.2em;\n",
              "}\n",
              "\n",
              "#sk-container-id-1 div.sk-label-container {\n",
              "  text-align: center;\n",
              "}\n",
              "\n",
              "/* Estimator-specific */\n",
              "#sk-container-id-1 div.sk-estimator {\n",
              "  font-family: monospace;\n",
              "  border: 1px dotted var(--sklearn-color-border-box);\n",
              "  border-radius: 0.25em;\n",
              "  box-sizing: border-box;\n",
              "  margin-bottom: 0.5em;\n",
              "  /* unfitted */\n",
              "  background-color: var(--sklearn-color-unfitted-level-0);\n",
              "}\n",
              "\n",
              "#sk-container-id-1 div.sk-estimator.fitted {\n",
              "  /* fitted */\n",
              "  background-color: var(--sklearn-color-fitted-level-0);\n",
              "}\n",
              "\n",
              "/* on hover */\n",
              "#sk-container-id-1 div.sk-estimator:hover {\n",
              "  /* unfitted */\n",
              "  background-color: var(--sklearn-color-unfitted-level-2);\n",
              "}\n",
              "\n",
              "#sk-container-id-1 div.sk-estimator.fitted:hover {\n",
              "  /* fitted */\n",
              "  background-color: var(--sklearn-color-fitted-level-2);\n",
              "}\n",
              "\n",
              "/* Specification for estimator info (e.g. \"i\" and \"?\") */\n",
              "\n",
              "/* Common style for \"i\" and \"?\" */\n",
              "\n",
              ".sk-estimator-doc-link,\n",
              "a:link.sk-estimator-doc-link,\n",
              "a:visited.sk-estimator-doc-link {\n",
              "  float: right;\n",
              "  font-size: smaller;\n",
              "  line-height: 1em;\n",
              "  font-family: monospace;\n",
              "  background-color: var(--sklearn-color-background);\n",
              "  border-radius: 1em;\n",
              "  height: 1em;\n",
              "  width: 1em;\n",
              "  text-decoration: none !important;\n",
              "  margin-left: 1ex;\n",
              "  /* unfitted */\n",
              "  border: var(--sklearn-color-unfitted-level-1) 1pt solid;\n",
              "  color: var(--sklearn-color-unfitted-level-1);\n",
              "}\n",
              "\n",
              ".sk-estimator-doc-link.fitted,\n",
              "a:link.sk-estimator-doc-link.fitted,\n",
              "a:visited.sk-estimator-doc-link.fitted {\n",
              "  /* fitted */\n",
              "  border: var(--sklearn-color-fitted-level-1) 1pt solid;\n",
              "  color: var(--sklearn-color-fitted-level-1);\n",
              "}\n",
              "\n",
              "/* On hover */\n",
              "div.sk-estimator:hover .sk-estimator-doc-link:hover,\n",
              ".sk-estimator-doc-link:hover,\n",
              "div.sk-label-container:hover .sk-estimator-doc-link:hover,\n",
              ".sk-estimator-doc-link:hover {\n",
              "  /* unfitted */\n",
              "  background-color: var(--sklearn-color-unfitted-level-3);\n",
              "  color: var(--sklearn-color-background);\n",
              "  text-decoration: none;\n",
              "}\n",
              "\n",
              "div.sk-estimator.fitted:hover .sk-estimator-doc-link.fitted:hover,\n",
              ".sk-estimator-doc-link.fitted:hover,\n",
              "div.sk-label-container:hover .sk-estimator-doc-link.fitted:hover,\n",
              ".sk-estimator-doc-link.fitted:hover {\n",
              "  /* fitted */\n",
              "  background-color: var(--sklearn-color-fitted-level-3);\n",
              "  color: var(--sklearn-color-background);\n",
              "  text-decoration: none;\n",
              "}\n",
              "\n",
              "/* Span, style for the box shown on hovering the info icon */\n",
              ".sk-estimator-doc-link span {\n",
              "  display: none;\n",
              "  z-index: 9999;\n",
              "  position: relative;\n",
              "  font-weight: normal;\n",
              "  right: .2ex;\n",
              "  padding: .5ex;\n",
              "  margin: .5ex;\n",
              "  width: min-content;\n",
              "  min-width: 20ex;\n",
              "  max-width: 50ex;\n",
              "  color: var(--sklearn-color-text);\n",
              "  box-shadow: 2pt 2pt 4pt #999;\n",
              "  /* unfitted */\n",
              "  background: var(--sklearn-color-unfitted-level-0);\n",
              "  border: .5pt solid var(--sklearn-color-unfitted-level-3);\n",
              "}\n",
              "\n",
              ".sk-estimator-doc-link.fitted span {\n",
              "  /* fitted */\n",
              "  background: var(--sklearn-color-fitted-level-0);\n",
              "  border: var(--sklearn-color-fitted-level-3);\n",
              "}\n",
              "\n",
              ".sk-estimator-doc-link:hover span {\n",
              "  display: block;\n",
              "}\n",
              "\n",
              "/* \"?\"-specific style due to the `<a>` HTML tag */\n",
              "\n",
              "#sk-container-id-1 a.estimator_doc_link {\n",
              "  float: right;\n",
              "  font-size: 1rem;\n",
              "  line-height: 1em;\n",
              "  font-family: monospace;\n",
              "  background-color: var(--sklearn-color-background);\n",
              "  border-radius: 1rem;\n",
              "  height: 1rem;\n",
              "  width: 1rem;\n",
              "  text-decoration: none;\n",
              "  /* unfitted */\n",
              "  color: var(--sklearn-color-unfitted-level-1);\n",
              "  border: var(--sklearn-color-unfitted-level-1) 1pt solid;\n",
              "}\n",
              "\n",
              "#sk-container-id-1 a.estimator_doc_link.fitted {\n",
              "  /* fitted */\n",
              "  border: var(--sklearn-color-fitted-level-1) 1pt solid;\n",
              "  color: var(--sklearn-color-fitted-level-1);\n",
              "}\n",
              "\n",
              "/* On hover */\n",
              "#sk-container-id-1 a.estimator_doc_link:hover {\n",
              "  /* unfitted */\n",
              "  background-color: var(--sklearn-color-unfitted-level-3);\n",
              "  color: var(--sklearn-color-background);\n",
              "  text-decoration: none;\n",
              "}\n",
              "\n",
              "#sk-container-id-1 a.estimator_doc_link.fitted:hover {\n",
              "  /* fitted */\n",
              "  background-color: var(--sklearn-color-fitted-level-3);\n",
              "}\n",
              "</style><div id=\"sk-container-id-1\" class=\"sk-top-container\"><div class=\"sk-text-repr-fallback\"><pre>DBSCAN(eps=1.2, min_samples=8)</pre><b>In a Jupyter environment, please rerun this cell to show the HTML representation or trust the notebook. <br />On GitHub, the HTML representation is unable to render, please try loading this page with nbviewer.org.</b></div><div class=\"sk-container\" hidden><div class=\"sk-item\"><div class=\"sk-estimator fitted sk-toggleable\"><input class=\"sk-toggleable__control sk-hidden--visually\" id=\"sk-estimator-id-1\" type=\"checkbox\" checked><label for=\"sk-estimator-id-1\" class=\"sk-toggleable__label fitted sk-toggleable__label-arrow fitted\">&nbsp;&nbsp;DBSCAN<a class=\"sk-estimator-doc-link fitted\" rel=\"noreferrer\" target=\"_blank\" href=\"https://scikit-learn.org/1.5/modules/generated/sklearn.cluster.DBSCAN.html\">?<span>Documentation for DBSCAN</span></a><span class=\"sk-estimator-doc-link fitted\">i<span>Fitted</span></span></label><div class=\"sk-toggleable__content fitted\"><pre>DBSCAN(eps=1.2, min_samples=8)</pre></div> </div></div></div></div>"
            ],
            "text/plain": [
              "DBSCAN(eps=1.2, min_samples=8)"
            ]
          },
          "execution_count": 41,
          "metadata": {},
          "output_type": "execute_result"
        }
      ],
      "source": [
        "# Check for epsilon value 1.2\n",
        "dbscan = DBSCAN(eps=1.2, min_samples=8)\n",
        "dbscan.fit(scaled_df)"
      ]
    },
    {
      "cell_type": "code",
      "execution_count": 42,
      "metadata": {
        "colab": {
          "base_uri": "https://localhost:8080/"
        },
        "id": "9NgGBkSqVQ7d",
        "outputId": "48ded3c6-2b7f-45a9-d4eb-4cd80acdb246"
      },
      "outputs": [
        {
          "data": {
            "text/plain": [
              "array([ 0,  0,  1,  1,  1,  1,  1,  1, -1,  1, -1,  1,  1,  1, -1,  0,  1,\n",
              "        0,  0,  1,  0,  0,  1,  0,  1,  0,  1,  0,  1,  1, -1,  1, -1,  0,\n",
              "        1,  1,  1,  1,  1,  1,  1,  0,  0,  1,  1,  1,  1,  1,  1,  1,  1,\n",
              "        0,  1,  0,  1,  0,  1,  0,  1,  0,  0,  0,  1,  1,  0,  0,  1,  1,\n",
              "        0,  1,  0,  1,  1,  1,  0,  0,  1,  0,  1,  1,  0,  0,  0,  1,  1,\n",
              "        0,  1,  1,  1,  1,  1,  0,  0,  1,  1,  0,  1,  1,  0,  0,  1,  1,\n",
              "        0,  0,  0,  1,  1,  0,  0,  0,  0,  1,  1,  0,  1,  1,  1,  1,  1,\n",
              "        1,  0,  1,  1,  0,  1,  1,  0,  0,  0,  0,  0,  0,  1,  1,  0,  1,\n",
              "        1,  0,  0,  1,  1,  0,  1,  1,  0,  0,  0,  1,  1,  0,  0,  0,  1,\n",
              "        1,  1,  1,  0,  1,  0,  1,  1,  1,  0,  1,  0,  1,  0,  1,  1,  0,\n",
              "        0,  0,  0,  0,  1,  1,  0,  0,  0,  0,  1,  1,  0,  1,  1,  0,  1,\n",
              "        0,  1,  1,  1,  1,  0,  1,  1,  1,  1,  0, -1, -1])"
            ]
          },
          "execution_count": 42,
          "metadata": {},
          "output_type": "execute_result"
        }
      ],
      "source": [
        "dbscan.labels_"
      ]
    },
    {
      "cell_type": "code",
      "execution_count": 43,
      "metadata": {
        "colab": {
          "base_uri": "https://localhost:8080/",
          "height": 542
        },
        "id": "Xw0y83-uU6Xm",
        "outputId": "af18b8d1-58a3-4681-860f-15bf6ac37886"
      },
      "outputs": [
        {
          "data": {
            "application/vnd.plotly.v1+json": {
              "config": {
                "plotlyServerURL": "https://plot.ly"
              },
              "data": [
                {
                  "hovertemplate": "Gender_Male=True<br>Age=%{x}<br>Annual Income (k$)=%{y}<br>Spending Score (1-100)=%{z}<br>color=%{marker.color}<extra></extra>",
                  "legendgroup": "True",
                  "marker": {
                    "color": [
                      0,
                      0,
                      -1,
                      -1,
                      -1,
                      0,
                      0,
                      0,
                      0,
                      0,
                      0,
                      0,
                      0,
                      -1,
                      -1,
                      0,
                      0,
                      0,
                      0,
                      0,
                      0,
                      0,
                      0,
                      0,
                      0,
                      0,
                      0,
                      0,
                      0,
                      0,
                      0,
                      0,
                      0,
                      0,
                      0,
                      0,
                      0,
                      0,
                      0,
                      0,
                      0,
                      0,
                      0,
                      0,
                      0,
                      0,
                      0,
                      0,
                      0,
                      0,
                      0,
                      0,
                      0,
                      0,
                      0,
                      0,
                      0,
                      0,
                      0,
                      0,
                      0,
                      0,
                      0,
                      0,
                      0,
                      0,
                      0,
                      0,
                      0,
                      0,
                      0,
                      0,
                      0,
                      0,
                      0,
                      0,
                      0,
                      0,
                      0,
                      0,
                      0,
                      0,
                      0,
                      0,
                      0,
                      0,
                      -1,
                      -1
                    ],
                    "coloraxis": "coloraxis",
                    "opacity": 0.75,
                    "symbol": "circle"
                  },
                  "mode": "markers",
                  "name": "True",
                  "scene": "scene",
                  "showlegend": true,
                  "type": "scatter3d",
                  "x": [
                    19,
                    21,
                    64,
                    67,
                    37,
                    22,
                    20,
                    52,
                    35,
                    25,
                    31,
                    29,
                    35,
                    60,
                    53,
                    18,
                    24,
                    48,
                    33,
                    59,
                    47,
                    69,
                    53,
                    70,
                    19,
                    63,
                    18,
                    19,
                    70,
                    59,
                    26,
                    40,
                    57,
                    38,
                    67,
                    48,
                    18,
                    48,
                    24,
                    48,
                    20,
                    67,
                    26,
                    49,
                    54,
                    68,
                    66,
                    65,
                    19,
                    27,
                    39,
                    43,
                    40,
                    59,
                    38,
                    47,
                    39,
                    20,
                    32,
                    19,
                    32,
                    25,
                    28,
                    48,
                    34,
                    43,
                    39,
                    37,
                    34,
                    19,
                    50,
                    42,
                    32,
                    40,
                    28,
                    36,
                    36,
                    58,
                    27,
                    59,
                    35,
                    46,
                    30,
                    28,
                    33,
                    32,
                    32,
                    30
                  ],
                  "y": [
                    15,
                    15,
                    19,
                    19,
                    20,
                    20,
                    21,
                    23,
                    24,
                    24,
                    25,
                    28,
                    28,
                    30,
                    33,
                    33,
                    38,
                    39,
                    42,
                    43,
                    43,
                    44,
                    46,
                    46,
                    46,
                    48,
                    48,
                    48,
                    49,
                    54,
                    54,
                    54,
                    54,
                    54,
                    54,
                    54,
                    59,
                    60,
                    60,
                    61,
                    61,
                    62,
                    62,
                    62,
                    63,
                    63,
                    63,
                    63,
                    64,
                    67,
                    69,
                    71,
                    71,
                    71,
                    71,
                    71,
                    71,
                    73,
                    73,
                    74,
                    75,
                    77,
                    77,
                    77,
                    78,
                    78,
                    78,
                    78,
                    78,
                    81,
                    85,
                    86,
                    87,
                    87,
                    87,
                    87,
                    87,
                    88,
                    88,
                    93,
                    93,
                    98,
                    99,
                    101,
                    113,
                    126,
                    137,
                    137
                  ],
                  "z": [
                    39,
                    81,
                    3,
                    14,
                    13,
                    79,
                    66,
                    29,
                    35,
                    73,
                    73,
                    82,
                    61,
                    4,
                    4,
                    92,
                    92,
                    36,
                    60,
                    60,
                    41,
                    46,
                    46,
                    56,
                    55,
                    51,
                    59,
                    59,
                    55,
                    47,
                    54,
                    48,
                    51,
                    55,
                    41,
                    46,
                    41,
                    49,
                    52,
                    42,
                    49,
                    59,
                    55,
                    56,
                    46,
                    43,
                    48,
                    52,
                    46,
                    56,
                    91,
                    35,
                    95,
                    11,
                    75,
                    9,
                    75,
                    5,
                    73,
                    10,
                    93,
                    12,
                    97,
                    36,
                    90,
                    17,
                    88,
                    1,
                    1,
                    5,
                    26,
                    20,
                    63,
                    13,
                    75,
                    10,
                    92,
                    15,
                    69,
                    14,
                    90,
                    15,
                    97,
                    68,
                    8,
                    74,
                    18,
                    83
                  ]
                },
                {
                  "hovertemplate": "Gender_Male=False<br>Age=%{x}<br>Annual Income (k$)=%{y}<br>Spending Score (1-100)=%{z}<br>color=%{marker.color}<extra></extra>",
                  "legendgroup": "False",
                  "marker": {
                    "color": [
                      1,
                      1,
                      1,
                      1,
                      1,
                      1,
                      1,
                      1,
                      1,
                      1,
                      1,
                      1,
                      1,
                      1,
                      1,
                      1,
                      1,
                      1,
                      1,
                      1,
                      1,
                      1,
                      1,
                      1,
                      1,
                      1,
                      1,
                      1,
                      1,
                      1,
                      1,
                      1,
                      1,
                      1,
                      1,
                      1,
                      1,
                      1,
                      1,
                      1,
                      1,
                      1,
                      1,
                      1,
                      1,
                      1,
                      1,
                      1,
                      1,
                      1,
                      1,
                      1,
                      1,
                      1,
                      1,
                      1,
                      1,
                      1,
                      1,
                      1,
                      1,
                      1,
                      1,
                      1,
                      1,
                      1,
                      1,
                      1,
                      1,
                      1,
                      1,
                      1,
                      1,
                      1,
                      1,
                      1,
                      1,
                      1,
                      1,
                      1,
                      1,
                      1,
                      1,
                      1,
                      1,
                      1,
                      1,
                      1,
                      1,
                      1,
                      1,
                      1,
                      1,
                      1,
                      1,
                      1,
                      1,
                      1,
                      1,
                      1,
                      1,
                      1,
                      1,
                      1,
                      1,
                      1,
                      1,
                      1,
                      1,
                      1,
                      1,
                      1
                    ],
                    "coloraxis": "coloraxis",
                    "opacity": 0.75,
                    "symbol": "diamond"
                  },
                  "mode": "markers",
                  "name": "False",
                  "scene": "scene",
                  "showlegend": true,
                  "type": "scatter3d",
                  "x": [
                    20,
                    23,
                    31,
                    22,
                    35,
                    23,
                    30,
                    35,
                    58,
                    24,
                    35,
                    35,
                    46,
                    54,
                    45,
                    40,
                    23,
                    21,
                    49,
                    21,
                    42,
                    30,
                    36,
                    20,
                    65,
                    31,
                    49,
                    24,
                    50,
                    27,
                    29,
                    31,
                    49,
                    31,
                    50,
                    51,
                    27,
                    67,
                    54,
                    43,
                    68,
                    32,
                    47,
                    60,
                    60,
                    45,
                    23,
                    49,
                    46,
                    21,
                    55,
                    22,
                    34,
                    50,
                    68,
                    40,
                    32,
                    47,
                    27,
                    23,
                    49,
                    21,
                    66,
                    19,
                    38,
                    18,
                    19,
                    63,
                    49,
                    51,
                    50,
                    38,
                    40,
                    23,
                    31,
                    25,
                    31,
                    29,
                    44,
                    35,
                    57,
                    28,
                    32,
                    32,
                    34,
                    44,
                    38,
                    47,
                    27,
                    30,
                    30,
                    56,
                    29,
                    31,
                    36,
                    33,
                    36,
                    52,
                    30,
                    37,
                    32,
                    29,
                    41,
                    54,
                    41,
                    36,
                    34,
                    32,
                    38,
                    47,
                    35,
                    45
                  ],
                  "y": [
                    16,
                    16,
                    17,
                    17,
                    18,
                    18,
                    19,
                    19,
                    20,
                    20,
                    21,
                    23,
                    25,
                    28,
                    28,
                    29,
                    29,
                    30,
                    33,
                    33,
                    34,
                    34,
                    37,
                    37,
                    38,
                    39,
                    39,
                    39,
                    40,
                    40,
                    40,
                    40,
                    42,
                    43,
                    43,
                    44,
                    46,
                    47,
                    47,
                    48,
                    48,
                    48,
                    49,
                    50,
                    50,
                    54,
                    54,
                    54,
                    54,
                    54,
                    57,
                    57,
                    58,
                    58,
                    59,
                    60,
                    60,
                    60,
                    60,
                    62,
                    62,
                    62,
                    63,
                    63,
                    64,
                    65,
                    65,
                    65,
                    65,
                    67,
                    67,
                    67,
                    69,
                    70,
                    70,
                    72,
                    72,
                    73,
                    73,
                    74,
                    75,
                    76,
                    76,
                    77,
                    78,
                    78,
                    78,
                    78,
                    78,
                    78,
                    78,
                    79,
                    79,
                    81,
                    85,
                    86,
                    87,
                    88,
                    88,
                    97,
                    97,
                    98,
                    99,
                    101,
                    103,
                    103,
                    103,
                    103,
                    113,
                    120,
                    120,
                    126
                  ],
                  "z": [
                    6,
                    77,
                    40,
                    76,
                    6,
                    94,
                    72,
                    99,
                    15,
                    77,
                    35,
                    98,
                    5,
                    14,
                    32,
                    31,
                    87,
                    73,
                    14,
                    81,
                    17,
                    73,
                    26,
                    75,
                    35,
                    61,
                    28,
                    65,
                    55,
                    47,
                    42,
                    42,
                    52,
                    54,
                    45,
                    50,
                    51,
                    52,
                    59,
                    50,
                    48,
                    47,
                    42,
                    49,
                    56,
                    53,
                    52,
                    42,
                    44,
                    57,
                    58,
                    55,
                    60,
                    46,
                    55,
                    40,
                    42,
                    47,
                    50,
                    41,
                    48,
                    42,
                    50,
                    54,
                    42,
                    48,
                    50,
                    43,
                    59,
                    43,
                    57,
                    40,
                    58,
                    29,
                    77,
                    34,
                    71,
                    88,
                    7,
                    72,
                    5,
                    40,
                    87,
                    74,
                    22,
                    20,
                    76,
                    16,
                    89,
                    78,
                    73,
                    35,
                    83,
                    93,
                    75,
                    95,
                    27,
                    13,
                    86,
                    32,
                    86,
                    88,
                    39,
                    24,
                    17,
                    85,
                    23,
                    69,
                    91,
                    16,
                    79,
                    28
                  ]
                }
              ],
              "layout": {
                "coloraxis": {
                  "colorbar": {
                    "ticks": "outside",
                    "title": {
                      "text": "color"
                    },
                    "x": 0,
                    "y": 1,
                    "yanchor": "top"
                  },
                  "colorscale": [
                    [
                      0,
                      "#0d0887"
                    ],
                    [
                      0.1111111111111111,
                      "#46039f"
                    ],
                    [
                      0.2222222222222222,
                      "#7201a8"
                    ],
                    [
                      0.3333333333333333,
                      "#9c179e"
                    ],
                    [
                      0.4444444444444444,
                      "#bd3786"
                    ],
                    [
                      0.5555555555555556,
                      "#d8576b"
                    ],
                    [
                      0.6666666666666666,
                      "#ed7953"
                    ],
                    [
                      0.7777777777777778,
                      "#fb9f3a"
                    ],
                    [
                      0.8888888888888888,
                      "#fdca26"
                    ],
                    [
                      1,
                      "#f0f921"
                    ]
                  ]
                },
                "legend": {
                  "title": {
                    "text": "Gender_Male"
                  },
                  "tracegroupgap": 0
                },
                "margin": {
                  "t": 60
                },
                "scene": {
                  "domain": {
                    "x": [
                      0,
                      1
                    ],
                    "y": [
                      0,
                      1
                    ]
                  },
                  "xaxis": {
                    "title": {
                      "text": "Age"
                    }
                  },
                  "yaxis": {
                    "title": {
                      "text": "Annual Income (k$)"
                    }
                  },
                  "zaxis": {
                    "title": {
                      "text": "Spending Score (1-100)"
                    }
                  }
                },
                "template": {
                  "data": {
                    "bar": [
                      {
                        "error_x": {
                          "color": "#2a3f5f"
                        },
                        "error_y": {
                          "color": "#2a3f5f"
                        },
                        "marker": {
                          "line": {
                            "color": "#E5ECF6",
                            "width": 0.5
                          },
                          "pattern": {
                            "fillmode": "overlay",
                            "size": 10,
                            "solidity": 0.2
                          }
                        },
                        "type": "bar"
                      }
                    ],
                    "barpolar": [
                      {
                        "marker": {
                          "line": {
                            "color": "#E5ECF6",
                            "width": 0.5
                          },
                          "pattern": {
                            "fillmode": "overlay",
                            "size": 10,
                            "solidity": 0.2
                          }
                        },
                        "type": "barpolar"
                      }
                    ],
                    "carpet": [
                      {
                        "aaxis": {
                          "endlinecolor": "#2a3f5f",
                          "gridcolor": "white",
                          "linecolor": "white",
                          "minorgridcolor": "white",
                          "startlinecolor": "#2a3f5f"
                        },
                        "baxis": {
                          "endlinecolor": "#2a3f5f",
                          "gridcolor": "white",
                          "linecolor": "white",
                          "minorgridcolor": "white",
                          "startlinecolor": "#2a3f5f"
                        },
                        "type": "carpet"
                      }
                    ],
                    "choropleth": [
                      {
                        "colorbar": {
                          "outlinewidth": 0,
                          "ticks": ""
                        },
                        "type": "choropleth"
                      }
                    ],
                    "contour": [
                      {
                        "colorbar": {
                          "outlinewidth": 0,
                          "ticks": ""
                        },
                        "colorscale": [
                          [
                            0,
                            "#0d0887"
                          ],
                          [
                            0.1111111111111111,
                            "#46039f"
                          ],
                          [
                            0.2222222222222222,
                            "#7201a8"
                          ],
                          [
                            0.3333333333333333,
                            "#9c179e"
                          ],
                          [
                            0.4444444444444444,
                            "#bd3786"
                          ],
                          [
                            0.5555555555555556,
                            "#d8576b"
                          ],
                          [
                            0.6666666666666666,
                            "#ed7953"
                          ],
                          [
                            0.7777777777777778,
                            "#fb9f3a"
                          ],
                          [
                            0.8888888888888888,
                            "#fdca26"
                          ],
                          [
                            1,
                            "#f0f921"
                          ]
                        ],
                        "type": "contour"
                      }
                    ],
                    "contourcarpet": [
                      {
                        "colorbar": {
                          "outlinewidth": 0,
                          "ticks": ""
                        },
                        "type": "contourcarpet"
                      }
                    ],
                    "heatmap": [
                      {
                        "colorbar": {
                          "outlinewidth": 0,
                          "ticks": ""
                        },
                        "colorscale": [
                          [
                            0,
                            "#0d0887"
                          ],
                          [
                            0.1111111111111111,
                            "#46039f"
                          ],
                          [
                            0.2222222222222222,
                            "#7201a8"
                          ],
                          [
                            0.3333333333333333,
                            "#9c179e"
                          ],
                          [
                            0.4444444444444444,
                            "#bd3786"
                          ],
                          [
                            0.5555555555555556,
                            "#d8576b"
                          ],
                          [
                            0.6666666666666666,
                            "#ed7953"
                          ],
                          [
                            0.7777777777777778,
                            "#fb9f3a"
                          ],
                          [
                            0.8888888888888888,
                            "#fdca26"
                          ],
                          [
                            1,
                            "#f0f921"
                          ]
                        ],
                        "type": "heatmap"
                      }
                    ],
                    "heatmapgl": [
                      {
                        "colorbar": {
                          "outlinewidth": 0,
                          "ticks": ""
                        },
                        "colorscale": [
                          [
                            0,
                            "#0d0887"
                          ],
                          [
                            0.1111111111111111,
                            "#46039f"
                          ],
                          [
                            0.2222222222222222,
                            "#7201a8"
                          ],
                          [
                            0.3333333333333333,
                            "#9c179e"
                          ],
                          [
                            0.4444444444444444,
                            "#bd3786"
                          ],
                          [
                            0.5555555555555556,
                            "#d8576b"
                          ],
                          [
                            0.6666666666666666,
                            "#ed7953"
                          ],
                          [
                            0.7777777777777778,
                            "#fb9f3a"
                          ],
                          [
                            0.8888888888888888,
                            "#fdca26"
                          ],
                          [
                            1,
                            "#f0f921"
                          ]
                        ],
                        "type": "heatmapgl"
                      }
                    ],
                    "histogram": [
                      {
                        "marker": {
                          "pattern": {
                            "fillmode": "overlay",
                            "size": 10,
                            "solidity": 0.2
                          }
                        },
                        "type": "histogram"
                      }
                    ],
                    "histogram2d": [
                      {
                        "colorbar": {
                          "outlinewidth": 0,
                          "ticks": ""
                        },
                        "colorscale": [
                          [
                            0,
                            "#0d0887"
                          ],
                          [
                            0.1111111111111111,
                            "#46039f"
                          ],
                          [
                            0.2222222222222222,
                            "#7201a8"
                          ],
                          [
                            0.3333333333333333,
                            "#9c179e"
                          ],
                          [
                            0.4444444444444444,
                            "#bd3786"
                          ],
                          [
                            0.5555555555555556,
                            "#d8576b"
                          ],
                          [
                            0.6666666666666666,
                            "#ed7953"
                          ],
                          [
                            0.7777777777777778,
                            "#fb9f3a"
                          ],
                          [
                            0.8888888888888888,
                            "#fdca26"
                          ],
                          [
                            1,
                            "#f0f921"
                          ]
                        ],
                        "type": "histogram2d"
                      }
                    ],
                    "histogram2dcontour": [
                      {
                        "colorbar": {
                          "outlinewidth": 0,
                          "ticks": ""
                        },
                        "colorscale": [
                          [
                            0,
                            "#0d0887"
                          ],
                          [
                            0.1111111111111111,
                            "#46039f"
                          ],
                          [
                            0.2222222222222222,
                            "#7201a8"
                          ],
                          [
                            0.3333333333333333,
                            "#9c179e"
                          ],
                          [
                            0.4444444444444444,
                            "#bd3786"
                          ],
                          [
                            0.5555555555555556,
                            "#d8576b"
                          ],
                          [
                            0.6666666666666666,
                            "#ed7953"
                          ],
                          [
                            0.7777777777777778,
                            "#fb9f3a"
                          ],
                          [
                            0.8888888888888888,
                            "#fdca26"
                          ],
                          [
                            1,
                            "#f0f921"
                          ]
                        ],
                        "type": "histogram2dcontour"
                      }
                    ],
                    "mesh3d": [
                      {
                        "colorbar": {
                          "outlinewidth": 0,
                          "ticks": ""
                        },
                        "type": "mesh3d"
                      }
                    ],
                    "parcoords": [
                      {
                        "line": {
                          "colorbar": {
                            "outlinewidth": 0,
                            "ticks": ""
                          }
                        },
                        "type": "parcoords"
                      }
                    ],
                    "pie": [
                      {
                        "automargin": true,
                        "type": "pie"
                      }
                    ],
                    "scatter": [
                      {
                        "fillpattern": {
                          "fillmode": "overlay",
                          "size": 10,
                          "solidity": 0.2
                        },
                        "type": "scatter"
                      }
                    ],
                    "scatter3d": [
                      {
                        "line": {
                          "colorbar": {
                            "outlinewidth": 0,
                            "ticks": ""
                          }
                        },
                        "marker": {
                          "colorbar": {
                            "outlinewidth": 0,
                            "ticks": ""
                          }
                        },
                        "type": "scatter3d"
                      }
                    ],
                    "scattercarpet": [
                      {
                        "marker": {
                          "colorbar": {
                            "outlinewidth": 0,
                            "ticks": ""
                          }
                        },
                        "type": "scattercarpet"
                      }
                    ],
                    "scattergeo": [
                      {
                        "marker": {
                          "colorbar": {
                            "outlinewidth": 0,
                            "ticks": ""
                          }
                        },
                        "type": "scattergeo"
                      }
                    ],
                    "scattergl": [
                      {
                        "marker": {
                          "colorbar": {
                            "outlinewidth": 0,
                            "ticks": ""
                          }
                        },
                        "type": "scattergl"
                      }
                    ],
                    "scattermapbox": [
                      {
                        "marker": {
                          "colorbar": {
                            "outlinewidth": 0,
                            "ticks": ""
                          }
                        },
                        "type": "scattermapbox"
                      }
                    ],
                    "scatterpolar": [
                      {
                        "marker": {
                          "colorbar": {
                            "outlinewidth": 0,
                            "ticks": ""
                          }
                        },
                        "type": "scatterpolar"
                      }
                    ],
                    "scatterpolargl": [
                      {
                        "marker": {
                          "colorbar": {
                            "outlinewidth": 0,
                            "ticks": ""
                          }
                        },
                        "type": "scatterpolargl"
                      }
                    ],
                    "scatterternary": [
                      {
                        "marker": {
                          "colorbar": {
                            "outlinewidth": 0,
                            "ticks": ""
                          }
                        },
                        "type": "scatterternary"
                      }
                    ],
                    "surface": [
                      {
                        "colorbar": {
                          "outlinewidth": 0,
                          "ticks": ""
                        },
                        "colorscale": [
                          [
                            0,
                            "#0d0887"
                          ],
                          [
                            0.1111111111111111,
                            "#46039f"
                          ],
                          [
                            0.2222222222222222,
                            "#7201a8"
                          ],
                          [
                            0.3333333333333333,
                            "#9c179e"
                          ],
                          [
                            0.4444444444444444,
                            "#bd3786"
                          ],
                          [
                            0.5555555555555556,
                            "#d8576b"
                          ],
                          [
                            0.6666666666666666,
                            "#ed7953"
                          ],
                          [
                            0.7777777777777778,
                            "#fb9f3a"
                          ],
                          [
                            0.8888888888888888,
                            "#fdca26"
                          ],
                          [
                            1,
                            "#f0f921"
                          ]
                        ],
                        "type": "surface"
                      }
                    ],
                    "table": [
                      {
                        "cells": {
                          "fill": {
                            "color": "#EBF0F8"
                          },
                          "line": {
                            "color": "white"
                          }
                        },
                        "header": {
                          "fill": {
                            "color": "#C8D4E3"
                          },
                          "line": {
                            "color": "white"
                          }
                        },
                        "type": "table"
                      }
                    ]
                  },
                  "layout": {
                    "annotationdefaults": {
                      "arrowcolor": "#2a3f5f",
                      "arrowhead": 0,
                      "arrowwidth": 1
                    },
                    "autotypenumbers": "strict",
                    "coloraxis": {
                      "colorbar": {
                        "outlinewidth": 0,
                        "ticks": ""
                      }
                    },
                    "colorscale": {
                      "diverging": [
                        [
                          0,
                          "#8e0152"
                        ],
                        [
                          0.1,
                          "#c51b7d"
                        ],
                        [
                          0.2,
                          "#de77ae"
                        ],
                        [
                          0.3,
                          "#f1b6da"
                        ],
                        [
                          0.4,
                          "#fde0ef"
                        ],
                        [
                          0.5,
                          "#f7f7f7"
                        ],
                        [
                          0.6,
                          "#e6f5d0"
                        ],
                        [
                          0.7,
                          "#b8e186"
                        ],
                        [
                          0.8,
                          "#7fbc41"
                        ],
                        [
                          0.9,
                          "#4d9221"
                        ],
                        [
                          1,
                          "#276419"
                        ]
                      ],
                      "sequential": [
                        [
                          0,
                          "#0d0887"
                        ],
                        [
                          0.1111111111111111,
                          "#46039f"
                        ],
                        [
                          0.2222222222222222,
                          "#7201a8"
                        ],
                        [
                          0.3333333333333333,
                          "#9c179e"
                        ],
                        [
                          0.4444444444444444,
                          "#bd3786"
                        ],
                        [
                          0.5555555555555556,
                          "#d8576b"
                        ],
                        [
                          0.6666666666666666,
                          "#ed7953"
                        ],
                        [
                          0.7777777777777778,
                          "#fb9f3a"
                        ],
                        [
                          0.8888888888888888,
                          "#fdca26"
                        ],
                        [
                          1,
                          "#f0f921"
                        ]
                      ],
                      "sequentialminus": [
                        [
                          0,
                          "#0d0887"
                        ],
                        [
                          0.1111111111111111,
                          "#46039f"
                        ],
                        [
                          0.2222222222222222,
                          "#7201a8"
                        ],
                        [
                          0.3333333333333333,
                          "#9c179e"
                        ],
                        [
                          0.4444444444444444,
                          "#bd3786"
                        ],
                        [
                          0.5555555555555556,
                          "#d8576b"
                        ],
                        [
                          0.6666666666666666,
                          "#ed7953"
                        ],
                        [
                          0.7777777777777778,
                          "#fb9f3a"
                        ],
                        [
                          0.8888888888888888,
                          "#fdca26"
                        ],
                        [
                          1,
                          "#f0f921"
                        ]
                      ]
                    },
                    "colorway": [
                      "#636efa",
                      "#EF553B",
                      "#00cc96",
                      "#ab63fa",
                      "#FFA15A",
                      "#19d3f3",
                      "#FF6692",
                      "#B6E880",
                      "#FF97FF",
                      "#FECB52"
                    ],
                    "font": {
                      "color": "#2a3f5f"
                    },
                    "geo": {
                      "bgcolor": "white",
                      "lakecolor": "white",
                      "landcolor": "#E5ECF6",
                      "showlakes": true,
                      "showland": true,
                      "subunitcolor": "white"
                    },
                    "hoverlabel": {
                      "align": "left"
                    },
                    "hovermode": "closest",
                    "mapbox": {
                      "style": "light"
                    },
                    "paper_bgcolor": "white",
                    "plot_bgcolor": "#E5ECF6",
                    "polar": {
                      "angularaxis": {
                        "gridcolor": "white",
                        "linecolor": "white",
                        "ticks": ""
                      },
                      "bgcolor": "#E5ECF6",
                      "radialaxis": {
                        "gridcolor": "white",
                        "linecolor": "white",
                        "ticks": ""
                      }
                    },
                    "scene": {
                      "xaxis": {
                        "backgroundcolor": "#E5ECF6",
                        "gridcolor": "white",
                        "gridwidth": 2,
                        "linecolor": "white",
                        "showbackground": true,
                        "ticks": "",
                        "zerolinecolor": "white"
                      },
                      "yaxis": {
                        "backgroundcolor": "#E5ECF6",
                        "gridcolor": "white",
                        "gridwidth": 2,
                        "linecolor": "white",
                        "showbackground": true,
                        "ticks": "",
                        "zerolinecolor": "white"
                      },
                      "zaxis": {
                        "backgroundcolor": "#E5ECF6",
                        "gridcolor": "white",
                        "gridwidth": 2,
                        "linecolor": "white",
                        "showbackground": true,
                        "ticks": "",
                        "zerolinecolor": "white"
                      }
                    },
                    "shapedefaults": {
                      "line": {
                        "color": "#2a3f5f"
                      }
                    },
                    "ternary": {
                      "aaxis": {
                        "gridcolor": "white",
                        "linecolor": "white",
                        "ticks": ""
                      },
                      "baxis": {
                        "gridcolor": "white",
                        "linecolor": "white",
                        "ticks": ""
                      },
                      "bgcolor": "#E5ECF6",
                      "caxis": {
                        "gridcolor": "white",
                        "linecolor": "white",
                        "ticks": ""
                      }
                    },
                    "title": {
                      "x": 0.05
                    },
                    "xaxis": {
                      "automargin": true,
                      "gridcolor": "white",
                      "linecolor": "white",
                      "ticks": "",
                      "title": {
                        "standoff": 15
                      },
                      "zerolinecolor": "white",
                      "zerolinewidth": 2
                    },
                    "yaxis": {
                      "automargin": true,
                      "gridcolor": "white",
                      "linecolor": "white",
                      "ticks": "",
                      "title": {
                        "standoff": 15
                      },
                      "zerolinecolor": "white",
                      "zerolinewidth": 2
                    }
                  }
                }
              }
            }
          },
          "metadata": {},
          "output_type": "display_data"
        }
      ],
      "source": [
        "# Interactive 3D scatter plot of customers with epsilon value 1.2\n",
        "import plotly.express as px\n",
        "fig = px.scatter_3d(\n",
        "    df,\n",
        "    x='Age',\n",
        "    y='Annual Income (k$)',\n",
        "    z='Spending Score (1-100)',\n",
        "    color=dbscan.labels_,\n",
        "    symbol='Gender_Male',\n",
        "    opacity=0.75\n",
        "    )\n",
        "fig.update_layout(coloraxis_colorbar=dict(yanchor='top', y=1, x=0, ticks='outside'))"
      ]
    },
    {
      "cell_type": "markdown",
      "metadata": {
        "id": "_EnMwmGmVm1A"
      },
      "source": [
        "- By looking at the graph, DBSCAN is not doing well because the amount of data is low, and also the number of outliers are not that much.\n",
        "- DBSCAN is best used when the number of outliers is high."
      ]
    },
    {
      "cell_type": "markdown",
      "metadata": {
        "id": "V4yvLtqvZg_J"
      },
      "source": [
        "## Mapping Cluster IDs to Customer Segments"
      ]
    },
    {
      "cell_type": "markdown",
      "metadata": {
        "id": "8lnkYNZFWItk"
      },
      "source": [
        "Since Agglomerative clustering has given better results till now, so lets go ahead with Agglomerative clustering."
      ]
    },
    {
      "cell_type": "code",
      "execution_count": 44,
      "metadata": {
        "colab": {
          "base_uri": "https://localhost:8080/",
          "height": 423
        },
        "id": "Te4mXiAJWSz1",
        "outputId": "984ff306-d70a-44cc-da6b-1f83d09f4ab5"
      },
      "outputs": [
        {
          "data": {
            "text/html": [
              "<div>\n",
              "<style scoped>\n",
              "    .dataframe tbody tr th:only-of-type {\n",
              "        vertical-align: middle;\n",
              "    }\n",
              "\n",
              "    .dataframe tbody tr th {\n",
              "        vertical-align: top;\n",
              "    }\n",
              "\n",
              "    .dataframe thead th {\n",
              "        text-align: right;\n",
              "    }\n",
              "</style>\n",
              "<table border=\"1\" class=\"dataframe\">\n",
              "  <thead>\n",
              "    <tr style=\"text-align: right;\">\n",
              "      <th></th>\n",
              "      <th>Age</th>\n",
              "      <th>Annual Income (k$)</th>\n",
              "      <th>Spending Score (1-100)</th>\n",
              "      <th>Gender_Male</th>\n",
              "      <th>label</th>\n",
              "    </tr>\n",
              "  </thead>\n",
              "  <tbody>\n",
              "    <tr>\n",
              "      <th>0</th>\n",
              "      <td>19</td>\n",
              "      <td>15</td>\n",
              "      <td>39</td>\n",
              "      <td>True</td>\n",
              "      <td>4</td>\n",
              "    </tr>\n",
              "    <tr>\n",
              "      <th>1</th>\n",
              "      <td>21</td>\n",
              "      <td>15</td>\n",
              "      <td>81</td>\n",
              "      <td>True</td>\n",
              "      <td>3</td>\n",
              "    </tr>\n",
              "    <tr>\n",
              "      <th>2</th>\n",
              "      <td>20</td>\n",
              "      <td>16</td>\n",
              "      <td>6</td>\n",
              "      <td>False</td>\n",
              "      <td>4</td>\n",
              "    </tr>\n",
              "    <tr>\n",
              "      <th>3</th>\n",
              "      <td>23</td>\n",
              "      <td>16</td>\n",
              "      <td>77</td>\n",
              "      <td>False</td>\n",
              "      <td>3</td>\n",
              "    </tr>\n",
              "    <tr>\n",
              "      <th>4</th>\n",
              "      <td>31</td>\n",
              "      <td>17</td>\n",
              "      <td>40</td>\n",
              "      <td>False</td>\n",
              "      <td>4</td>\n",
              "    </tr>\n",
              "    <tr>\n",
              "      <th>...</th>\n",
              "      <td>...</td>\n",
              "      <td>...</td>\n",
              "      <td>...</td>\n",
              "      <td>...</td>\n",
              "      <td>...</td>\n",
              "    </tr>\n",
              "    <tr>\n",
              "      <th>195</th>\n",
              "      <td>35</td>\n",
              "      <td>120</td>\n",
              "      <td>79</td>\n",
              "      <td>False</td>\n",
              "      <td>2</td>\n",
              "    </tr>\n",
              "    <tr>\n",
              "      <th>196</th>\n",
              "      <td>45</td>\n",
              "      <td>126</td>\n",
              "      <td>28</td>\n",
              "      <td>False</td>\n",
              "      <td>1</td>\n",
              "    </tr>\n",
              "    <tr>\n",
              "      <th>197</th>\n",
              "      <td>32</td>\n",
              "      <td>126</td>\n",
              "      <td>74</td>\n",
              "      <td>True</td>\n",
              "      <td>2</td>\n",
              "    </tr>\n",
              "    <tr>\n",
              "      <th>198</th>\n",
              "      <td>32</td>\n",
              "      <td>137</td>\n",
              "      <td>18</td>\n",
              "      <td>True</td>\n",
              "      <td>1</td>\n",
              "    </tr>\n",
              "    <tr>\n",
              "      <th>199</th>\n",
              "      <td>30</td>\n",
              "      <td>137</td>\n",
              "      <td>83</td>\n",
              "      <td>True</td>\n",
              "      <td>2</td>\n",
              "    </tr>\n",
              "  </tbody>\n",
              "</table>\n",
              "<p>200 rows × 5 columns</p>\n",
              "</div>"
            ],
            "text/plain": [
              "     Age  Annual Income (k$)  Spending Score (1-100)  Gender_Male  label\n",
              "0     19                  15                      39         True      4\n",
              "1     21                  15                      81         True      3\n",
              "2     20                  16                       6        False      4\n",
              "3     23                  16                      77        False      3\n",
              "4     31                  17                      40        False      4\n",
              "..   ...                 ...                     ...          ...    ...\n",
              "195   35                 120                      79        False      2\n",
              "196   45                 126                      28        False      1\n",
              "197   32                 126                      74         True      2\n",
              "198   32                 137                      18         True      1\n",
              "199   30                 137                      83         True      2\n",
              "\n",
              "[200 rows x 5 columns]"
            ]
          },
          "execution_count": 44,
          "metadata": {},
          "output_type": "execute_result"
        }
      ],
      "source": [
        "df['label'] = model_kfive_agg.fit_predict(df)\n",
        "df"
      ]
    },
    {
      "cell_type": "code",
      "execution_count": 45,
      "metadata": {
        "colab": {
          "base_uri": "https://localhost:8080/",
          "height": 423
        },
        "id": "Q5SHt4FuXZwg",
        "outputId": "0988bfdb-3c77-488d-fc01-ce69f4a4ee32"
      },
      "outputs": [
        {
          "data": {
            "text/html": [
              "<div>\n",
              "<style scoped>\n",
              "    .dataframe tbody tr th:only-of-type {\n",
              "        vertical-align: middle;\n",
              "    }\n",
              "\n",
              "    .dataframe tbody tr th {\n",
              "        vertical-align: top;\n",
              "    }\n",
              "\n",
              "    .dataframe thead th {\n",
              "        text-align: right;\n",
              "    }\n",
              "</style>\n",
              "<table border=\"1\" class=\"dataframe\">\n",
              "  <thead>\n",
              "    <tr style=\"text-align: right;\">\n",
              "      <th></th>\n",
              "      <th>Age</th>\n",
              "      <th>Annual Income (k$)</th>\n",
              "      <th>Spending Score (1-100)</th>\n",
              "      <th>Gender_Male</th>\n",
              "      <th>label</th>\n",
              "      <th>Gender</th>\n",
              "    </tr>\n",
              "  </thead>\n",
              "  <tbody>\n",
              "    <tr>\n",
              "      <th>0</th>\n",
              "      <td>19</td>\n",
              "      <td>15</td>\n",
              "      <td>39</td>\n",
              "      <td>True</td>\n",
              "      <td>Low Income and lavish lifestyle</td>\n",
              "      <td>Male</td>\n",
              "    </tr>\n",
              "    <tr>\n",
              "      <th>1</th>\n",
              "      <td>21</td>\n",
              "      <td>15</td>\n",
              "      <td>81</td>\n",
              "      <td>True</td>\n",
              "      <td>Low Income and meagre lifestyle</td>\n",
              "      <td>Male</td>\n",
              "    </tr>\n",
              "    <tr>\n",
              "      <th>2</th>\n",
              "      <td>20</td>\n",
              "      <td>16</td>\n",
              "      <td>6</td>\n",
              "      <td>False</td>\n",
              "      <td>Low Income and lavish lifestyle</td>\n",
              "      <td>Female</td>\n",
              "    </tr>\n",
              "    <tr>\n",
              "      <th>3</th>\n",
              "      <td>23</td>\n",
              "      <td>16</td>\n",
              "      <td>77</td>\n",
              "      <td>False</td>\n",
              "      <td>Low Income and meagre lifestyle</td>\n",
              "      <td>Female</td>\n",
              "    </tr>\n",
              "    <tr>\n",
              "      <th>4</th>\n",
              "      <td>31</td>\n",
              "      <td>17</td>\n",
              "      <td>40</td>\n",
              "      <td>False</td>\n",
              "      <td>Low Income and lavish lifestyle</td>\n",
              "      <td>Female</td>\n",
              "    </tr>\n",
              "    <tr>\n",
              "      <th>...</th>\n",
              "      <td>...</td>\n",
              "      <td>...</td>\n",
              "      <td>...</td>\n",
              "      <td>...</td>\n",
              "      <td>...</td>\n",
              "      <td>...</td>\n",
              "    </tr>\n",
              "    <tr>\n",
              "      <th>195</th>\n",
              "      <td>35</td>\n",
              "      <td>120</td>\n",
              "      <td>79</td>\n",
              "      <td>False</td>\n",
              "      <td>High Income and meagre lifestyle</td>\n",
              "      <td>Female</td>\n",
              "    </tr>\n",
              "    <tr>\n",
              "      <th>196</th>\n",
              "      <td>45</td>\n",
              "      <td>126</td>\n",
              "      <td>28</td>\n",
              "      <td>False</td>\n",
              "      <td>Average Income and average lifestyle</td>\n",
              "      <td>Female</td>\n",
              "    </tr>\n",
              "    <tr>\n",
              "      <th>197</th>\n",
              "      <td>32</td>\n",
              "      <td>126</td>\n",
              "      <td>74</td>\n",
              "      <td>True</td>\n",
              "      <td>High Income and meagre lifestyle</td>\n",
              "      <td>Male</td>\n",
              "    </tr>\n",
              "    <tr>\n",
              "      <th>198</th>\n",
              "      <td>32</td>\n",
              "      <td>137</td>\n",
              "      <td>18</td>\n",
              "      <td>True</td>\n",
              "      <td>Average Income and average lifestyle</td>\n",
              "      <td>Male</td>\n",
              "    </tr>\n",
              "    <tr>\n",
              "      <th>199</th>\n",
              "      <td>30</td>\n",
              "      <td>137</td>\n",
              "      <td>83</td>\n",
              "      <td>True</td>\n",
              "      <td>High Income and meagre lifestyle</td>\n",
              "      <td>Male</td>\n",
              "    </tr>\n",
              "  </tbody>\n",
              "</table>\n",
              "<p>200 rows × 6 columns</p>\n",
              "</div>"
            ],
            "text/plain": [
              "     Age  Annual Income (k$)  Spending Score (1-100)  Gender_Male  \\\n",
              "0     19                  15                      39         True   \n",
              "1     21                  15                      81         True   \n",
              "2     20                  16                       6        False   \n",
              "3     23                  16                      77        False   \n",
              "4     31                  17                      40        False   \n",
              "..   ...                 ...                     ...          ...   \n",
              "195   35                 120                      79        False   \n",
              "196   45                 126                      28        False   \n",
              "197   32                 126                      74         True   \n",
              "198   32                 137                      18         True   \n",
              "199   30                 137                      83         True   \n",
              "\n",
              "                                    label  Gender  \n",
              "0         Low Income and lavish lifestyle    Male  \n",
              "1         Low Income and meagre lifestyle    Male  \n",
              "2         Low Income and lavish lifestyle  Female  \n",
              "3         Low Income and meagre lifestyle  Female  \n",
              "4         Low Income and lavish lifestyle  Female  \n",
              "..                                    ...     ...  \n",
              "195      High Income and meagre lifestyle  Female  \n",
              "196  Average Income and average lifestyle  Female  \n",
              "197      High Income and meagre lifestyle    Male  \n",
              "198  Average Income and average lifestyle    Male  \n",
              "199      High Income and meagre lifestyle    Male  \n",
              "\n",
              "[200 rows x 6 columns]"
            ]
          },
          "execution_count": 45,
          "metadata": {},
          "output_type": "execute_result"
        }
      ],
      "source": [
        "df['label'] = df['label'].map({\n",
        "    0:'High Income and lavish lifestyle',      # Blue cluster\n",
        "    1:'Average Income and average lifestyle',  # Purple cluster\n",
        "    2:'High Income and meagre lifestyle',      # Pink cluster\n",
        "    3:'Low Income and meagre lifestyle',       # Orange cluster\n",
        "    4:'Low Income and lavish lifestyle'        # Yellow cluster\n",
        "})\n",
        "\n",
        "df['Gender'] = df['Gender_Male'].map({True: 'Male', False: 'Female'})\n",
        "df"
      ]
    },
    {
      "cell_type": "markdown",
      "metadata": {},
      "source": [
        "## Conclusion"
      ]
    },
    {
      "cell_type": "markdown",
      "metadata": {},
      "source": [
        "In this case study, we explored multiple clustering techniques to segment mall customers.\n",
        "\n",
        "After comparing K-Means, Agglomerative Hierarchical Clustering, and DBSCAN using silhouette and Davies-Bouldin scores, Agglomerative clustering emerged as the best-performing method. The final clusters revealed five distinct customer segments based on income and spending behavior.\n",
        "\n",
        "These insights can help businesses design targeted marketing strategies and improve customer engagement."
      ]
    }
  ],
  "metadata": {
    "colab": {
      "provenance": []
    },
    "kernelspec": {
      "display_name": "base",
      "language": "python",
      "name": "python3"
    },
    "language_info": {
      "codemirror_mode": {
        "name": "ipython",
        "version": 3
      },
      "file_extension": ".py",
      "mimetype": "text/x-python",
      "name": "python",
      "nbconvert_exporter": "python",
      "pygments_lexer": "ipython3",
      "version": "3.12.7"
    }
  },
  "nbformat": 4,
  "nbformat_minor": 0
}
