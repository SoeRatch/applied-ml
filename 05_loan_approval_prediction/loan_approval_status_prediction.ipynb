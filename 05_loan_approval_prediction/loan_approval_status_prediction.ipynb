{
 "cells": [
  {
   "cell_type": "markdown",
   "id": "7394885a",
   "metadata": {},
   "source": [
    "# Case Study: Predicting Loan Approval Status"
   ]
  },
  {
   "cell_type": "markdown",
   "id": "4ddff2a7",
   "metadata": {},
   "source": [
    "## Objective"
   ]
  },
  {
   "cell_type": "markdown",
   "id": "f97ede70",
   "metadata": {},
   "source": [
    "The goal of this case study is to predict whether a loan application will be approved based on various applicant attributes. The data consists of information about the applicant, including income, loan amount, credit history, and more. The target variable is whether the loan application was approved (Loan_Status), which is a binary classification problem."
   ]
  },
  {
   "cell_type": "markdown",
   "id": "bbe2b641",
   "metadata": {},
   "source": [
    "## Dataset Overview"
   ]
  },
  {
   "cell_type": "markdown",
   "id": "9f340db5",
   "metadata": {},
   "source": [
    "**The dataset contains the following features:**\n",
    "\n",
    "- Loan_ID: Unique Loan ID\n",
    "- Gender: Male/Female\n",
    "- Married: Applicant married (Yes/No)\n",
    "- Dependents: Number of dependents\n",
    "- Education: Applicant Education (Graduate/Not Graduate)\n",
    "- Self_Employed: Self-employed (Yes/No)\n",
    "- ApplicantIncome: Applicant income\n",
    "- CoapplicantIncome: Coapplicant income\n",
    "- LoanAmount: Loan amount in thousands\n",
    "- Loan_Amount_Term: Term of loan in months\n",
    "- Credit_History: Credit history meets guidelines (1/0)\n",
    "- Property_Area: Urban/Semi-Urban/Rural\n",
    "- Loan_Status: Loan approved (Y/N)"
   ]
  },
  {
   "cell_type": "markdown",
   "id": "56741e4d",
   "metadata": {},
   "source": [
    "## Load the Dataset"
   ]
  },
  {
   "cell_type": "code",
   "execution_count": 1,
   "id": "0aa4a641",
   "metadata": {},
   "outputs": [],
   "source": [
    "import pandas as pd\n",
    "\n",
    "#Load the dataset\n",
    "df = pd.read_csv('data/Loan_Prediction.csv')"
   ]
  },
  {
   "cell_type": "code",
   "execution_count": 2,
   "id": "adc163bf",
   "metadata": {},
   "outputs": [
    {
     "data": {
      "text/html": [
       "<div>\n",
       "<style scoped>\n",
       "    .dataframe tbody tr th:only-of-type {\n",
       "        vertical-align: middle;\n",
       "    }\n",
       "\n",
       "    .dataframe tbody tr th {\n",
       "        vertical-align: top;\n",
       "    }\n",
       "\n",
       "    .dataframe thead th {\n",
       "        text-align: right;\n",
       "    }\n",
       "</style>\n",
       "<table border=\"1\" class=\"dataframe\">\n",
       "  <thead>\n",
       "    <tr style=\"text-align: right;\">\n",
       "      <th></th>\n",
       "      <th>Loan_ID</th>\n",
       "      <th>Gender</th>\n",
       "      <th>Married</th>\n",
       "      <th>Dependents</th>\n",
       "      <th>Education</th>\n",
       "      <th>Self_Employed</th>\n",
       "      <th>ApplicantIncome</th>\n",
       "      <th>CoapplicantIncome</th>\n",
       "      <th>LoanAmount</th>\n",
       "      <th>Loan_Amount_Term</th>\n",
       "      <th>Credit_History</th>\n",
       "      <th>Property_Area</th>\n",
       "      <th>Loan_Status</th>\n",
       "    </tr>\n",
       "  </thead>\n",
       "  <tbody>\n",
       "    <tr>\n",
       "      <th>0</th>\n",
       "      <td>LP001002</td>\n",
       "      <td>Male</td>\n",
       "      <td>No</td>\n",
       "      <td>0</td>\n",
       "      <td>Graduate</td>\n",
       "      <td>No</td>\n",
       "      <td>5849</td>\n",
       "      <td>0.0</td>\n",
       "      <td>NaN</td>\n",
       "      <td>360.0</td>\n",
       "      <td>1.0</td>\n",
       "      <td>Urban</td>\n",
       "      <td>Y</td>\n",
       "    </tr>\n",
       "    <tr>\n",
       "      <th>1</th>\n",
       "      <td>LP001003</td>\n",
       "      <td>Male</td>\n",
       "      <td>Yes</td>\n",
       "      <td>1</td>\n",
       "      <td>Graduate</td>\n",
       "      <td>No</td>\n",
       "      <td>4583</td>\n",
       "      <td>1508.0</td>\n",
       "      <td>128.0</td>\n",
       "      <td>360.0</td>\n",
       "      <td>1.0</td>\n",
       "      <td>Rural</td>\n",
       "      <td>N</td>\n",
       "    </tr>\n",
       "    <tr>\n",
       "      <th>2</th>\n",
       "      <td>LP001005</td>\n",
       "      <td>Male</td>\n",
       "      <td>Yes</td>\n",
       "      <td>0</td>\n",
       "      <td>Graduate</td>\n",
       "      <td>Yes</td>\n",
       "      <td>3000</td>\n",
       "      <td>0.0</td>\n",
       "      <td>66.0</td>\n",
       "      <td>360.0</td>\n",
       "      <td>1.0</td>\n",
       "      <td>Urban</td>\n",
       "      <td>Y</td>\n",
       "    </tr>\n",
       "    <tr>\n",
       "      <th>3</th>\n",
       "      <td>LP001006</td>\n",
       "      <td>Male</td>\n",
       "      <td>Yes</td>\n",
       "      <td>0</td>\n",
       "      <td>Not Graduate</td>\n",
       "      <td>No</td>\n",
       "      <td>2583</td>\n",
       "      <td>2358.0</td>\n",
       "      <td>120.0</td>\n",
       "      <td>360.0</td>\n",
       "      <td>1.0</td>\n",
       "      <td>Urban</td>\n",
       "      <td>Y</td>\n",
       "    </tr>\n",
       "    <tr>\n",
       "      <th>4</th>\n",
       "      <td>LP001008</td>\n",
       "      <td>Male</td>\n",
       "      <td>No</td>\n",
       "      <td>0</td>\n",
       "      <td>Graduate</td>\n",
       "      <td>No</td>\n",
       "      <td>6000</td>\n",
       "      <td>0.0</td>\n",
       "      <td>141.0</td>\n",
       "      <td>360.0</td>\n",
       "      <td>1.0</td>\n",
       "      <td>Urban</td>\n",
       "      <td>Y</td>\n",
       "    </tr>\n",
       "  </tbody>\n",
       "</table>\n",
       "</div>"
      ],
      "text/plain": [
       "    Loan_ID Gender Married Dependents     Education Self_Employed  \\\n",
       "0  LP001002   Male      No          0      Graduate            No   \n",
       "1  LP001003   Male     Yes          1      Graduate            No   \n",
       "2  LP001005   Male     Yes          0      Graduate           Yes   \n",
       "3  LP001006   Male     Yes          0  Not Graduate            No   \n",
       "4  LP001008   Male      No          0      Graduate            No   \n",
       "\n",
       "   ApplicantIncome  CoapplicantIncome  LoanAmount  Loan_Amount_Term  \\\n",
       "0             5849                0.0         NaN             360.0   \n",
       "1             4583             1508.0       128.0             360.0   \n",
       "2             3000                0.0        66.0             360.0   \n",
       "3             2583             2358.0       120.0             360.0   \n",
       "4             6000                0.0       141.0             360.0   \n",
       "\n",
       "   Credit_History Property_Area Loan_Status  \n",
       "0             1.0         Urban           Y  \n",
       "1             1.0         Rural           N  \n",
       "2             1.0         Urban           Y  \n",
       "3             1.0         Urban           Y  \n",
       "4             1.0         Urban           Y  "
      ]
     },
     "execution_count": 2,
     "metadata": {},
     "output_type": "execute_result"
    }
   ],
   "source": [
    "df.head()"
   ]
  },
  {
   "cell_type": "code",
   "execution_count": 3,
   "id": "0d6c9735",
   "metadata": {},
   "outputs": [
    {
     "name": "stdout",
     "output_type": "stream",
     "text": [
      "<class 'pandas.core.frame.DataFrame'>\n",
      "RangeIndex: 614 entries, 0 to 613\n",
      "Data columns (total 13 columns):\n",
      " #   Column             Non-Null Count  Dtype  \n",
      "---  ------             --------------  -----  \n",
      " 0   Loan_ID            614 non-null    object \n",
      " 1   Gender             601 non-null    object \n",
      " 2   Married            611 non-null    object \n",
      " 3   Dependents         599 non-null    object \n",
      " 4   Education          614 non-null    object \n",
      " 5   Self_Employed      582 non-null    object \n",
      " 6   ApplicantIncome    614 non-null    int64  \n",
      " 7   CoapplicantIncome  614 non-null    float64\n",
      " 8   LoanAmount         592 non-null    float64\n",
      " 9   Loan_Amount_Term   600 non-null    float64\n",
      " 10  Credit_History     564 non-null    float64\n",
      " 11  Property_Area      614 non-null    object \n",
      " 12  Loan_Status        614 non-null    object \n",
      "dtypes: float64(4), int64(1), object(8)\n",
      "memory usage: 62.5+ KB\n"
     ]
    }
   ],
   "source": [
    "df.info()"
   ]
  },
  {
   "cell_type": "code",
   "execution_count": 4,
   "id": "86a521f3",
   "metadata": {},
   "outputs": [
    {
     "data": {
      "text/html": [
       "<div>\n",
       "<style scoped>\n",
       "    .dataframe tbody tr th:only-of-type {\n",
       "        vertical-align: middle;\n",
       "    }\n",
       "\n",
       "    .dataframe tbody tr th {\n",
       "        vertical-align: top;\n",
       "    }\n",
       "\n",
       "    .dataframe thead th {\n",
       "        text-align: right;\n",
       "    }\n",
       "</style>\n",
       "<table border=\"1\" class=\"dataframe\">\n",
       "  <thead>\n",
       "    <tr style=\"text-align: right;\">\n",
       "      <th></th>\n",
       "      <th>ApplicantIncome</th>\n",
       "      <th>CoapplicantIncome</th>\n",
       "      <th>LoanAmount</th>\n",
       "      <th>Loan_Amount_Term</th>\n",
       "      <th>Credit_History</th>\n",
       "    </tr>\n",
       "  </thead>\n",
       "  <tbody>\n",
       "    <tr>\n",
       "      <th>count</th>\n",
       "      <td>614.000000</td>\n",
       "      <td>614.000000</td>\n",
       "      <td>592.000000</td>\n",
       "      <td>600.00000</td>\n",
       "      <td>564.000000</td>\n",
       "    </tr>\n",
       "    <tr>\n",
       "      <th>mean</th>\n",
       "      <td>5403.459283</td>\n",
       "      <td>1621.245798</td>\n",
       "      <td>146.412162</td>\n",
       "      <td>342.00000</td>\n",
       "      <td>0.842199</td>\n",
       "    </tr>\n",
       "    <tr>\n",
       "      <th>std</th>\n",
       "      <td>6109.041673</td>\n",
       "      <td>2926.248369</td>\n",
       "      <td>85.587325</td>\n",
       "      <td>65.12041</td>\n",
       "      <td>0.364878</td>\n",
       "    </tr>\n",
       "    <tr>\n",
       "      <th>min</th>\n",
       "      <td>150.000000</td>\n",
       "      <td>0.000000</td>\n",
       "      <td>9.000000</td>\n",
       "      <td>12.00000</td>\n",
       "      <td>0.000000</td>\n",
       "    </tr>\n",
       "    <tr>\n",
       "      <th>25%</th>\n",
       "      <td>2877.500000</td>\n",
       "      <td>0.000000</td>\n",
       "      <td>100.000000</td>\n",
       "      <td>360.00000</td>\n",
       "      <td>1.000000</td>\n",
       "    </tr>\n",
       "    <tr>\n",
       "      <th>50%</th>\n",
       "      <td>3812.500000</td>\n",
       "      <td>1188.500000</td>\n",
       "      <td>128.000000</td>\n",
       "      <td>360.00000</td>\n",
       "      <td>1.000000</td>\n",
       "    </tr>\n",
       "    <tr>\n",
       "      <th>75%</th>\n",
       "      <td>5795.000000</td>\n",
       "      <td>2297.250000</td>\n",
       "      <td>168.000000</td>\n",
       "      <td>360.00000</td>\n",
       "      <td>1.000000</td>\n",
       "    </tr>\n",
       "    <tr>\n",
       "      <th>max</th>\n",
       "      <td>81000.000000</td>\n",
       "      <td>41667.000000</td>\n",
       "      <td>700.000000</td>\n",
       "      <td>480.00000</td>\n",
       "      <td>1.000000</td>\n",
       "    </tr>\n",
       "  </tbody>\n",
       "</table>\n",
       "</div>"
      ],
      "text/plain": [
       "       ApplicantIncome  CoapplicantIncome  LoanAmount  Loan_Amount_Term  \\\n",
       "count       614.000000         614.000000  592.000000         600.00000   \n",
       "mean       5403.459283        1621.245798  146.412162         342.00000   \n",
       "std        6109.041673        2926.248369   85.587325          65.12041   \n",
       "min         150.000000           0.000000    9.000000          12.00000   \n",
       "25%        2877.500000           0.000000  100.000000         360.00000   \n",
       "50%        3812.500000        1188.500000  128.000000         360.00000   \n",
       "75%        5795.000000        2297.250000  168.000000         360.00000   \n",
       "max       81000.000000       41667.000000  700.000000         480.00000   \n",
       "\n",
       "       Credit_History  \n",
       "count      564.000000  \n",
       "mean         0.842199  \n",
       "std          0.364878  \n",
       "min          0.000000  \n",
       "25%          1.000000  \n",
       "50%          1.000000  \n",
       "75%          1.000000  \n",
       "max          1.000000  "
      ]
     },
     "execution_count": 4,
     "metadata": {},
     "output_type": "execute_result"
    }
   ],
   "source": [
    "df.describe()"
   ]
  },
  {
   "cell_type": "markdown",
   "id": "b40596f0",
   "metadata": {},
   "source": [
    "**ApplicantIncome**\n",
    "- Mean: ~5403, Std Dev: ~6109 - high variation.\n",
    "- Min: 150, Max: 81000 - extreme outliers present.\n",
    "- **Action**: Consider log transformation or capping outliers. But no transformation needed for tree-based models.\n",
    "\n",
    "**CoapplicantIncome**\n",
    "- Mean: ~1621, Std Dev: ~2926 - high variation.\n",
    "- Many zero values (no coapplicant).\n",
    "- Max: 41667 - extreme outliers present.\n",
    "- **Action**: Treat zeros carefully, consider log transform for non-zero values. But no transformation needed for tree-based models.\n",
    "\n",
    "**LoanAmount**\n",
    "- Mean: ~146, Std Dev: ~85 - moderately spread.\n",
    "- Min: 9, Max: 700 - presence of outliers.\n",
    "- Count: 592 (22 missing values).\n",
    "- **Action**: LoanAmount has min = 9, max = 700 so these extremes can pull the mean upward. Hence instead of mean impute missing values with median (robust against outliers and skewness). But no transformation needed for tree-based models.\n",
    "\n",
    "**Loan_Amount_Term**\n",
    "- Mean: ~342, Median: 360 - majority of loans are 30 years (360 months).\n",
    "- Std Dev: ~65 - limited variation.\n",
    "- Min: 12 months, Max: 480 months.\n",
    "- Count: 600 (14 missing values).\n",
    "- **Action**: Impute missing values with mode (360 months), since most loans follow this standard term.\n",
    "\n",
    "**Credit_History**\n",
    "- Mean: ~0.84, Median: 1 - most applicants have a good credit history.\n",
    "- Binary feature (0 = bad, 1 = good).\n",
    "- Count: 564 (50 missing values).\n",
    "- **Action**: Impute missing with mode (1).\n",
    "\n",
    "---\n",
    "\n",
    "**Key Insights**\n",
    "1. ApplicantIncome and CoapplicantIncome show high variation with extreme outliers (likely skewed),but tree-based models handle this well.\n",
    "2. LoanAmount contains missing values and outliers; median imputation is suitable.\n",
    "3. Loan_Amount_Term is dominated by 360 months; mode imputation is suitable.\n",
    "4. Credit_History is a strong predictor but has missing values; mode imputation recommended.\n",
    "\n",
    "Overall, the dataset has variation, outliers, and missing values. Only the missing values need to be addressed before modeling with tree-based methods."
   ]
  },
  {
   "cell_type": "code",
   "execution_count": 5,
   "id": "71ce485b",
   "metadata": {},
   "outputs": [
    {
     "name": "stdout",
     "output_type": "stream",
     "text": [
      "Loan_ID               0\n",
      "Gender               13\n",
      "Married               3\n",
      "Dependents           15\n",
      "Education             0\n",
      "Self_Employed        32\n",
      "ApplicantIncome       0\n",
      "CoapplicantIncome     0\n",
      "LoanAmount           22\n",
      "Loan_Amount_Term     14\n",
      "Credit_History       50\n",
      "Property_Area         0\n",
      "Loan_Status           0\n",
      "dtype: int64\n"
     ]
    }
   ],
   "source": [
    "print(df.isnull().sum())"
   ]
  },
  {
   "cell_type": "markdown",
   "id": "06bd97f6",
   "metadata": {},
   "source": [
    "## Preprocessing"
   ]
  },
  {
   "cell_type": "markdown",
   "id": "3c058cee",
   "metadata": {},
   "source": [
    "### Step1: Handle missing values"
   ]
  },
  {
   "cell_type": "code",
   "execution_count": 6,
   "id": "f3c57ee0",
   "metadata": {},
   "outputs": [],
   "source": [
    "# Impute missing values\n",
    "\n",
    "# Categorial columns\n",
    "for col in [\"Gender\", \"Married\", \"Self_Employed\"]:\n",
    "    mode_val = df[col].mode()[0]\n",
    "    df[col] = df[col].fillna(mode_val)\n",
    "\n",
    "# Numerical columns\n",
    "# Dependents - mode (most common value)\n",
    "df['Dependents'] = df['Dependents'].fillna(df['Dependents'].mode()[0])\n",
    "df['Dependents'] = df['Dependents'].replace('3+', 3).astype(float)\n",
    "\n",
    "# LoanAmount - median\n",
    "df['LoanAmount'] = df['LoanAmount'].fillna(df['LoanAmount'].median())\n",
    "\n",
    "# Loan_Amount_Term - mode (360 months)\n",
    "df['Loan_Amount_Term'] = df['Loan_Amount_Term'].fillna(df['Loan_Amount_Term'].mode()[0])\n",
    "\n",
    "# Credit_History → mode (most are 1)\n",
    "df['Credit_History'] = df['Credit_History'].fillna(df['Credit_History'].mode()[0])"
   ]
  },
  {
   "cell_type": "code",
   "execution_count": 7,
   "id": "313e98a9",
   "metadata": {},
   "outputs": [
    {
     "name": "stdout",
     "output_type": "stream",
     "text": [
      "Loan_ID              0\n",
      "Gender               0\n",
      "Married              0\n",
      "Dependents           0\n",
      "Education            0\n",
      "Self_Employed        0\n",
      "ApplicantIncome      0\n",
      "CoapplicantIncome    0\n",
      "LoanAmount           0\n",
      "Loan_Amount_Term     0\n",
      "Credit_History       0\n",
      "Property_Area        0\n",
      "Loan_Status          0\n",
      "dtype: int64\n"
     ]
    }
   ],
   "source": [
    "print(df.isnull().sum())"
   ]
  },
  {
   "cell_type": "markdown",
   "id": "4b9450d3",
   "metadata": {},
   "source": [
    "### Step2: Convert categorical variables to numerical using LabelEncoder"
   ]
  },
  {
   "cell_type": "markdown",
   "id": "35f59146",
   "metadata": {},
   "source": [
    "Decision Trees can inherently handle categorical data, but encoding might still be necessary depending on the implementation.\n",
    "   - Bagging (e.g., Random Forest) often uses Decision Trees, and categorical variables should be encoded for algorithms like Scikit-learn. Decision Trees and Random Forest can handle categorical splits without encoding, but Scikit-learn implementation expects numbers.\n",
    "   - Boosting (e.g., Gradient Boosting, AdaBoost) requires categorical data to be numerically encoded because gradient-based algorithms need numerical inputs."
   ]
  },
  {
   "cell_type": "code",
   "execution_count": 8,
   "id": "b23797cd",
   "metadata": {},
   "outputs": [],
   "source": [
    "from sklearn.preprocessing import LabelEncoder\n",
    "label_encoder = LabelEncoder()\n",
    "df['Gender'] = label_encoder.fit_transform(df['Gender'])\n",
    "df['Married'] = label_encoder.fit_transform(df['Married'])\n",
    "df['Education'] = label_encoder.fit_transform(df['Education'])\n",
    "df['Self_Employed'] = label_encoder.fit_transform(df['Self_Employed'])\n",
    "df['Property_Area'] = label_encoder.fit_transform(df['Property_Area'])\n",
    "df['Loan_Status'] = label_encoder.fit_transform(df['Loan_Status'])  # Target variable"
   ]
  },
  {
   "cell_type": "code",
   "execution_count": 9,
   "id": "a21ea6c8",
   "metadata": {},
   "outputs": [
    {
     "data": {
      "text/html": [
       "<div>\n",
       "<style scoped>\n",
       "    .dataframe tbody tr th:only-of-type {\n",
       "        vertical-align: middle;\n",
       "    }\n",
       "\n",
       "    .dataframe tbody tr th {\n",
       "        vertical-align: top;\n",
       "    }\n",
       "\n",
       "    .dataframe thead th {\n",
       "        text-align: right;\n",
       "    }\n",
       "</style>\n",
       "<table border=\"1\" class=\"dataframe\">\n",
       "  <thead>\n",
       "    <tr style=\"text-align: right;\">\n",
       "      <th></th>\n",
       "      <th>Loan_ID</th>\n",
       "      <th>Gender</th>\n",
       "      <th>Married</th>\n",
       "      <th>Dependents</th>\n",
       "      <th>Education</th>\n",
       "      <th>Self_Employed</th>\n",
       "      <th>ApplicantIncome</th>\n",
       "      <th>CoapplicantIncome</th>\n",
       "      <th>LoanAmount</th>\n",
       "      <th>Loan_Amount_Term</th>\n",
       "      <th>Credit_History</th>\n",
       "      <th>Property_Area</th>\n",
       "      <th>Loan_Status</th>\n",
       "    </tr>\n",
       "  </thead>\n",
       "  <tbody>\n",
       "    <tr>\n",
       "      <th>0</th>\n",
       "      <td>LP001002</td>\n",
       "      <td>1</td>\n",
       "      <td>0</td>\n",
       "      <td>0.0</td>\n",
       "      <td>0</td>\n",
       "      <td>0</td>\n",
       "      <td>5849</td>\n",
       "      <td>0.0</td>\n",
       "      <td>128.0</td>\n",
       "      <td>360.0</td>\n",
       "      <td>1.0</td>\n",
       "      <td>2</td>\n",
       "      <td>1</td>\n",
       "    </tr>\n",
       "    <tr>\n",
       "      <th>1</th>\n",
       "      <td>LP001003</td>\n",
       "      <td>1</td>\n",
       "      <td>1</td>\n",
       "      <td>1.0</td>\n",
       "      <td>0</td>\n",
       "      <td>0</td>\n",
       "      <td>4583</td>\n",
       "      <td>1508.0</td>\n",
       "      <td>128.0</td>\n",
       "      <td>360.0</td>\n",
       "      <td>1.0</td>\n",
       "      <td>0</td>\n",
       "      <td>0</td>\n",
       "    </tr>\n",
       "    <tr>\n",
       "      <th>2</th>\n",
       "      <td>LP001005</td>\n",
       "      <td>1</td>\n",
       "      <td>1</td>\n",
       "      <td>0.0</td>\n",
       "      <td>0</td>\n",
       "      <td>1</td>\n",
       "      <td>3000</td>\n",
       "      <td>0.0</td>\n",
       "      <td>66.0</td>\n",
       "      <td>360.0</td>\n",
       "      <td>1.0</td>\n",
       "      <td>2</td>\n",
       "      <td>1</td>\n",
       "    </tr>\n",
       "    <tr>\n",
       "      <th>3</th>\n",
       "      <td>LP001006</td>\n",
       "      <td>1</td>\n",
       "      <td>1</td>\n",
       "      <td>0.0</td>\n",
       "      <td>1</td>\n",
       "      <td>0</td>\n",
       "      <td>2583</td>\n",
       "      <td>2358.0</td>\n",
       "      <td>120.0</td>\n",
       "      <td>360.0</td>\n",
       "      <td>1.0</td>\n",
       "      <td>2</td>\n",
       "      <td>1</td>\n",
       "    </tr>\n",
       "    <tr>\n",
       "      <th>4</th>\n",
       "      <td>LP001008</td>\n",
       "      <td>1</td>\n",
       "      <td>0</td>\n",
       "      <td>0.0</td>\n",
       "      <td>0</td>\n",
       "      <td>0</td>\n",
       "      <td>6000</td>\n",
       "      <td>0.0</td>\n",
       "      <td>141.0</td>\n",
       "      <td>360.0</td>\n",
       "      <td>1.0</td>\n",
       "      <td>2</td>\n",
       "      <td>1</td>\n",
       "    </tr>\n",
       "  </tbody>\n",
       "</table>\n",
       "</div>"
      ],
      "text/plain": [
       "    Loan_ID  Gender  Married  Dependents  Education  Self_Employed  \\\n",
       "0  LP001002       1        0         0.0          0              0   \n",
       "1  LP001003       1        1         1.0          0              0   \n",
       "2  LP001005       1        1         0.0          0              1   \n",
       "3  LP001006       1        1         0.0          1              0   \n",
       "4  LP001008       1        0         0.0          0              0   \n",
       "\n",
       "   ApplicantIncome  CoapplicantIncome  LoanAmount  Loan_Amount_Term  \\\n",
       "0             5849                0.0       128.0             360.0   \n",
       "1             4583             1508.0       128.0             360.0   \n",
       "2             3000                0.0        66.0             360.0   \n",
       "3             2583             2358.0       120.0             360.0   \n",
       "4             6000                0.0       141.0             360.0   \n",
       "\n",
       "   Credit_History  Property_Area  Loan_Status  \n",
       "0             1.0              2            1  \n",
       "1             1.0              0            0  \n",
       "2             1.0              2            1  \n",
       "3             1.0              2            1  \n",
       "4             1.0              2            1  "
      ]
     },
     "execution_count": 9,
     "metadata": {},
     "output_type": "execute_result"
    }
   ],
   "source": [
    "df.head()"
   ]
  },
  {
   "cell_type": "markdown",
   "id": "261b1c93",
   "metadata": {},
   "source": [
    "### Step3: Split the Data"
   ]
  },
  {
   "cell_type": "code",
   "execution_count": 10,
   "id": "b87848b1",
   "metadata": {},
   "outputs": [],
   "source": [
    "from sklearn.model_selection import train_test_split\n",
    "X = df.drop(columns=['Loan_ID', 'Loan_Status'])  # Features\n",
    "y = df['Loan_Status']  # Target variable\n",
    "\n",
    "# Split the data into training and testing sets\n",
    "X_train, X_test, y_train, y_test = train_test_split(X, y, test_size=0.3, random_state=42)"
   ]
  },
  {
   "cell_type": "code",
   "execution_count": 11,
   "id": "0341d580",
   "metadata": {},
   "outputs": [
    {
     "data": {
      "text/html": [
       "<div>\n",
       "<style scoped>\n",
       "    .dataframe tbody tr th:only-of-type {\n",
       "        vertical-align: middle;\n",
       "    }\n",
       "\n",
       "    .dataframe tbody tr th {\n",
       "        vertical-align: top;\n",
       "    }\n",
       "\n",
       "    .dataframe thead th {\n",
       "        text-align: right;\n",
       "    }\n",
       "</style>\n",
       "<table border=\"1\" class=\"dataframe\">\n",
       "  <thead>\n",
       "    <tr style=\"text-align: right;\">\n",
       "      <th></th>\n",
       "      <th>Gender</th>\n",
       "      <th>Married</th>\n",
       "      <th>Dependents</th>\n",
       "      <th>Education</th>\n",
       "      <th>Self_Employed</th>\n",
       "      <th>ApplicantIncome</th>\n",
       "      <th>CoapplicantIncome</th>\n",
       "      <th>LoanAmount</th>\n",
       "      <th>Loan_Amount_Term</th>\n",
       "      <th>Credit_History</th>\n",
       "      <th>Property_Area</th>\n",
       "    </tr>\n",
       "  </thead>\n",
       "  <tbody>\n",
       "    <tr>\n",
       "      <th>553</th>\n",
       "      <td>1</td>\n",
       "      <td>1</td>\n",
       "      <td>0.0</td>\n",
       "      <td>1</td>\n",
       "      <td>0</td>\n",
       "      <td>2454</td>\n",
       "      <td>2333.0</td>\n",
       "      <td>181.0</td>\n",
       "      <td>360.0</td>\n",
       "      <td>0.0</td>\n",
       "      <td>2</td>\n",
       "    </tr>\n",
       "    <tr>\n",
       "      <th>601</th>\n",
       "      <td>1</td>\n",
       "      <td>1</td>\n",
       "      <td>0.0</td>\n",
       "      <td>1</td>\n",
       "      <td>0</td>\n",
       "      <td>2894</td>\n",
       "      <td>2792.0</td>\n",
       "      <td>155.0</td>\n",
       "      <td>360.0</td>\n",
       "      <td>1.0</td>\n",
       "      <td>0</td>\n",
       "    </tr>\n",
       "    <tr>\n",
       "      <th>261</th>\n",
       "      <td>1</td>\n",
       "      <td>0</td>\n",
       "      <td>0.0</td>\n",
       "      <td>0</td>\n",
       "      <td>0</td>\n",
       "      <td>2060</td>\n",
       "      <td>2209.0</td>\n",
       "      <td>134.0</td>\n",
       "      <td>360.0</td>\n",
       "      <td>1.0</td>\n",
       "      <td>1</td>\n",
       "    </tr>\n",
       "    <tr>\n",
       "      <th>496</th>\n",
       "      <td>1</td>\n",
       "      <td>1</td>\n",
       "      <td>0.0</td>\n",
       "      <td>1</td>\n",
       "      <td>0</td>\n",
       "      <td>2600</td>\n",
       "      <td>1700.0</td>\n",
       "      <td>107.0</td>\n",
       "      <td>360.0</td>\n",
       "      <td>1.0</td>\n",
       "      <td>0</td>\n",
       "    </tr>\n",
       "    <tr>\n",
       "      <th>529</th>\n",
       "      <td>1</td>\n",
       "      <td>0</td>\n",
       "      <td>0.0</td>\n",
       "      <td>1</td>\n",
       "      <td>0</td>\n",
       "      <td>6783</td>\n",
       "      <td>0.0</td>\n",
       "      <td>130.0</td>\n",
       "      <td>360.0</td>\n",
       "      <td>1.0</td>\n",
       "      <td>1</td>\n",
       "    </tr>\n",
       "  </tbody>\n",
       "</table>\n",
       "</div>"
      ],
      "text/plain": [
       "     Gender  Married  Dependents  Education  Self_Employed  ApplicantIncome  \\\n",
       "553       1        1         0.0          1              0             2454   \n",
       "601       1        1         0.0          1              0             2894   \n",
       "261       1        0         0.0          0              0             2060   \n",
       "496       1        1         0.0          1              0             2600   \n",
       "529       1        0         0.0          1              0             6783   \n",
       "\n",
       "     CoapplicantIncome  LoanAmount  Loan_Amount_Term  Credit_History  \\\n",
       "553             2333.0       181.0             360.0             0.0   \n",
       "601             2792.0       155.0             360.0             1.0   \n",
       "261             2209.0       134.0             360.0             1.0   \n",
       "496             1700.0       107.0             360.0             1.0   \n",
       "529                0.0       130.0             360.0             1.0   \n",
       "\n",
       "     Property_Area  \n",
       "553              2  \n",
       "601              0  \n",
       "261              1  \n",
       "496              0  \n",
       "529              1  "
      ]
     },
     "execution_count": 11,
     "metadata": {},
     "output_type": "execute_result"
    }
   ],
   "source": [
    "X_train.head()"
   ]
  },
  {
   "cell_type": "code",
   "execution_count": 12,
   "id": "d4c7b141",
   "metadata": {},
   "outputs": [
    {
     "data": {
      "text/plain": [
       "553    0\n",
       "601    1\n",
       "261    1\n",
       "496    1\n",
       "529    1\n",
       "Name: Loan_Status, dtype: int64"
      ]
     },
     "execution_count": 12,
     "metadata": {},
     "output_type": "execute_result"
    }
   ],
   "source": [
    "y_train.head()"
   ]
  },
  {
   "cell_type": "markdown",
   "id": "973b5171",
   "metadata": {},
   "source": [
    "## Decision Tree Classifier"
   ]
  },
  {
   "cell_type": "markdown",
   "id": "d731bfd7",
   "metadata": {},
   "source": [
    "### With Entropy"
   ]
  },
  {
   "cell_type": "code",
   "execution_count": 13,
   "id": "676330ad",
   "metadata": {},
   "outputs": [
    {
     "name": "stdout",
     "output_type": "stream",
     "text": [
      "Decision Tree with Entropy - Accuracy:  0.7135135135135136\n",
      "Confusion Matrix:\n",
      " [[33 32]\n",
      " [21 99]]\n",
      "Classification Report:\n",
      "               precision    recall  f1-score   support\n",
      "\n",
      "           0       0.61      0.51      0.55        65\n",
      "           1       0.76      0.82      0.79       120\n",
      "\n",
      "    accuracy                           0.71       185\n",
      "   macro avg       0.68      0.67      0.67       185\n",
      "weighted avg       0.70      0.71      0.71       185\n",
      "\n"
     ]
    }
   ],
   "source": [
    "from sklearn.tree import DecisionTreeClassifier\n",
    "from sklearn.metrics import accuracy_score, classification_report, confusion_matrix\n",
    "\n",
    "# Initialize the model\n",
    "# The model will use Information Gain (based on entropy) to decide how to split nodes.\n",
    "dt_entropy_model = DecisionTreeClassifier(criterion='entropy',random_state=42)\n",
    "\n",
    "# Train the model\n",
    "dt_entropy_model.fit(X_train, y_train)\n",
    "\n",
    "# Predictions and evaluation\n",
    "y_pred_entropy = dt_entropy_model.predict(X_test)\n",
    "accuracy_entropy = accuracy_score(y_test, y_pred_entropy)\n",
    "\n",
    "print(\"Decision Tree with Entropy - Accuracy: \", accuracy_entropy)\n",
    "print(\"Confusion Matrix:\\n\", confusion_matrix(y_test, y_pred_entropy))\n",
    "print(\"Classification Report:\\n\", classification_report(y_test, y_pred_entropy))"
   ]
  },
  {
   "cell_type": "markdown",
   "id": "b70d16fb",
   "metadata": {},
   "source": [
    "### With Gini Index"
   ]
  },
  {
   "cell_type": "code",
   "execution_count": 14,
   "id": "83eff5cc",
   "metadata": {},
   "outputs": [
    {
     "name": "stdout",
     "output_type": "stream",
     "text": [
      "Decision Tree with Gini Index - Accuracy:  0.6432432432432432\n",
      "Confusion Matrix:\n",
      " [[30 35]\n",
      " [31 89]]\n",
      "Classification Report:\n",
      "               precision    recall  f1-score   support\n",
      "\n",
      "           0       0.49      0.46      0.48        65\n",
      "           1       0.72      0.74      0.73       120\n",
      "\n",
      "    accuracy                           0.64       185\n",
      "   macro avg       0.60      0.60      0.60       185\n",
      "weighted avg       0.64      0.64      0.64       185\n",
      "\n"
     ]
    }
   ],
   "source": [
    "dt_gini_model = DecisionTreeClassifier(criterion='gini', random_state=42)\n",
    "dt_gini_model.fit(X_train, y_train)\n",
    "\n",
    "# Predictions and evaluation\n",
    "y_pred_gini = dt_gini_model.predict(X_test)\n",
    "accuracy_gini = accuracy_score(y_test, y_pred_gini)\n",
    "\n",
    "print(\"Decision Tree with Gini Index - Accuracy: \", accuracy_gini)\n",
    "print(\"Confusion Matrix:\\n\", confusion_matrix(y_test, y_pred_gini))\n",
    "print(\"Classification Report:\\n\", classification_report(y_test, y_pred_gini))"
   ]
  },
  {
   "cell_type": "markdown",
   "id": "d9a9deaa",
   "metadata": {},
   "source": [
    "### Pruning Techniques"
   ]
  },
  {
   "cell_type": "markdown",
   "id": "ab9530d0",
   "metadata": {},
   "source": [
    "Pruning helps to reduce the size of the decision tree and prevent overfitting.\n",
    "\n",
    "* Pre-Pruning: Limit the depth or number of samples required for a split.\n",
    "* Post-Pruning: Perform pruning after the tree is fully grown, removing nodes that do not improve the model’s performance.\n"
   ]
  },
  {
   "cell_type": "code",
   "execution_count": 15,
   "id": "51d0c762",
   "metadata": {},
   "outputs": [
    {
     "name": "stdout",
     "output_type": "stream",
     "text": [
      "Decision Tree with Pre-Pruning - Accuracy: 0.7405405405405405\n",
      "Confusion Matrix:\n",
      " [[ 22  43]\n",
      " [  5 115]]\n",
      "Classification Report:\n",
      "               precision    recall  f1-score   support\n",
      "\n",
      "           0       0.81      0.34      0.48        65\n",
      "           1       0.73      0.96      0.83       120\n",
      "\n",
      "    accuracy                           0.74       185\n",
      "   macro avg       0.77      0.65      0.65       185\n",
      "weighted avg       0.76      0.74      0.70       185\n",
      "\n"
     ]
    }
   ],
   "source": [
    "# Train a Decision Tree with pre-pruning:\n",
    "\n",
    "# - max_depth=4 - limits tree growth to avoid overfitting\n",
    "# - min_samples_split=10 - a node must have at least 10 samples to split further\n",
    "# - criterion defaults to \"gini\" (Gini Impurity)\n",
    "dt_pruned = DecisionTreeClassifier(max_depth=4, min_samples_split=10, random_state=42)\n",
    "dt_pruned.fit(X_train, y_train)\n",
    "\n",
    "# Make predictions on test data\n",
    "y_pred_pruned = dt_pruned.predict(X_test)\n",
    "\n",
    "# Evaluate model performance\n",
    "accuracy_pruned = accuracy_score(y_test, y_pred_pruned)\n",
    "print(\"Decision Tree with Pre-Pruning - Accuracy:\", accuracy_pruned)\n",
    "print(\"Confusion Matrix:\\n\", confusion_matrix(y_test, y_pred_pruned))\n",
    "print(\"Classification Report:\\n\", classification_report(y_test, y_pred_pruned))"
   ]
  },
  {
   "cell_type": "markdown",
   "id": "22ca929d",
   "metadata": {},
   "source": [
    "### Hyperparameter Tuning"
   ]
  },
  {
   "cell_type": "code",
   "execution_count": 16,
   "id": "1a19a2bd",
   "metadata": {},
   "outputs": [
    {
     "name": "stdout",
     "output_type": "stream",
     "text": [
      "Best Parameters:  {'criterion': 'gini', 'max_depth': 3, 'min_samples_split': 2}\n",
      "Best Decision Tree - Accuracy:  0.7783783783783784\n"
     ]
    }
   ],
   "source": [
    "from sklearn.model_selection import GridSearchCV\n",
    "\n",
    "# Define the parameter grid for hyperparameter tuning\n",
    "param_grid = {\n",
    "    'max_depth': [3, 5, 7, 9],\n",
    "    'min_samples_split': [2, 5, 10],\n",
    "    'criterion': ['gini', 'entropy']\n",
    "}\n",
    "\n",
    "# Perform Grid Search with 5-fold cross-validation\n",
    "grid_search_dt = GridSearchCV(DecisionTreeClassifier(random_state=42), param_grid, cv=5)\n",
    "grid_search_dt.fit(X_train, y_train)\n",
    "\n",
    "# Extract best model and evaluate\n",
    "print(\"Best Parameters: \", grid_search_dt.best_params_)\n",
    "best_dt = grid_search_dt.best_estimator_\n",
    "y_pred_best_dt = best_dt.predict(X_test)\n",
    "accuracy_best_dt = accuracy_score(y_test, y_pred_best_dt)\n",
    "\n",
    "print(\"Best Decision Tree - Accuracy: \", accuracy_best_dt)\n"
   ]
  },
  {
   "cell_type": "markdown",
   "id": "fa323515",
   "metadata": {},
   "source": [
    "\n",
    "This code performs hyperparameter tuning for a Decision Tree classifier using GridSearchCV. It searches for the best combination of max_depth, min_samples_split, and criterion over 5-fold cross-validation. After finding the best parameters, it trains the best model on the training data and predicts on the test set, followed by printing the best parameters and the model's accuracy on the test data.\n",
    "\n",
    "Overfitting is handled by pruning and limiting tree complexity."
   ]
  },
  {
   "cell_type": "markdown",
   "id": "1143b26d",
   "metadata": {},
   "source": [
    "## Bagging with Random Forest"
   ]
  },
  {
   "cell_type": "markdown",
   "id": "16658b37",
   "metadata": {},
   "source": [
    "Bagging stands for Bootstrap Aggregating and is a way of reducing variance by training multiple models on different subsets of data."
   ]
  },
  {
   "cell_type": "code",
   "execution_count": 17,
   "id": "a05b03ef",
   "metadata": {},
   "outputs": [
    {
     "name": "stdout",
     "output_type": "stream",
     "text": [
      "Random Forest (Bagging) - Accuracy: 0.7783783783783784\n",
      "Confusion Matrix:\n",
      " [[ 32  33]\n",
      " [  8 112]]\n",
      "Classification Report:\n",
      "               precision    recall  f1-score   support\n",
      "\n",
      "           0       0.80      0.49      0.61        65\n",
      "           1       0.77      0.93      0.85       120\n",
      "\n",
      "    accuracy                           0.78       185\n",
      "   macro avg       0.79      0.71      0.73       185\n",
      "weighted avg       0.78      0.78      0.76       185\n",
      "\n"
     ]
    }
   ],
   "source": [
    "from sklearn.ensemble import RandomForestClassifier\n",
    "\n",
    "# Initialize Random Forest:\n",
    "# - n_estimators=100 - build 100 decision trees\n",
    "# - bootstrap=True   - sample data with replacement (bagging)\n",
    "# - random_state=42  - reproducibility\n",
    "rf_model = RandomForestClassifier(n_estimators=100, random_state=42, bootstrap=True)\n",
    "\n",
    "# Train on training data\n",
    "rf_model.fit(X_train, y_train)\n",
    "\n",
    "# Make predictions on test data\n",
    "y_pred_rf = rf_model.predict(X_test)\n",
    "\n",
    "# Evaluate performance\n",
    "accuracy_rf = accuracy_score(y_test, y_pred_rf)\n",
    "print(\"Random Forest (Bagging) - Accuracy:\", accuracy_rf)\n",
    "\n",
    "# Show confusion matrix (TP, TN, FP, FN counts)\n",
    "print(\"Confusion Matrix:\\n\", confusion_matrix(y_test, y_pred_rf))\n",
    "\n",
    "# Show precision, recall, f1-score per class\n",
    "print(\"Classification Report:\\n\", classification_report(y_test, y_pred_rf))\n"
   ]
  },
  {
   "cell_type": "markdown",
   "id": "137d0e70",
   "metadata": {},
   "source": [
    "### Feature Importance in Random Forest"
   ]
  },
  {
   "cell_type": "markdown",
   "id": "e00c0dab",
   "metadata": {},
   "source": [
    "Random Forest provides feature importance, which helps in identifying the most relevant features."
   ]
  },
  {
   "cell_type": "code",
   "execution_count": 18,
   "id": "407f141d",
   "metadata": {},
   "outputs": [
    {
     "name": "stdout",
     "output_type": "stream",
     "text": [
      "Gender: 0.023617892886428113\n",
      "Married: 0.02816497673677057\n",
      "Dependents: 0.04832053088658131\n",
      "Education: 0.024060564241272963\n",
      "Self_Employed: 0.01913863998076867\n",
      "ApplicantIncome: 0.2019245859094005\n",
      "CoapplicantIncome: 0.11218164678732671\n",
      "LoanAmount: 0.18450008562593972\n",
      "Loan_Amount_Term: 0.047780718081722996\n",
      "Credit_History: 0.25668081056109027\n",
      "Property_Area: 0.05362954830269823\n"
     ]
    }
   ],
   "source": [
    "# Feature Importance\n",
    "feature_importance = rf_model.feature_importances_\n",
    "features = X_train.columns\n",
    "\n",
    "# Display the feature importance\n",
    "for feature, importance in zip(features, feature_importance):\n",
    "    print(f\"{feature}: {importance}\")"
   ]
  },
  {
   "cell_type": "markdown",
   "id": "19590efb",
   "metadata": {},
   "source": [
    "### Hyperparameter Tuning of RandomForrest"
   ]
  },
  {
   "cell_type": "code",
   "execution_count": 19,
   "id": "c29c2986",
   "metadata": {},
   "outputs": [
    {
     "name": "stdout",
     "output_type": "stream",
     "text": [
      "Best parameters for Random Forest: {'max_depth': 3, 'min_samples_split': 5, 'n_estimators': 100}\n",
      "Random Forest Accuracy (with Grid Search CV):  0.7837837837837838\n",
      "Confusion Matrix:\n",
      " [[ 27  38]\n",
      " [  2 118]]\n",
      "Classification Report:\n",
      "               precision    recall  f1-score   support\n",
      "\n",
      "           0       0.93      0.42      0.57        65\n",
      "           1       0.76      0.98      0.86       120\n",
      "\n",
      "    accuracy                           0.78       185\n",
      "   macro avg       0.84      0.70      0.71       185\n",
      "weighted avg       0.82      0.78      0.76       185\n",
      "\n"
     ]
    }
   ],
   "source": [
    "# Define the hyperparameter grid to search\n",
    "param_grid_rf = {\n",
    "    'n_estimators': [100, 200, 300],    # number of trees\n",
    "    'max_depth': [3, 5, 7, 9],          # max depth of each tree\n",
    "    'min_samples_split': [2, 5, 10]     # min samples required to split a node\n",
    "}\n",
    "\n",
    "# Grid Search with 5-fold cross-validation\n",
    "grid_search_rf = GridSearchCV(RandomForestClassifier(random_state=42), param_grid_rf, cv=5)\n",
    "grid_search_rf.fit(X_train, y_train)\n",
    "\n",
    "# Get the best parameters and the best model\n",
    "best_params_rf = grid_search_rf.best_params_\n",
    "best_rf_model = grid_search_rf.best_estimator_\n",
    "\n",
    "# Print the best parameters\n",
    "print(f\"Best parameters for Random Forest: {best_params_rf}\")\n",
    "\n",
    "# Use the best model to make predictions on the test set\n",
    "y_pred_rf_grid = best_rf_model.predict(X_test)\n",
    "\n",
    "# Evaluate the model's performance\n",
    "accuracy_rf_grid = accuracy_score(y_test, y_pred_rf_grid)\n",
    "print(\"Random Forest Accuracy (with Grid Search CV): \", accuracy_rf_grid)\n",
    "print(\"Confusion Matrix:\\n\", confusion_matrix(y_test, y_pred_rf_grid))\n",
    "print(\"Classification Report:\\n\", classification_report(y_test, y_pred_rf_grid))\n"
   ]
  },
  {
   "cell_type": "markdown",
   "id": "3527fddc",
   "metadata": {},
   "source": [
    "## Boosting"
   ]
  },
  {
   "cell_type": "markdown",
   "id": "bad1ae93",
   "metadata": {},
   "source": [
    "### AdaBoost"
   ]
  },
  {
   "cell_type": "code",
   "execution_count": 20,
   "id": "3f3f8978",
   "metadata": {},
   "outputs": [
    {
     "name": "stderr",
     "output_type": "stream",
     "text": [
      "/opt/anaconda3/lib/python3.12/site-packages/sklearn/ensemble/_weight_boosting.py:527: FutureWarning: The SAMME.R algorithm (the default) is deprecated and will be removed in 1.6. Use the SAMME algorithm to circumvent this warning.\n",
      "  warnings.warn(\n"
     ]
    },
    {
     "name": "stdout",
     "output_type": "stream",
     "text": [
      "AdaBoost Classifier - Accuracy: 0.7783783783783784\n",
      "Confusion Matrix:\n",
      " [[ 31  34]\n",
      " [  7 113]]\n",
      "Classification Report:\n",
      "               precision    recall  f1-score   support\n",
      "\n",
      "           0       0.82      0.48      0.60        65\n",
      "           1       0.77      0.94      0.85       120\n",
      "\n",
      "    accuracy                           0.78       185\n",
      "   macro avg       0.79      0.71      0.72       185\n",
      "weighted avg       0.79      0.78      0.76       185\n",
      "\n"
     ]
    }
   ],
   "source": [
    "from sklearn.ensemble import AdaBoostClassifier\n",
    "\n",
    "# Initialize AdaBoost with Decision Tree as base estimator\n",
    "ada_model = AdaBoostClassifier(n_estimators=100, random_state=42)\n",
    "\n",
    "# Train the AdaBoost model\n",
    "ada_model.fit(X_train, y_train)\n",
    "\n",
    "# Make predictions on test data\n",
    "y_pred_ada = ada_model.predict(X_test)\n",
    "\n",
    "# Evaluate AdaBoost model performance\n",
    "accuracy_ada = accuracy_score(y_test, y_pred_ada)\n",
    "print(\"AdaBoost Classifier - Accuracy:\", accuracy_ada)\n",
    "print(\"Confusion Matrix:\\n\", confusion_matrix(y_test, y_pred_ada))\n",
    "print(\"Classification Report:\\n\", classification_report(y_test, y_pred_ada))"
   ]
  },
  {
   "cell_type": "markdown",
   "id": "c1640b2a",
   "metadata": {},
   "source": [
    "#### Hyperparameter Tuning for ADA Boost"
   ]
  },
  {
   "cell_type": "code",
   "execution_count": 21,
   "id": "7abe4725",
   "metadata": {},
   "outputs": [
    {
     "name": "stdout",
     "output_type": "stream",
     "text": [
      "Best parameters for Ada Boost: {'algorithm': 'SAMME', 'learning_rate': 0.01, 'n_estimators': 100}\n",
      "ADA Boost Accuracy (with Grid Search CV):  0.7837837837837838\n",
      "Confusion Matrix:\n",
      " [[ 27  38]\n",
      " [  2 118]]\n",
      "Classification Report:\n",
      "               precision    recall  f1-score   support\n",
      "\n",
      "           0       0.93      0.42      0.57        65\n",
      "           1       0.76      0.98      0.86       120\n",
      "\n",
      "    accuracy                           0.78       185\n",
      "   macro avg       0.84      0.70      0.71       185\n",
      "weighted avg       0.82      0.78      0.76       185\n",
      "\n"
     ]
    }
   ],
   "source": [
    "param_grid_ada = {\n",
    "    'n_estimators': [100, 200],\n",
    "    'learning_rate': [0.01, 0.1],\n",
    "    'algorithm': ['SAMME']\n",
    "}\n",
    "\n",
    "grid_search_ada = GridSearchCV(AdaBoostClassifier(random_state=42), param_grid_ada, cv=5)\n",
    "grid_search_ada.fit(X_train, y_train)\n",
    "\n",
    "# Get the best parameters and the best model\n",
    "best_params_ada = grid_search_ada.best_params_\n",
    "best_ada_model = grid_search_ada.best_estimator_\n",
    "\n",
    "# Print the best parameters\n",
    "print(f\"Best parameters for Ada Boost: {best_params_ada}\")\n",
    "\n",
    "# Use the best model to make predictions on the test set\n",
    "y_pred_ada_grid = best_ada_model.predict(X_test)\n",
    "\n",
    "# Evaluate the model's performance\n",
    "accuracy_ada_grid = accuracy_score(y_test, y_pred_ada_grid)\n",
    "print(\"ADA Boost Accuracy (with Grid Search CV): \", accuracy_ada_grid)\n",
    "print(\"Confusion Matrix:\\n\", confusion_matrix(y_test, y_pred_ada_grid))\n",
    "print(\"Classification Report:\\n\", classification_report(y_test, y_pred_ada_grid))\n"
   ]
  },
  {
   "cell_type": "markdown",
   "id": "e69067dd",
   "metadata": {},
   "source": [
    "### Gradient Boosting"
   ]
  },
  {
   "cell_type": "code",
   "execution_count": 22,
   "id": "5ed29c95",
   "metadata": {},
   "outputs": [
    {
     "name": "stdout",
     "output_type": "stream",
     "text": [
      "Gradient Boosting Classifier - Accuracy: 0.7567567567567568\n",
      "Confusion Matrix:\n",
      " [[ 25  40]\n",
      " [  5 115]]\n",
      "Classification Report:\n",
      "               precision    recall  f1-score   support\n",
      "\n",
      "           0       0.83      0.38      0.53        65\n",
      "           1       0.74      0.96      0.84       120\n",
      "\n",
      "    accuracy                           0.76       185\n",
      "   macro avg       0.79      0.67      0.68       185\n",
      "weighted avg       0.77      0.76      0.73       185\n",
      "\n"
     ]
    }
   ],
   "source": [
    "from sklearn.ensemble import GradientBoostingClassifier\n",
    "\n",
    "# Initialize Gradient Boosting Classifier\n",
    "gb_model = GradientBoostingClassifier(n_estimators=100, random_state=42)\n",
    "\n",
    "# Train the Gradient Boosting model\n",
    "gb_model.fit(X_train, y_train)\n",
    "\n",
    "# Make predictions on test data\n",
    "y_pred_gb = gb_model.predict(X_test)\n",
    "\n",
    "# Evaluate Gradient Boosting model performance\n",
    "accuracy_gb = accuracy_score(y_test, y_pred_gb)\n",
    "print(\"Gradient Boosting Classifier - Accuracy:\", accuracy_gb)\n",
    "print(\"Confusion Matrix:\\n\", confusion_matrix(y_test, y_pred_gb))\n",
    "print(\"Classification Report:\\n\", classification_report(y_test, y_pred_gb))"
   ]
  },
  {
   "cell_type": "markdown",
   "id": "098da26f",
   "metadata": {},
   "source": [
    "#### Hyperparameter Tuning for Gradient Boosting"
   ]
  },
  {
   "cell_type": "code",
   "execution_count": 23,
   "id": "9f58a4bb",
   "metadata": {},
   "outputs": [
    {
     "name": "stdout",
     "output_type": "stream",
     "text": [
      "Best parameters for GB Boost: {'learning_rate': 0.01, 'max_depth': 3, 'n_estimators': 100}\n",
      "Gradient Boost Accuracy (with Grid Search CV):  0.7783783783783784\n",
      "Confusion Matrix:\n",
      " [[ 26  39]\n",
      " [  2 118]]\n",
      "Classification Report:\n",
      "               precision    recall  f1-score   support\n",
      "\n",
      "           0       0.93      0.40      0.56        65\n",
      "           1       0.75      0.98      0.85       120\n",
      "\n",
      "    accuracy                           0.78       185\n",
      "   macro avg       0.84      0.69      0.71       185\n",
      "weighted avg       0.81      0.78      0.75       185\n",
      "\n"
     ]
    }
   ],
   "source": [
    "param_grid_gb = {\n",
    "    'n_estimators': [100, 200],\n",
    "    'max_depth': [3, 6],\n",
    "    'learning_rate': [0.01, 0.1]\n",
    "}\n",
    "\n",
    "grid_search_gb = GridSearchCV(GradientBoostingClassifier(random_state=42), param_grid_gb, cv=5)\n",
    "grid_search_gb.fit(X_train, y_train)\n",
    "\n",
    "# Get the best parameters and the best model\n",
    "best_params_gb = grid_search_gb.best_params_\n",
    "best_gb_model = grid_search_gb.best_estimator_\n",
    "\n",
    "# Print the best parameters\n",
    "print(f\"Best parameters for GB Boost: {best_params_gb}\")\n",
    "\n",
    "# Use the best model to make predictions on the test set\n",
    "y_pred_gb_grid = best_gb_model.predict(X_test)\n",
    "\n",
    "# Evaluate the model's performance\n",
    "accuracy_gb_grid = accuracy_score(y_test, y_pred_gb_grid)\n",
    "print(\"Gradient Boost Accuracy (with Grid Search CV): \", accuracy_gb_grid)\n",
    "print(\"Confusion Matrix:\\n\", confusion_matrix(y_test, y_pred_gb_grid))\n",
    "print(\"Classification Report:\\n\", classification_report(y_test, y_pred_gb_grid))\n"
   ]
  },
  {
   "cell_type": "markdown",
   "id": "c1da109f",
   "metadata": {},
   "source": [
    "### XGBoost (Extreme Gradient Boosting)"
   ]
  },
  {
   "cell_type": "code",
   "execution_count": 24,
   "id": "58c67ce9",
   "metadata": {},
   "outputs": [
    {
     "name": "stdout",
     "output_type": "stream",
     "text": [
      "XGBoost Accuracy:  0.745945945945946\n",
      "Confusion Matrix:\n",
      " [[ 33  32]\n",
      " [ 15 105]]\n",
      "Classification Report:\n",
      "               precision    recall  f1-score   support\n",
      "\n",
      "           0       0.69      0.51      0.58        65\n",
      "           1       0.77      0.88      0.82       120\n",
      "\n",
      "    accuracy                           0.75       185\n",
      "   macro avg       0.73      0.69      0.70       185\n",
      "weighted avg       0.74      0.75      0.74       185\n",
      "\n"
     ]
    }
   ],
   "source": [
    "import xgboost as xgb\n",
    "\n",
    "# Initialize XGBoost\n",
    "xgb_model = xgb.XGBClassifier(n_estimators=100, random_state=42)\n",
    "xgb_model.fit(X_train, y_train)\n",
    "\n",
    "# Predictions and evaluation\n",
    "y_pred_xgb = xgb_model.predict(X_test)\n",
    "accuracy_xgb = accuracy_score(y_test, y_pred_xgb)\n",
    "\n",
    "print(\"XGBoost Accuracy: \", accuracy_xgb)\n",
    "print(\"Confusion Matrix:\\n\", confusion_matrix(y_test, y_pred_xgb))\n",
    "print(\"Classification Report:\\n\", classification_report(y_test, y_pred_xgb))\n"
   ]
  },
  {
   "cell_type": "markdown",
   "id": "e939d133",
   "metadata": {},
   "source": [
    "#### Hyperparameter Tuning for XGB Boosting"
   ]
  },
  {
   "cell_type": "code",
   "execution_count": 25,
   "id": "afc59432",
   "metadata": {},
   "outputs": [
    {
     "name": "stdout",
     "output_type": "stream",
     "text": [
      "Best parameters for XGB Boost: {'learning_rate': 0.01, 'max_depth': 6, 'n_estimators': 100}\n",
      "XGB Boost Accuracy (with Grid Search CV):  0.7783783783783784\n",
      "Confusion Matrix:\n",
      " [[ 28  37]\n",
      " [  4 116]]\n",
      "Classification Report:\n",
      "               precision    recall  f1-score   support\n",
      "\n",
      "           0       0.88      0.43      0.58        65\n",
      "           1       0.76      0.97      0.85       120\n",
      "\n",
      "    accuracy                           0.78       185\n",
      "   macro avg       0.82      0.70      0.71       185\n",
      "weighted avg       0.80      0.78      0.75       185\n",
      "\n"
     ]
    }
   ],
   "source": [
    "param_grid_xgb = {\n",
    "    'n_estimators': [100, 200],\n",
    "    'max_depth': [3, 6],\n",
    "    'learning_rate': [0.01, 0.1]\n",
    "}\n",
    "\n",
    "grid_search_xgb = GridSearchCV(xgb.XGBClassifier(random_state=42), param_grid_xgb, cv=5)\n",
    "grid_search_xgb.fit(X_train, y_train)\n",
    "\n",
    "# Get the best parameters and the best model\n",
    "best_params_xgb = grid_search_xgb.best_params_\n",
    "best_xgb_model = grid_search_xgb.best_estimator_\n",
    "\n",
    "# Print the best parameters\n",
    "print(f\"Best parameters for XGB Boost: {best_params_xgb}\")\n",
    "\n",
    "# Use the best model to make predictions on the test set\n",
    "y_pred_xgb_grid = best_xgb_model.predict(X_test)\n",
    "\n",
    "# Evaluate the model's performance\n",
    "accuracy_xgb_grid = accuracy_score(y_test, y_pred_xgb_grid)\n",
    "print(\"XGB Boost Accuracy (with Grid Search CV): \", accuracy_xgb_grid)\n",
    "print(\"Confusion Matrix:\\n\", confusion_matrix(y_test, y_pred_xgb_grid))\n",
    "print(\"Classification Report:\\n\", classification_report(y_test, y_pred_xgb_grid))\n"
   ]
  },
  {
   "cell_type": "markdown",
   "id": "10775513",
   "metadata": {},
   "source": [
    "## Conclusion"
   ]
  },
  {
   "cell_type": "markdown",
   "id": "233bbc2c",
   "metadata": {},
   "source": [
    "This case study demonstrated the use of Decision Tree, Bagging (Random Forest), and Boosting (AdaBoost, Gradient Boosting, XGBoost) for predicting loan approval.\n",
    "\n",
    "**Key observations from the results include:**\n",
    "\n",
    "- **Decision Trees** are simple and interpretable but prone to overfitting, resulting in lower accuracy compared to ensemble methods. Pre-pruning and hyperparameter tuning improve performance but still lag behind ensemble approaches.\n",
    "\n",
    "- **Bagging (Random Forest)** effectively reduces variance and produces stable, robust models. It performed very well, achieving high accuracy with relatively straightforward tuning.\n",
    "\n",
    "- **Boosting methods (AdaBoost, Gradient Boosting, XGBoost)** improve model performance by sequentially focusing on harder-to-predict instances. In this dataset, after hyperparameter tuning, all boosting methods achieved accuracy comparable to Random Forest. XGBoost did not significantly outperform AdaBoost or Random Forest, though it remains a strong choice for larger datasets or more complex problems.\n",
    "\n",
    "Overall, ensemble methods clearly outperform standalone Decision Trees, while differences among tuned ensemble methods are minor for this dataset."
   ]
  },
  {
   "cell_type": "markdown",
   "id": "e34250e1",
   "metadata": {},
   "source": [
    "## Final Recommendation"
   ]
  },
  {
   "cell_type": "markdown",
   "id": "6c96277b",
   "metadata": {},
   "source": [
    "- **Random Forest** is recommended for a robust, stable model that is quick and easy to tune. It offers strong performance with minimal computational complexity.\n",
    "\n",
    "- **AdaBoost or Gradient Boosting** can be considered if you want to experiment with boosting techniques, as they achieve similar accuracy to Random Forest.\n",
    "\n",
    "- **XGBoost** is suitable when computational resources allow for more careful tuning or for larger, more complex datasets. For this dataset, it does not provide a clear accuracy advantage over Random Forest or AdaBoost."
   ]
  }
 ],
 "metadata": {
  "kernelspec": {
   "display_name": "base",
   "language": "python",
   "name": "python3"
  },
  "language_info": {
   "codemirror_mode": {
    "name": "ipython",
    "version": 3
   },
   "file_extension": ".py",
   "mimetype": "text/x-python",
   "name": "python",
   "nbconvert_exporter": "python",
   "pygments_lexer": "ipython3",
   "version": "3.12.7"
  }
 },
 "nbformat": 4,
 "nbformat_minor": 5
}
